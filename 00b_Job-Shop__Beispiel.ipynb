{
 "cells": [
  {
   "cell_type": "markdown",
   "id": "c42a0cfe-3773-4923-9c0a-d8e17b433e45",
   "metadata": {},
   "source": [
    "# Job-Shop Scheduling Beispiel"
   ]
  },
  {
   "cell_type": "code",
   "execution_count": 2,
   "id": "0d08a025-93fd-4e0f-af44-59c42ec55ca3",
   "metadata": {},
   "outputs": [],
   "source": [
    "import json"
   ]
  },
  {
   "cell_type": "code",
   "execution_count": 3,
   "id": "46b325bc-e60b-4bb5-b91d-9e4714155098",
   "metadata": {},
   "outputs": [],
   "source": [
    "import pandas as pd\n",
    "import matplotlib.pyplot as plt\n",
    "import matplotlib.patches as mpatches"
   ]
  },
  {
   "cell_type": "code",
   "execution_count": 4,
   "id": "ba50ea02-d899-4968-8be9-4e42e231219a",
   "metadata": {},
   "outputs": [
    {
     "ename": "ModuleNotFoundError",
     "evalue": "No module named 'plotter'",
     "output_type": "error",
     "traceback": [
      "\u001b[1;31m---------------------------------------------------------------------------\u001b[0m",
      "\u001b[1;31mModuleNotFoundError\u001b[0m                       Traceback (most recent call last)",
      "Cell \u001b[1;32mIn[4], line 1\u001b[0m\n\u001b[1;32m----> 1\u001b[0m \u001b[38;5;28;01mfrom\u001b[39;00m \u001b[38;5;21;01mplotter\u001b[39;00m \u001b[38;5;28;01mimport\u001b[39;00m plot_gantt_jobs\n\u001b[0;32m      2\u001b[0m \u001b[38;5;28;01mfrom\u001b[39;00m \u001b[38;5;21;01mplotter\u001b[39;00m \u001b[38;5;28;01mimport\u001b[39;00m plot_gantt_machines\n",
      "\u001b[1;31mModuleNotFoundError\u001b[0m: No module named 'plotter'"
     ]
    }
   ],
   "source": [
    "from plotter import plot_gantt_jobs\n",
    "from plotter import plot_gantt_machines"
   ]
  },
  {
   "cell_type": "code",
   "execution_count": null,
   "id": "780a42ee-919d-4110-bbc3-e2b6ec9a6c20",
   "metadata": {},
   "outputs": [],
   "source": [
    "# Datei laden\n",
    "with open(\"data/jobshop_instances_named.json\", \"r\", encoding=\"utf-8\") as f:\n",
    "    jobshop_instances = json.load(f)\n"
   ]
  },
  {
   "cell_type": "code",
   "execution_count": null,
   "id": "a8db2e4d-9c33-4fa7-8bee-66f406dceaad",
   "metadata": {},
   "outputs": [],
   "source": [
    "instance_ft10 = jobshop_instances[\"instance ft10\"]\n",
    "\n",
    "for job_name in sorted(instance_ft10, key=lambda x: int(x.split()[1])):\n",
    "    ops = instance_ft10[job_name]\n",
    "    op_str = '\\t'.join(f\"({m}, {d})\" for m, d in ops)\n",
    "    print(f\"{job_name}:\\t{op_str}\")\n",
    "    #print(op_str)"
   ]
  },
  {
   "cell_type": "markdown",
   "id": "ea80cf58-81f7-4fb1-9264-98739b21fe7d",
   "metadata": {},
   "source": [
    "> (Maschine, Dauer) je Operation"
   ]
  },
  {
   "cell_type": "code",
   "execution_count": null,
   "id": "1608061b-0cd8-4d1a-86a8-0236a012f267",
   "metadata": {},
   "outputs": [],
   "source": [
    "# JSON → Matrix (list of lists)\n",
    "job_order = sorted(instance_ft10, key=lambda x: int(x.split()[1]))  # \"job 0\", \"job 1\", ...\n",
    "matrix = [instance_ft10[job_name] for job_name in job_order]\n",
    "\n",
    "# Matrix printen\n",
    "for job in matrix:\n",
    "    #job = '\\t'.join(f\"({m}, {d})\" for m, d in job)\n",
    "    print(job)\n"
   ]
  },
  {
   "cell_type": "markdown",
   "id": "67738fa1-abd9-4ccf-9ae6-fe6e9676f50f",
   "metadata": {},
   "source": [
    "## Heuristische Regeln (Dispatching Rules)\n",
    "Einfach anzuwenden, lokal entscheidend, oft als Baseline verwendet.\n"
   ]
  },
  {
   "cell_type": "markdown",
   "id": "208facda-bfb7-4743-b68a-e7ac8fdf3ba2",
   "metadata": {},
   "source": [
    "### FCFS – First Come First Serve (Earliest-Start-First)\n",
    "Jobs werden in der Reihenfolge ihrer Indizes eingeplant, ohne Optimierung.\n"
   ]
  },
  {
   "cell_type": "code",
   "execution_count": null,
   "id": "db0d1ac8-517d-4429-b408-85705a31b953",
   "metadata": {},
   "outputs": [],
   "source": [
    "schedule_fcfs = []\n",
    "machine_ready = {}\n",
    "job_ready = [0] * len(matrix)\n",
    "\n",
    "for job_id, operations in enumerate(matrix):\n",
    "    for machine, duration in operations:\n",
    "        start = max(job_ready[job_id], machine_ready.get(machine, 0))\n",
    "        end = start + duration\n",
    "\n",
    "        schedule_fcfs.append({\n",
    "            'Job': f'Job {job_id}',\n",
    "            'Machine': f'M{machine}',\n",
    "            'Start': start,\n",
    "            'Duration': duration,\n",
    "            'End': end\n",
    "        })\n",
    "\n",
    "        job_ready[job_id] = end\n",
    "        machine_ready[machine] = end\n",
    "\n",
    "# In DataFrame\n",
    "import pandas as pd\n",
    "df_schedule_fcfs = pd.DataFrame(schedule_fcfs)\n",
    "df_schedule_fcfs\n"
   ]
  },
  {
   "cell_type": "code",
   "execution_count": null,
   "id": "f4446a95-5d55-4138-9739-11002b979eeb",
   "metadata": {},
   "outputs": [],
   "source": [
    "plot_gantt_jobs(df_schedule_fcfs, 'Gantt-Diagramm für \"First Come First Serve\"')"
   ]
  },
  {
   "cell_type": "code",
   "execution_count": null,
   "id": "b55853e3-718b-44d7-ab94-0663737fc9b6",
   "metadata": {},
   "outputs": [],
   "source": [
    "plot_gantt_machines(df_schedule_fcfs, 'Gantt-Diagramm für \"First Come First Serve\"')"
   ]
  }
 ],
 "metadata": {
  "kernelspec": {
   "display_name": "Python [conda env:base] *",
   "language": "python",
   "name": "conda-base-py"
  },
  "language_info": {
   "codemirror_mode": {
    "name": "ipython",
    "version": 3
   },
   "file_extension": ".py",
   "mimetype": "text/x-python",
   "name": "python",
   "nbconvert_exporter": "python",
   "pygments_lexer": "ipython3",
   "version": "3.12.9"
  }
 },
 "nbformat": 4,
 "nbformat_minor": 5
}
