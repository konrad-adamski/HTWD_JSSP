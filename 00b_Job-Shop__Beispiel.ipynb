{
 "cells": [
  {
   "cell_type": "markdown",
   "id": "c42a0cfe-3773-4923-9c0a-d8e17b433e45",
   "metadata": {},
   "source": [
    "# Job-Shop Scheduling Beispiel"
   ]
  },
  {
   "cell_type": "code",
   "execution_count": 1,
   "id": "0d08a025-93fd-4e0f-af44-59c42ec55ca3",
   "metadata": {},
   "outputs": [],
   "source": [
    "import json"
   ]
  },
  {
   "cell_type": "code",
   "execution_count": 3,
   "id": "46b325bc-e60b-4bb5-b91d-9e4714155098",
   "metadata": {},
   "outputs": [],
   "source": [
    "import pandas as pd\n",
    "import matplotlib.pyplot as plt\n",
    "import matplotlib.patches as mpatches"
   ]
  },
  {
   "cell_type": "code",
   "execution_count": 7,
   "id": "ba50ea02-d899-4968-8be9-4e42e231219a",
   "metadata": {},
   "outputs": [],
   "source": [
    "from utils.plotter import plot_gantt_jobs\n",
    "from utils.plotter import plot_gantt_machines"
   ]
  },
  {
   "cell_type": "code",
   "execution_count": 9,
   "id": "780a42ee-919d-4110-bbc3-e2b6ec9a6c20",
   "metadata": {},
   "outputs": [],
   "source": [
    "# Datei laden\n",
    "with open(\"data/jobshop_instances_named.json\", \"r\", encoding=\"utf-8\") as f:\n",
    "    jobshop_instances = json.load(f)\n"
   ]
  },
  {
   "cell_type": "code",
   "execution_count": 11,
   "id": "a8db2e4d-9c33-4fa7-8bee-66f406dceaad",
   "metadata": {},
   "outputs": [
    {
     "name": "stdout",
     "output_type": "stream",
     "text": [
      "job 0:\t(0, 29)\t(1, 78)\t(2, 9)\t(3, 36)\t(4, 49)\t(5, 11)\t(6, 62)\t(7, 56)\t(8, 44)\t(9, 21)\n",
      "job 1:\t(0, 43)\t(2, 90)\t(4, 75)\t(9, 11)\t(3, 69)\t(1, 28)\t(6, 46)\t(5, 46)\t(7, 72)\t(8, 30)\n",
      "job 2:\t(1, 91)\t(0, 85)\t(3, 39)\t(2, 74)\t(8, 90)\t(5, 10)\t(7, 12)\t(6, 89)\t(9, 45)\t(4, 33)\n",
      "job 3:\t(1, 81)\t(2, 95)\t(0, 71)\t(4, 99)\t(6, 9)\t(8, 52)\t(7, 85)\t(3, 98)\t(9, 22)\t(5, 43)\n",
      "job 4:\t(2, 14)\t(0, 6)\t(1, 22)\t(5, 61)\t(3, 26)\t(4, 69)\t(8, 21)\t(7, 49)\t(9, 72)\t(6, 53)\n",
      "job 5:\t(2, 84)\t(1, 2)\t(5, 52)\t(3, 95)\t(8, 48)\t(9, 72)\t(0, 47)\t(6, 65)\t(4, 6)\t(7, 25)\n",
      "job 6:\t(1, 46)\t(0, 37)\t(3, 61)\t(2, 13)\t(6, 32)\t(5, 21)\t(9, 32)\t(8, 89)\t(7, 30)\t(4, 55)\n",
      "job 7:\t(2, 31)\t(0, 86)\t(1, 46)\t(5, 74)\t(4, 32)\t(6, 88)\t(8, 19)\t(9, 48)\t(7, 36)\t(3, 79)\n",
      "job 8:\t(0, 76)\t(1, 69)\t(3, 76)\t(5, 51)\t(2, 85)\t(9, 11)\t(6, 40)\t(7, 89)\t(4, 26)\t(8, 74)\n",
      "job 9:\t(1, 85)\t(0, 13)\t(2, 61)\t(6, 7)\t(8, 64)\t(9, 76)\t(5, 47)\t(3, 52)\t(4, 90)\t(7, 45)\n"
     ]
    }
   ],
   "source": [
    "instance_ft10 = jobshop_instances[\"instance ft10\"]\n",
    "\n",
    "for job_name in sorted(instance_ft10, key=lambda x: int(x.split()[1])):\n",
    "    ops = instance_ft10[job_name]\n",
    "    op_str = '\\t'.join(f\"({m}, {d})\" for m, d in ops)\n",
    "    print(f\"{job_name}:\\t{op_str}\")\n",
    "    #print(op_str)"
   ]
  },
  {
   "cell_type": "markdown",
   "id": "ea80cf58-81f7-4fb1-9264-98739b21fe7d",
   "metadata": {},
   "source": [
    "> (Maschine, Dauer) je Operation"
   ]
  },
  {
   "cell_type": "code",
   "execution_count": null,
   "id": "1608061b-0cd8-4d1a-86a8-0236a012f267",
   "metadata": {},
   "outputs": [],
   "source": [
    "# JSON → Matrix (list of lists)\n",
    "job_order = sorted(instance_ft10, key=lambda x: int(x.split()[1]))  # \"job 0\", \"job 1\", ...\n",
    "matrix = [instance_ft10[job_name] for job_name in job_order]\n",
    "\n",
    "# Matrix printen\n",
    "for job in matrix:\n",
    "    #job = '\\t'.join(f\"({m}, {d})\" for m, d in job)\n",
    "    print(job)\n"
   ]
  },
  {
   "cell_type": "markdown",
   "id": "67738fa1-abd9-4ccf-9ae6-fe6e9676f50f",
   "metadata": {},
   "source": [
    "## Heuristische Regeln (Dispatching Rules)\n",
    "Einfach anzuwenden, lokal entscheidend, oft als Baseline verwendet.\n"
   ]
  },
  {
   "cell_type": "markdown",
   "id": "208facda-bfb7-4743-b68a-e7ac8fdf3ba2",
   "metadata": {},
   "source": [
    "### FCFS – First Come First Serve (Earliest-Start-First)\n",
    "Jobs werden in der Reihenfolge ihrer Indizes eingeplant, ohne Optimierung.\n"
   ]
  },
  {
   "cell_type": "code",
   "execution_count": null,
   "id": "db0d1ac8-517d-4429-b408-85705a31b953",
   "metadata": {},
   "outputs": [],
   "source": [
    "schedule_fcfs = []\n",
    "machine_ready = {}\n",
    "job_ready = [0] * len(matrix)\n",
    "\n",
    "for job_id, operations in enumerate(matrix):\n",
    "    for machine, duration in operations:\n",
    "        start = max(job_ready[job_id], machine_ready.get(machine, 0))\n",
    "        end = start + duration\n",
    "\n",
    "        schedule_fcfs.append({\n",
    "            'Job': f'Job {job_id}',\n",
    "            'Machine': f'M{machine}',\n",
    "            'Start': start,\n",
    "            'Duration': duration,\n",
    "            'End': end\n",
    "        })\n",
    "\n",
    "        job_ready[job_id] = end\n",
    "        machine_ready[machine] = end\n",
    "\n",
    "# In DataFrame\n",
    "import pandas as pd\n",
    "df_schedule_fcfs = pd.DataFrame(schedule_fcfs)\n",
    "df_schedule_fcfs\n"
   ]
  },
  {
   "cell_type": "code",
   "execution_count": null,
   "id": "f4446a95-5d55-4138-9739-11002b979eeb",
   "metadata": {},
   "outputs": [],
   "source": [
    "plot_gantt_jobs(df_schedule_fcfs, 'Gantt-Diagramm für \"First Come First Serve\"')"
   ]
  },
  {
   "cell_type": "code",
   "execution_count": null,
   "id": "b55853e3-718b-44d7-ab94-0663737fc9b6",
   "metadata": {},
   "outputs": [],
   "source": [
    "plot_gantt_machines(df_schedule_fcfs, 'Gantt-Diagramm für \"First Come First Serve\"')"
   ]
  }
 ],
 "metadata": {
  "kernelspec": {
   "display_name": "Python [conda env:base] *",
   "language": "python",
   "name": "conda-base-py"
  },
  "language_info": {
   "codemirror_mode": {
    "name": "ipython",
    "version": 3
   },
   "file_extension": ".py",
   "mimetype": "text/x-python",
   "name": "python",
   "nbconvert_exporter": "python",
   "pygments_lexer": "ipython3",
   "version": "3.12.9"
  }
 },
 "nbformat": 4,
 "nbformat_minor": 5
}
