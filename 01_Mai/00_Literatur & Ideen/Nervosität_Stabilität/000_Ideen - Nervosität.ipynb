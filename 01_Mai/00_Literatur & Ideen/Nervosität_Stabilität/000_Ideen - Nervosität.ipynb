{
 "cells": [
  {
   "cell_type": "markdown",
   "id": "59548aed-fd65-429f-884d-4489a2d63f5b",
   "metadata": {},
   "source": [
    "# Nervosität"
   ]
  },
  {
   "cell_type": "markdown",
   "id": "bbfc904a-8110-4d31-aad3-fd09b153bf0e",
   "metadata": {},
   "source": [
    "\n",
    "| **Kürzel**                                          | **Formel**                                                                                                                              | **Bedeutung**                                                                                                                          |\n",
    "| --------------------------------------------------- | --------------------------------------------------------------------------------------------------------------------------------------- | -------------------------------------------------------------------------------------------------------------------------------------- |\n",
    "| **TSD**<br>(Total Start-time Deviation)             | \\$ \\displaystyle \\text{TSD}= \\sum\\_{i=1}^{n}\\lvert S\\_i^{\\text{neu}}-S\\_i^{\\text{alt}}\\rvert \\$                                         | Summe aller Startzeit-Verschiebungen – misst, **wie weit** sich der Plan ändert.                                                       |\n",
    "| **W-TSD**<br>(Weighted TSD)                         | \\$ \\displaystyle \\text{W-TSD}= \\sum\\_{i=1}^{n} w\\_i ,\\lvert S\\_i^{\\text{neu}}-S\\_i^{\\text{alt}}\\rvert \\$                                | Wie TSD, aber jede Operation \\$i\\$ wird mit einem Gewicht \\$w\\_i\\$ (z. B. Priorität) skaliert.                                         |\n",
    "| **\\$N\\_\\Delta\\$**<br>(Number of Changed Operations) | \\$ \\displaystyle N\\_\\Delta = \\sum\\_{i=1}^{n} \\mathbf{1}!\\bigl\\[\\lvert S\\_i^{\\text{neu}}-S\\_i^{\\text{alt}}\\rvert > \\varepsilon \\bigr] \\$ | Zählt Operationen, deren Startzeit mehr als die Toleranz \\$\\varepsilon\\$ verschoben wurde – misst, **wie viele** Jobs betroffen sind.  |\n",
    "| **CΔ**<br>(Completion-time Deviation)               | \\$ \\displaystyle \\text{CΔ}= \\sum\\_{i=1}^{n}\\lvert C\\_i^{\\text{neu}}-C\\_i^{\\text{alt}}\\rvert \\$                                          | Entspricht TSD, aber für Fertigstellungszeiten \\$C\\_i\\$ – wichtig für Liefertermine.                                                   |\n",
    "| **Multi-Ziel-Funktion**                             | \\$ \\displaystyle \\min( \\alpha F\\_{\\text{Leistung}} + \\beta \\text{TSD}) \\$                                                              | Optimiert Leistung (z. B. Makespan \\$C\\_{\\max}\\$) **und** Stabilität gleichzeitig; \\$\\alpha,\\beta\\$ steuern das Verhältnis.            |"
   ]
  },
  {
   "cell_type": "markdown",
   "id": "093e657c-5f7f-46e8-b381-e9b1419f19ac",
   "metadata": {},
   "source": [
    "## Total Start‐time Deviation (TSD)\n",
    "\n",
    "$$\n",
    "\\text{TSD}\n",
    "= \\sum_{i=1}^{n} \\bigl|\\,S_i^{\\text{neu}} - S_i^{\\text{alt}}\\,\\bigr|\n",
    "$$\n",
    "\n",
    "* \\$n\\$: Anzahl der Operationen im Schedule\n",
    "* \\$S\\_i^{\\text{alt}}\\$: Geplante Startzeit der Operation \\$i\\$ im ursprünglichen (alten) Plan\n",
    "* \\$S\\_i^{\\text{neu}}\\$: Startzeit der Operation \\$i\\$ im neu berechneten Plan\n",
    "* \\$\\lvert S\\_i^{\\text{neu}} - S\\_i^{\\text{alt}}\\rvert\\$: Absolute Differenz der Startzeiten, also die Verschiebung der Operation \\$i\\$\n",
    "* \\$\\sum\\_{i=1}^{n}\\$: Summation über alle \\$n\\$ Operationen&#x20;"
   ]
  },
  {
   "cell_type": "markdown",
   "id": "156917e9-168b-4260-9106-2c960cb7b1b3",
   "metadata": {},
   "source": [
    "## Weighted Start‐time Deviation (W-TSD)\n",
    "\n",
    "$$\n",
    "\\text{W-TSD}\n",
    "= \\sum_{i=1}^{n} w_i \\,\\bigl|\\,S_i^{\\text{neu}} - S_i^{\\text{alt}}\\,\\bigr|\n",
    "$$\n",
    "\n",
    "* \\$n\\$: Anzahl der Operationen im Schedule\n",
    "* \\$w\\_i\\$: Gewichtung der Operation \\$i\\$ (z. B. nach Priorität oder Kosten)\n",
    "* \\$S\\_i^{\\text{alt}}\\$: Geplante Startzeit der Operation \\$i\\$ im ursprünglichen (alten) Plan\n",
    "* \\$S\\_i^{\\text{neu}}\\$: Startzeit der Operation \\$i\\$ im neu berechneten Plan\n",
    "* \\$\\lvert S\\_i^{\\text{neu}} - S\\_i^{\\text{alt}}\\rvert\\$: Absolute Differenz der Startzeiten (Verschiebung der Operation \\$i\\$)\n",
    "* \\$\\sum\\_{i=1}^{n}\\$: Summation über alle \\$n\\$ Operationen&#x20;\n"
   ]
  },
  {
   "cell_type": "markdown",
   "id": "6d87c641-cc36-48ae-8a60-e2fd0b670d2a",
   "metadata": {},
   "source": [
    "## Number of Changed Operations (\\$N\\_\\Delta\\$)\n",
    "\n",
    "$$\n",
    "N_\\Delta\n",
    "= \\sum_{i=1}^{n}\n",
    "  \\mathbf{1}\\!\\bigl[\\lvert S_i^{\\text{neu}} - S_i^{\\text{alt}}\\rvert > \\varepsilon\\bigr]\n",
    "$$\n",
    "\n",
    "* \\$n\\$: Anzahl der Operationen im Schedule\n",
    "* \\$\\varepsilon\\$: Toleranzschwelle für eine als relevant angesehene Verschiebung\n",
    "* \\$\\mathbf{1}\\[\\cdot]\\$: Indikatorfunktion, die 1 ergibt, wenn die Bedingung wahr ist, sonst 0\n",
    "* \\$\\lvert S\\_i^{\\text{neu}} - S\\_i^{\\text{alt}}\\rvert > \\varepsilon\\$: Prüft, ob die Verschiebung der Operation \\$i\\$ größer als \\$\\varepsilon\\$ ist\n",
    "* \\$\\sum\\_{i=1}^{n}\\$: Summation über alle \\$n\\$ Operationen&#x20;\n"
   ]
  },
  {
   "cell_type": "markdown",
   "id": "a56664a1-a37c-4d2d-a102-7f5127fb58e5",
   "metadata": {},
   "source": [
    "## Completion‐time Deviation (CΔ)\n",
    "\n",
    "$$\n",
    "\\text{CΔ}\n",
    "= \\sum_{i=1}^{n} \\bigl|\\;C_i^{\\text{neu}} - C_i^{\\text{alt}}\\bigr|\n",
    "$$\n",
    "\n",
    "* \\$n\\$: Anzahl der Operationen im Schedule\n",
    "* \\$C\\_i^{\\text{alt}}\\$: Geplante Fertigstellungszeit der Operation \\$i\\$ im ursprünglichen Plan\n",
    "* \\$C\\_i^{\\text{neu}}\\$: Fertigstellungszeit der Operation \\$i\\$ im neu berechneten Plan\n",
    "* \\$\\lvert C\\_i^{\\text{neu}} - C\\_i^{\\text{alt}}\\rvert\\$: Absolute Differenz der Fertigstellungszeiten – misst die Verschiebung des Endzeitpunkts von Operation \\$i\\$\n",
    "* \\$\\sum\\_{i=1}^{n}\\$: Summation über alle \\$n\\$ Operationen&#x20;\n"
   ]
  },
  {
   "cell_type": "markdown",
   "id": "1d26daec-1ae3-48d3-b236-2bf0cbd2599b",
   "metadata": {},
   "source": [
    "## Multi‐Objective‐Funktion\n",
    "\n",
    "$$\n",
    "\\min\\;\\Bigl(\\,\n",
    "  \\alpha\\;F_{\\text{Leistung}}\n",
    "  \\;+\\;\n",
    "  \\beta\\;\\text{TSD}\n",
    "\\Bigr)\n",
    "$$\n",
    "\n",
    "* \\$\\alpha,\\beta\\$: Gewichtungsfaktoren zur Balance zwischen Leistung und Stabilität\n",
    "* \\$F\\_{\\text{Leistung}}\\$: Leistungskennzahl (z. B. Makespan \\$C\\_{\\max}\\$, mittlere Durchlaufzeit o. Ä.)\n",
    "* \\$\\text{TSD}\\$: Total Start‐time Deviation (siehe oben)\n",
    "* \\$\\min\\$: Ziel, die Kombination aus hoher Produktivität und geringer Nervosität zu minimieren&#x20;\n"
   ]
  },
  {
   "cell_type": "code",
   "execution_count": null,
   "id": "d12aeff4-5c2b-4eb8-ab01-7065e6975991",
   "metadata": {},
   "outputs": [],
   "source": []
  }
 ],
 "metadata": {
  "kernelspec": {
   "display_name": "Python [conda env:base] *",
   "language": "python",
   "name": "conda-base-py"
  },
  "language_info": {
   "codemirror_mode": {
    "name": "ipython",
    "version": 3
   },
   "file_extension": ".py",
   "mimetype": "text/x-python",
   "name": "python",
   "nbconvert_exporter": "python",
   "pygments_lexer": "ipython3",
   "version": "3.12.9"
  }
 },
 "nbformat": 4,
 "nbformat_minor": 5
}
