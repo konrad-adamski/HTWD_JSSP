{
 "cells": [
  {
   "cell_type": "markdown",
   "id": "9ef7bd1b-a7a3-494f-99c6-dc691b3d53cb",
   "metadata": {},
   "source": [
    "## I) Vieira et al, 2003\n"
   ]
  },
  {
   "cell_type": "markdown",
   "id": "c131ef4d-fd89-408f-95bb-137420b4739b",
   "metadata": {
    "jp-MarkdownHeadingCollapsed": true
   },
   "source": [
    "## Wu, Storer & Chang (1993)"
   ]
  },
  {
   "cell_type": "markdown",
   "id": "d219208f-2e9d-4b8d-b694-2804dc6d3a27",
   "metadata": {},
   "source": [
    "Sie definieren den Einfluss von Planänderungen als „nonregular performance measure“ und quantifizieren ihn mithilfe folgender Kennzahlen:\n",
    "\n",
    "1. **Abweichungen der Startzeiten** zwischen dem neuen und dem ursprünglichen Plan\n",
    "2. **Sequenzdifferenzmaß**: Unterschiede in der Reihenfolge der geplanten Aufträge\n",
    "\n",
    "> “Wu, Storer, and Chang (1993), for instance, have said that the impact of schedule change is a nonregular performance measure defined in two ways: (1) the starting time deviations between the new schedule and the original schedule, and (2) a measure of the sequence difference between the two schedules.” (S. 47)&#x20;\n"
   ]
  },
  {
   "cell_type": "markdown",
   "id": "0bb0c395-b62a-4ef3-9a37-dc3c31a7eb27",
   "metadata": {},
   "source": [
    "## Shafaei & Brunn (1999 a, b)"
   ]
  },
  {
   "cell_type": "markdown",
   "id": "a446bc1a-0c07-4141-abf8-12cc253347ec",
   "metadata": {},
   "source": [
    "Sie kritisieren, dass rein zeitbasierte Kennzahlen die wirtschaftliche Performance nicht ausreichend abbilden, und schlagen stattdessen eine **Gesamt-Kosten-Funktion** vor, die folgende Komponenten berücksichtigt:\n",
    "\n",
    "1. **Job-Fälligkeitsdatum**\n",
    "2. **Fertigstellungszeit**\n",
    "3. **Anzahl der Aufträge**\n",
    "4. **Anzahl der Operationen**\n",
    "5. **Bearbeitungszeit je Operation**\n",
    "6. **Rohmaterialkosten je Auftrag**\n",
    "7. **Bearbeitungskosten je Operation**\n",
    "8. **Auftragsumsatz**\n",
    "9. **Startzeiten der Bearbeitung**\n",
    "10. **Freigabezeit des Auftrags**\n",
    "11. **Tardiness (Verspätung) je Auftrag**\n",
    "12. **Haltekostenrate (Work-in-Process)**\n",
    "13. **Tardiness-Kostenrate**&#x20;\n",
    "\n",
    "> “Shafaei and Brunn (1999a, b) have proposed the use of a total cost function in terms of job due date, completion time, number of jobs, number of operations, operation processing time, job raw material cost, processing cost of operations, job revenue, processing start times, job release time, job tardiness, holding cost rate, and tardiness cost rate.” (S. 48)&#x20;\n"
   ]
  },
  {
   "cell_type": "markdown",
   "id": "71cba77b-c445-4792-932f-47704a193c7d",
   "metadata": {},
   "source": [
    "Shafaei, R. and P. Brunn, “Workshop scheduling using practical (inaccurate) data—Part 1: the performance of heuristic scheduling rules in a dynamic job shop environment using a rolling time horizon approach.” Int. J. Prod. Res., 37(17), 3913–3925 (1999a).\n",
    "\n",
    "Shafaei, R. and P. Brunn, “Workshop scheduling using practical (inaccurate) data—Part 2: an investigation of the robustness of scheduling rules in a dynamic and stochastic environment.” Int. J. Prod. Res., 37(18), 4105–4117 (1999b)."
   ]
  },
  {
   "cell_type": "markdown",
   "id": "c17a088a-7ff8-45b7-9f77-694b846519b0",
   "metadata": {},
   "source": [
    "## II) Wu, Storer & Chang (1993)\n",
    "ONE-MACHINE RESCHEDULING HEURISTICS WITH \n",
    "EFFICIENCY AND STABILITY AS CRITERIA "
   ]
  },
  {
   "cell_type": "markdown",
   "id": "0a6e4492-a58a-422b-9d96-1c779e662070",
   "metadata": {},
   "source": [
    "> Problem: <br>\n",
    "> bezieht sich auf Jobs (nicht Operationen) & nur eine Machine\n",
    "\n",
    "\n",
    "> Es muss angepasst werden an Multi-Machinen-Scheduling-Problem und die Granularität muss von Jobs auf Operationen"
   ]
  },
  {
   "cell_type": "markdown",
   "id": "b7079950-aaa0-472c-9e12-ef1a18ec27f6",
   "metadata": {},
   "source": [
    "## Schedule deviation (2.1.3)"
   ]
  },
  {
   "cell_type": "markdown",
   "id": "7c53983d-5da4-42bd-98b0-0777bc31732c",
   "metadata": {},
   "source": [
    "**1. Abweichung vom Originalplan**\n",
    "\n",
    "$$\n",
    "D_{0}(\\sigma) \\;=\\; \\sum_{i \\in N'} \\bigl|\\,t_{i}(\\sigma)\\;-\\;t_{i}^{0}\\bigr|\n",
    "$$\n",
    "\n",
    "\n",
    "* $N'$: Menge der Jobs, die nach dem störenden Ereignis noch nicht begonnen wurden\n",
    "* $\\sigma$: Der neue Plan, der nach dem Rescheduling resultiert\n",
    "* $t_{i}(\\sigma)$: Geplante Startzeit von Job $i$ im neuen Plan $\\sigma$\n",
    "* $t_{i}^{0}$: Ursprüngliche geplante Startzeit von Job $i$ im Plan vor der Störung\n",
    "* $\\lvert x\\rvert$: Absolutwert von $x$, hier zur Messung der Zeitabweichung\n",
    "\n",
    "---\n",
    "\n",
    "**2. Abweichung vom Right-Shift-Plan**\n",
    "\n",
    "$$\n",
    "D_{1}(\\sigma) \\;=\\; \\sum_{i \\in N'} \\bigl|\\,t_{i}(\\sigma)\\;-\\;t'_{i}\\bigr|\n",
    "$$\n",
    "\n",
    "\n",
    "* $N'$: Menge der Jobs, die nach dem störenden Ereignis noch nicht begonnen wurden\n",
    "* $\\sigma$: Der neue Plan, der nach dem Rescheduling resultiert\n",
    "* $t_{i}(\\sigma)$: Geplante Startzeit von Job $i$ im neuen Plan $\\sigma$\n",
    "* $t'_{i}$: Geplante Startzeit von Job $i$ im Right-Shift-Plan (Plan, der die ursprüngliche Reihenfolge bewahrt und alle verbleibenden Jobs minimal nach rechts verschiebt, um die Störung abzupuffern)\n",
    "* $\\lvert x\\rvert$: Absolutwert von $x$, hier zur Messung der Zeitabweichung&#x20;"
   ]
  },
  {
   "cell_type": "markdown",
   "id": "8e57187c-b389-458a-afc1-032a1cb4953f",
   "metadata": {},
   "source": [
    "## Zielfunktion"
   ]
  },
  {
   "cell_type": "markdown",
   "id": "bf31d47d-ffac-419e-88d4-ae8143247d9a",
   "metadata": {},
   "source": [
    "**Bi-kriterielle Zielfunktion**\n",
    "\n",
    "$$\n",
    "Z(\\sigma) \\;=\\; r\\,M(\\sigma)\\;+\\;(1 - r)\\,D(\\sigma)\n",
    "$$\n",
    "\n",
    "\n",
    "* $\\sigma$: Der nach dem Rescheduling erzeugte Plan\n",
    "* $Z(\\sigma)$: Gesamtzielwert für Plan $\\sigma$ unter Berücksichtigung beider Kriterien\n",
    "* $r\\in[0,1]$: Gewichtungsfaktor für das Effizienzkriterium\n",
    "* $M(\\sigma)$: **Makespan** des Plans $\\sigma$, d. h. die maximale Fertigstellungszeit aller Jobs\n",
    "* $D(\\sigma)$: **Schedule-Deviation-Maß**, z. B. $D_{0}(\\sigma)$ oder $D_{1}(\\sigma)$, quantifiziert die Abweichung gegenüber dem Original- bzw. Right-Shift-Plan\n",
    "* $(1 - r)$: Gewichtungsfaktor für das Stabilitätskriterium\n",
    "\n",
    "> Durch Wahl von $r$ lässt sich der Kompromiss zwischen **Minimierung des Makespans** und **Maximierung der Plan-Stabilität** steuern.&#x20;\n"
   ]
  },
  {
   "cell_type": "markdown",
   "id": "7d44ae34-18e3-453b-ac24-116b9a252715",
   "metadata": {},
   "source": [
    "## Heuristiken"
   ]
  },
  {
   "cell_type": "markdown",
   "id": "1fc33c4d-5f87-4bd7-b553-623290af3e28",
   "metadata": {},
   "source": [
    "## a) Adjacent-Pairwise r-Search\n",
    "\n",
    "**Erklärung:** Eine lokale Suche, die nur **benachbarte Job-Paare** vertauscht und für ein Raster von Gewichtungsfaktoren $r$ jeweils ein **lokales Minimum** der Zielfunktion\n",
    "\n",
    "   $$\n",
    "     Z(\\sigma)=r\\,M(\\sigma)+(1-r)\\,D(\\sigma)\n",
    "   $$\n",
    "\n",
    "   findet.&#x20;\n",
    "\n",
    "   **Vorteile:**\n",
    "\n",
    "   * Sehr **schnell** durch kleine Nachbarschaft ($n-1$ swaps pro Schritt)\n",
    "   * Einfach zu **implementieren** und parametrisieren\n",
    "   * Gut für **kleine Anpassungen** und schnelle Ersteinschätzungen\n",
    "\n",
    "   **Nachteile:**\n",
    "\n",
    "   * Verharrt leicht in **lokalen Minima**\n",
    "   * Deckt nur einen **engen Bereich** der Pareto-Front ab\n",
    "   * Abhängig von der **Startlösung**"
   ]
  },
  {
   "cell_type": "markdown",
   "id": "4fd3f656-17da-4cf2-bffd-5c04e8abae0d",
   "metadata": {},
   "source": [
    "**Ziel**: Für verschiedene Gewichtungen $r\\in\\{0.05,0.10,\\dots,1.0\\}$ die bi-kriterielle Zielfunktion\n",
    "\n",
    "$$\n",
    "Z(\\sigma) \\;=\\; r\\,M(\\sigma)\\;+\\;(1-r)\\,D(\\sigma)\n",
    "$$\n",
    "\n",
    "mittels lokaler Suche auf Adjacent-Swaps zu minimieren.\n",
    "\n",
    "---\n",
    "\n",
    "**Ablauf (Pseudocode):**\n",
    "\n",
    "1. **Grid-Schleife über $r$:**\n",
    "   Für jeden Wert $r$ im Raster $\\{0.05,0.10,\\dots,1.0\\}$ führe die folgenden Schritte durch.\n",
    "\n",
    "2. **Initialisierung (zwei Startsequenzen):**\n",
    "\n",
    "   * **Vorwärtslauf:** Starte mit der von Carlier \\[Carlier-Heuristik] erzeugten Sequenz.\n",
    "   * **Rückwärtslauf:** Starte mit der Sequenz, die das Minimum-Deviation-Kriterium liefert (maximale Stabilität).\n",
    "\n",
    "3. **Steepest-Descent-Lokalsuche:**\n",
    "   Wiederhole, bis keine Verbesserung mehr möglich ist:\n",
    "\n",
    "   * Erzeuge aus der aktuellen Sequenz $\\sigma$ alle **Adjacent-Nachbarn** $\\{\\sigma^{(i)}\\}$ durch Vertauschen jeder benachbarter Jobpaare $(i,i+1)$.\n",
    "   * Berechne für jeden Nachbarn $\\sigma^{(i)}$ den Wert\n",
    "\n",
    "     $$\n",
    "     Z\\bigl(\\sigma^{(i)}\\bigr)\\;=\\;r\\,M\\bigl(\\sigma^{(i)}\\bigr)\\;+\\;(1-r)\\,D\\bigl(\\sigma^{(i)}\\bigr).\n",
    "     $$\n",
    "   * Wähle den Nachbarn mit dem **geringsten** $Z$-Wert.\n",
    "   * Falls $Z(\\sigma^{(i)}) < Z(\\sigma)$, setze $\\sigma := \\sigma^{(i)}$; andernfalls brich den Loop ab.\n",
    "\n",
    "4. **Ergebnis sammeln:**\n",
    "   Füge die finale Sequenz $\\sigma$ zur Menge der nicht-dominierten Lösungen (Pareto-Front) hinzu.\n",
    "\n",
    "---\n",
    "\n",
    "**Wesentliche Formeln:**\n",
    "\n",
    "* **Zielfunktion:**\n",
    "\n",
    "  $$\n",
    "  Z(\\sigma) = r\\,M(\\sigma) + (1-r)\\,D(\\sigma)\n",
    "  $$\n",
    "* **Nachbarschaftserzeugung:** Vertausche in $\\sigma = (j_1,j_2,\\dots,j_n)$ jeweils $(j_k,j_{k+1})$ für $k=1\\ldots n-1$.\n",
    "\n",
    "Mit diesem Verfahren liefert jeder $r$-Lauf eine Lösung, und über alle $r$-Werte entsteht eine Approximation der gesamten Pareto-Front zwischen Effizienz ($M$) und Stabilität ($D$).\n"
   ]
  },
  {
   "cell_type": "markdown",
   "id": "d23730ce-031b-4423-a167-5ab59834a72a",
   "metadata": {},
   "source": [
    "## b) All-Pair Tree-Search\n",
    "   **Erklärung:** Systematische Exploration **aller möglichen Paarvertauschungen** in einem Suchbaum mit **dominanzbasiertem Pruning** nicht-dominierter Lösungen.&#x20;\n",
    "\n",
    "   **Vorteile:**\n",
    "\n",
    "   * Theoretisch **vollständige** Identifikation aller nicht-dominierten Lösungen\n",
    "   * Sehr **umfassende** Approximation der Pareto-Front\n",
    "   * Automat. **Pruning** reduziert irrelevante Zweige\n",
    "\n",
    "   **Nachteile:**\n",
    "\n",
    "   * **Exponentieller** Rechenaufwand mit steigender Job-Anzahl\n",
    "   * Praktisch nur für **kleine bis mittlere** Instanzen geeignet\n",
    "   * Höherer **Speicherbedarf** für Open-Liste\n"
   ]
  },
  {
   "cell_type": "markdown",
   "id": "7003a73e-4ff0-4d67-bd07-d6ccb03a3ee9",
   "metadata": {},
   "source": [
    "### Ablauf (Pseudocode)\n",
    "\n",
    "1. **Startknoten erzeugen**\n",
    "\n",
    "   * Wähle eine Initial-Sequenz $\\sigma^0$ (z. B. Carlier-Heuristik oder Minimum-Deviation).\n",
    "   * Berechne $M(\\sigma^0)$ und $D(\\sigma^0)$.\n",
    "   * Lege den Suchbaum-Wurzelknoten mit Lösung $\\sigma^0$ an und füge ihn in die **Open-Liste** ein.\n",
    "\n",
    "2. **Baumexpansion**\n",
    "   Wiederhole, bis die Open-Liste leer ist:\n",
    "\n",
    "   1. **Knoten entnehmen:** Nimm den vordersten Knoten mit Plan $\\sigma$ aus der Open-Liste.\n",
    "   2. **Alle-Paar-Nachbarn erzeugen:** Für jedes Paar $(i,j)$, $1 \\le i < j \\le n$, erzeuge $\\sigma^{(i,j)}$ durch Vertauschen von Job $j_i$ und $j_j$ in $\\sigma$.\n",
    "   3. **Bewertung:** Berechne für jeden Nachbarn $\\sigma^{(i,j)}$\n",
    "\n",
    "      $$\n",
    "      Z(\\sigma^{(i,j)}) = \\bigl(M(\\sigma^{(i,j)}),\\,D(\\sigma^{(i,j)})\\bigr)\n",
    "      $$\n",
    "   4. **Pruning dominierter Nachbarn:** Entferne alle $\\sigma^{(i,j)}$, die von einer anderen Lösung – sei es aus der aktuellen Open-Liste oder aus dem Archive nicht-dominierter Lösungen – **dominiert** werden (d. h. schlechter oder gleich in beiden Kriterien und schlechter in mindestens einem).\n",
    "   5. **Open-Liste und Archiv aktualisieren:**\n",
    "\n",
    "      * Füge alle verbleibenden $\\sigma^{(i,j)}$ in die Open-Liste ein.\n",
    "      * Ergänze das **Efficient-Front-Archiv** um neu gefundene nicht-dominierte Lösungen.\n",
    "\n",
    "3. **Abschluss**\n",
    "   Wenn die Open-Liste erschöpft ist, enthält das Archiv die gesamte approximierte Pareto-Front über alle möglichen Paarvertauschungen.\n",
    "\n",
    "---\n",
    "\n",
    "**Merkmale:**\n",
    "\n",
    "* **Vollständigkeit**: Theoretisch deckt dieser Ansatz alle Nachbarschaften ab.\n",
    "* **Pruning**: Durch dominanzbasiertes Pruning bleibt die Rechenlast handhabbar.\n",
    "* **Ergebnis**: Ein Archiv aller nicht-dominierten Pläne, aus dem Anwender je nach Gewichtung wählen können.\n",
    "\n",
    "Diese Methode stellt sicher, dass keine potentiell effiziente oder stabile Lösung übersehen wird, solange die Anzahl der Jobs $n$ moderat bleibt.\n"
   ]
  },
  {
   "cell_type": "markdown",
   "id": "99f661a3-5b12-449c-afc0-0f4691f87aad",
   "metadata": {},
   "source": [
    "## c) Genetic Algorithm\n",
    "   **Erklärung:** Evolutionärer Ansatz mit **Populationen**, **Crossover** und **Mutation**, der Pareto-optimale Individuen in einem **Efficient-Front-Archiv** sammelt.&#x20;\n",
    "\n",
    "   **Vorteile:**\n",
    "\n",
    "   * Gute **Balance** zwischen **Exploration** (Diversität) und **Exploitation** (Intensivsuche)\n",
    "   * **Skalierbar** auf größere Problemgrößen\n",
    "   * Robust gegenüber **lokalen Minima** durch stochastische Operatoren\n",
    "\n",
    "   **Nachteile:**\n",
    "\n",
    "   * Erfordert **Feinabstimmung** vieler Meta-Parameter (Pop-Größe, Mutationsrate, Generationenzahl)\n",
    "   * **Rechenintensiver** als lokale Heuristiken\n",
    "   * Komplexere **Implementierung** und Analyse\n"
   ]
  },
  {
   "cell_type": "markdown",
   "id": "23396053-1a85-4231-a7a4-c7aefdc15597",
   "metadata": {},
   "source": [
    "### 1. Kodierung der Lösungen\n",
    "\n",
    "Jede Plansequenz $\\sigma = (j_1, j_2, \\dots, j_n)$ wird in einen Vektor „artificial tails“ $\\mathbf{q} = (q_1, q_2, \\dots, q_n)$ überführt:\n",
    "\n",
    "$$\n",
    "\\begin{aligned}\n",
    "q_{1} &= 0,\\\\\n",
    "q_{j} &= q_{j-1} + d_{j-1}\\quad\\forall\\,j=2,\\dots,n,\n",
    "\\end{aligned}\n",
    "$$\n",
    "\n",
    "wobei $d_{j-1}$ die Bearbeitungszeit des $(j-1)$-ten Jobs in $\\sigma$ ist .\n",
    "\n",
    "---\n",
    "\n",
    "### 2. Initialisierung\n",
    "\n",
    "* Generiere eine Startpopulation aus $P$ Sequenzen, teils durch **r-Grid Search** (Adjacent-Pairwise r-Search), teils zufällig oder via parametrisiertem $a$-$\\varepsilon$-Grid.\n",
    "* Berechne für jede Sequenz $\\sigma_i$ die Werte $M(\\sigma_i)$ und $D(\\sigma_i)$.\n",
    "\n",
    "---\n",
    "\n",
    "### 3. Fitness-Berechnung\n",
    "\n",
    "Normiere $M$ und $D$ auf $[0,1]$ mittels Konstanten $C_{B1}, C_{B2}$ und definiere die Fitness jedes Individuums $i$ als\n",
    "\n",
    "$$\n",
    "f_i \\;=\\; \\frac{1}{\\bigl((C_{B1}\\,M(\\sigma_i))^2 + (C_{B2}\\,D(\\sigma_i))^2\\bigr)^{\\,k/2}}\n",
    "$$\n",
    "\n",
    "– höherer Wert = bessere Anpassung an beide Kriterien .\n",
    "\n",
    "---\n",
    "\n",
    "### 4. Selektion\n",
    "\n",
    "Wähle Elternpaare proportional zu ihrer Fitness (Roulette-Wheel oder Tournament Selection), sodass fittere Pläne wahrscheinlicher Nachkommen erzeugen.\n",
    "\n",
    "---\n",
    "\n",
    "### 5. Crossover\n",
    "\n",
    "* Wähle für jedes Elternpaar zwei Schnittpunkte $x_1<x_2$ in $\\{1,\\dots,n\\}$.\n",
    "* Tausche die Teilvektoren $[q_{x_1},\\dots,q_{x_2}]$ zwischen den Eltern aus.\n",
    "* Rekonstruiere aus den neuen $\\mathbf{q}$-Vektoren zulässige Sequenzen.\n",
    "\n",
    "---\n",
    "\n",
    "### 6. Mutation\n",
    "\n",
    "Mit Wahrscheinlichkeit $p_m$ für ein Kind:\n",
    "\n",
    "* Ziehe $\\alpha\\sim U(0,1)$\n",
    "* Passe alle Tails an:\n",
    "\n",
    "  $$\n",
    "  q_j \\;\\leftarrow\\; (1-\\alpha)\\,q_j \\;+\\;\\alpha\\,q'_j\n",
    "  $$\n",
    "\n",
    "  wobei $\\mathbf{q}'$ ein leicht modifizierter Vektor (z. B. kleine zufällige Verschiebungen) ist, um Diversität zu erhalten .\n",
    "\n",
    "---\n",
    "\n",
    "### 7. Ersatz und Archivierung\n",
    "\n",
    "* Ersetze schlechtere Individuen in der Population durch die neu erzeugten Kinder,\n",
    "* füge nicht-dominierte Lösungen zusätzlich in ein **Efficient-Front-Archiv** ein, um die Pareto-Front kontinuierlich aufzubauen.\n",
    "\n",
    "---\n",
    "\n",
    "### 8. Abbruchkriterium\n",
    "\n",
    "Stoppe nach $G$ Generationen oder wenn sich das Archiv über mehrere Generationen nicht mehr ändert. Die gesammelten Archivsätze repräsentieren die approximierte Pareto-Front zwischen **Makespan** und **Schedule-Deviation**.\n"
   ]
  },
  {
   "cell_type": "markdown",
   "id": "fb76876b-fbf2-49e6-8ffd-0c1830c3fb23",
   "metadata": {},
   "source": [
    "Obwohl alle drei Heuristiken letztlich dieselbe bi-kriterielle Zielfunktion\n",
    "\n",
    "$$\n",
    "Z(\\sigma) \\;=\\; r\\,M(\\sigma)\\;+\\;(1 - r)\\,D(\\sigma)\n",
    "$$\n",
    "\n",
    "minimieren, unterscheiden sie sich grundlegend darin, **wie** sie den Suchraum erkunden, welche Kompromisse zwischen **Vollständigkeit**, **Rechenaufwand** und **Lösungsqualität** sie eingehen – und welche Arten von Pareto-Front-Approximationen sie liefern:\n",
    "\n"
   ]
  },
  {
   "cell_type": "markdown",
   "id": "aeabe0b2-6a45-4d66-a486-4487b94837a0",
   "metadata": {},
   "source": [
    "\n"
   ]
  },
  {
   "cell_type": "code",
   "execution_count": null,
   "id": "8a4978b0-4004-41b2-9238-7e875a42141d",
   "metadata": {},
   "outputs": [],
   "source": []
  }
 ],
 "metadata": {
  "kernelspec": {
   "display_name": "Python [conda env:base] *",
   "language": "python",
   "name": "conda-base-py"
  },
  "language_info": {
   "codemirror_mode": {
    "name": "ipython",
    "version": 3
   },
   "file_extension": ".py",
   "mimetype": "text/x-python",
   "name": "python",
   "nbconvert_exporter": "python",
   "pygments_lexer": "ipython3",
   "version": "3.12.9"
  }
 },
 "nbformat": 4,
 "nbformat_minor": 5
}
