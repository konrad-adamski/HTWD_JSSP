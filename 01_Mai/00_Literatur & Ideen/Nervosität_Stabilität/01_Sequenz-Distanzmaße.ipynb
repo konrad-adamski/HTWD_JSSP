{
 "cells": [
  {
   "cell_type": "markdown",
   "id": "8826498a-3159-499e-9cbe-61a6a8565478",
   "metadata": {},
   "source": [
    "**ChatGPT o4-mini**<br>\n",
    "https://chatgpt.com/c/6827081a-9714-8008-a98f-a3281c49f9b8\n"
   ]
  },
  {
   "cell_type": "markdown",
   "id": "8f33f2a4-3bd4-4259-9b02-5c703b5d0fce",
   "metadata": {},
   "source": [
    "Für Job-Shop-Scheduling, wo eine Lösung meist als Permutation (Reihenfolge von Operationen) auf Maschinen dargestellt wird, eignen sich insbesondere folgende Sequenz-Distanzmaße:\n",
    "\n",
    "1. **Kendall-Tau-Distanz**\n",
    "   Misst die Anzahl der inversen Paare zwischen zwei Permutationen $π$ und $σ$:\n",
    "\n",
    "   $$\n",
    "     d_{K}(π,σ) = \\#\\{(i,j)\\mid i<j,\\; [π(i)<π(j)\\wedge σ(i)>σ(j)]\\}.\n",
    "   $$\n",
    "\n",
    "   → Wie viele Paar-Tausch­operationen benötigt man, um von $π$ zu $σ$ zu kommen.\n",
    "\n",
    "2. **Spearman’s Footrule**\n",
    "   Summe der absoluten Positionsdifferenzen:\n",
    "\n",
    "   $$\n",
    "     d_{F}(π,σ) = \\sum_{i=1}^n |\\,\\mathrm{pos}_π(i) - \\mathrm{pos}_σ(i)\\,|.\n",
    "   $$\n",
    "\n",
    "   → Einfache, weniger empfindliche Alternative zu Kendall.\n",
    "\n",
    "3. **Spearman’s Rho (Quadratische Distanz)**\n",
    "   Summe der quadrierten Positionsdifferenzen:\n",
    "\n",
    "   $$\n",
    "     d_{\\rho}(π,σ) = \\sum_{i=1}^n \\bigl(\\mathrm{pos}_π(i) - \\mathrm{pos}_σ(i)\\bigr)^2.\n",
    "   $$\n",
    "\n",
    "4. **Hamming-Distanz auf Permutationen**\n",
    "   Anzahl der Elemente, die an unterschiedlichen Positionen stehen:\n",
    "\n",
    "   $$\n",
    "     d_{H}(π,σ) = \\sum_{i=1}^n \\mathbf{1}_{\\{π(i)\\neq σ(i)\\}}.\n",
    "   $$\n",
    "\n",
    "5. **Transpositions-Distanz (Cayley-Distanz)**\n",
    "   Minimale Anzahl beliebiger Element-Vertauschungen (Transpositionen), um $π$ in $σ$ zu überführen. Cayley-Distanz ist im Allgemeinen ≤ Kendall-Tau.\n",
    "\n",
    "6. **Ulam-Distanz**\n",
    "   Basierend auf der Länge der längsten gemeinsamen Teilfolge (Longest Common Subsequence) zweier Permutationen:\n",
    "\n",
    "   $$\n",
    "     d_{U}(π,σ) = n - \\bigl|\\mathrm{LCS}(π,σ)\\bigr|.\n",
    "   $$\n",
    "\n",
    "   → Misst, wie viel man löschen muss, um eine gemeinsame Reihenfolge zu erhalten.\n",
    "\n",
    "7. **Edit-Distanz auf Permutationen**\n",
    "   Variante der Levenshtein-Distanz, bei der nur Einfüge-, Lösch- und Ersetz­operationen auf Permutations­positionen erlaubt sind. Nur selten eingesetzt, da Permutationsstruktur verletzt werden kann.\n",
    "\n",
    "8. **Swap-Distanz**\n",
    "   Spezialisierte Version der Edit-Distanz, die nur benachbarte Vertauschungen (Swaps) zählt – gleichbedeutend mit Kendall-Tau in ungewichteter Form.\n",
    "\n",
    "---\n",
    "\n",
    "**Praktische Hinweise zur Auswahl**\n",
    "\n",
    "* **Kendall-Tau** ist in der Metaheuristik weit verbreitet, weil sie direkt die Anzahl der inversen Paare (= Swaps) misst und sich gut in Tausch-/Mutation­operatoren übersetzen lässt.\n",
    "* **Spearman’s Footrule/Rho** lassen sich effizient berechnen und gewichten Positionsdifferenzen linear bzw. quadratisch.\n",
    "* **Cayley-Distanz** bietet einen Mittelweg, da beliebige Transpositionen zulässig sind (nicht nur benachbarte).\n",
    "* **Ulam-Distanz** kann sinnvoll sein, wenn du eher auf „gemeinsame Subsequenzen“ (Block-Strukturen) achten willst.\n",
    "\n",
    "Je nach dem, ob du die Tausch-Kosten oder Positionsverschiebungen präziser bewerten möchtest, wählst du das passende Maß.\n"
   ]
  },
  {
   "cell_type": "code",
   "execution_count": null,
   "id": "571ab2ec-6891-4507-85e3-7583fd9d7894",
   "metadata": {},
   "outputs": [],
   "source": []
  }
 ],
 "metadata": {
  "kernelspec": {
   "display_name": "Python [conda env:base] *",
   "language": "python",
   "name": "conda-base-py"
  },
  "language_info": {
   "codemirror_mode": {
    "name": "ipython",
    "version": 3
   },
   "file_extension": ".py",
   "mimetype": "text/x-python",
   "name": "python",
   "nbconvert_exporter": "python",
   "pygments_lexer": "ipython3",
   "version": "3.12.9"
  }
 },
 "nbformat": 4,
 "nbformat_minor": 5
}
