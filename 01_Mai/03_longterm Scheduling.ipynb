{
 "cells": [
  {
   "cell_type": "markdown",
   "id": "933b3152-cec5-4ea2-a920-c012f1321ea1",
   "metadata": {},
   "source": [
    "# Langzeit Scheduling"
   ]
  },
  {
   "cell_type": "markdown",
   "id": "b083b858-b267-4ec0-a3fe-f29bc36d60b6",
   "metadata": {},
   "source": [
    "<b> Erkenntnisse: </b>\n",
    "- Job-Reihenfolge im Solver ist relevant"
   ]
  },
  {
   "cell_type": "code",
   "execution_count": 3,
   "id": "380e3f83-94c6-4c8f-922c-702aca390cdd",
   "metadata": {},
   "outputs": [],
   "source": [
    "import json\n",
    "import pandas as pd\n",
    "import numpy as np\n",
    "import random"
   ]
  },
  {
   "cell_type": "code",
   "execution_count": 4,
   "id": "2c6b2d4b-4cca-4f38-a260-09ca62c0ef6a",
   "metadata": {},
   "outputs": [],
   "source": [
    "import pulp"
   ]
  },
  {
   "cell_type": "code",
   "execution_count": 5,
   "id": "ba540ce6-7291-4e24-985a-f6e12a258a73",
   "metadata": {},
   "outputs": [],
   "source": [
    "import utils.schedule_interarrival as sit"
   ]
  },
  {
   "cell_type": "code",
   "execution_count": 6,
   "id": "f3ab7839-66bf-4cbb-83d8-1c136475a440",
   "metadata": {},
   "outputs": [],
   "source": [
    "import utils.presenter as show\n",
    "import utils.schedule_solver as ssv"
   ]
  },
  {
   "cell_type": "code",
   "execution_count": 7,
   "id": "aac757d6-e51a-44dd-9079-1eeab8b80ec9",
   "metadata": {},
   "outputs": [],
   "source": [
    "from utils.checker import is_machine_conflict_free\n",
    "from utils.checker import is_job_machine_sequence_correct\n",
    "from utils.checker import is_start_correct"
   ]
  },
  {
   "cell_type": "code",
   "execution_count": 8,
   "id": "ede7186e-ba61-48a3-9e7f-a4798d176599",
   "metadata": {},
   "outputs": [],
   "source": [
    "pd.set_option('display.max_rows', 30)"
   ]
  },
  {
   "cell_type": "code",
   "execution_count": 9,
   "id": "54cca311-6704-4916-ba6a-beb64cacdea8",
   "metadata": {},
   "outputs": [
    {
     "name": "stdout",
     "output_type": "stream",
     "text": [
      "job 0:  [[0, 29], [1, 78], [2, 9], [3, 36], [4, 49], [5, 11], [6, 62], [7, 56], [8, 44], [9, 21]]\n",
      "job 1:  [[0, 43], [2, 90], [4, 75], [9, 11], [3, 69], [1, 28], [6, 46], [5, 46], [7, 72], [8, 30]]\n",
      "job 2:  [[1, 91], [0, 85], [3, 39], [2, 74], [8, 90], [5, 10], [7, 12], [6, 89], [9, 45], [4, 33]]\n",
      "job 3:  [[1, 81], [2, 95], [0, 71], [4, 99], [6, 9], [8, 52], [7, 85], [3, 98], [9, 22], [5, 43]]\n",
      "job 4:  [[2, 14], [0, 6], [1, 22], [5, 61], [3, 26], [4, 69], [8, 21], [7, 49], [9, 72], [6, 53]]\n",
      "job 5:  [[2, 84], [1, 2], [5, 52], [3, 95], [8, 48], [9, 72], [0, 47], [6, 65], [4, 6], [7, 25]]\n",
      "job 6:  [[1, 46], [0, 37], [3, 61], [2, 13], [6, 32], [5, 21], [9, 32], [8, 89], [7, 30], [4, 55]]\n",
      "job 7:  [[2, 31], [0, 86], [1, 46], [5, 74], [4, 32], [6, 88], [8, 19], [9, 48], [7, 36], [3, 79]]\n",
      "job 8:  [[0, 76], [1, 69], [3, 76], [5, 51], [2, 85], [9, 11], [6, 40], [7, 89], [4, 26], [8, 74]]\n",
      "job 9:  [[1, 85], [0, 13], [2, 61], [6, 7], [8, 64], [9, 76], [5, 47], [3, 52], [4, 90], [7, 45]]\n",
      "\n"
     ]
    }
   ],
   "source": [
    "# Datei laden\n",
    "with open(\"data/jobshop_instances.json\", \"r\", encoding=\"utf-8\") as f:\n",
    "    jobshop_instances = json.load(f)\n",
    "\n",
    "instance =  jobshop_instances[\"instance ft10\"]\n",
    "show.print_jobs(instance)"
   ]
  },
  {
   "cell_type": "code",
   "execution_count": 10,
   "id": "250690b6-d4eb-4937-b470-0df1de025fed",
   "metadata": {},
   "outputs": [],
   "source": [
    "def add_jobs_to_dict(job_set_dict, new_instance, shuffle=False, seed=50):\n",
    "    offset = len(job_set_dict)\n",
    "    items = list(new_instance.items())\n",
    "\n",
    "    if shuffle:\n",
    "        random.seed(seed)\n",
    "        random.shuffle(items)\n",
    "\n",
    "    for i, (_, ops) in enumerate(items):\n",
    "        job_name = f\"Job_{offset + i:03d}\"\n",
    "        job_set_dict[job_name] = ops"
   ]
  },
  {
   "cell_type": "code",
   "execution_count": 11,
   "id": "cce02496-67e2-49b8-86b5-d444fcbee638",
   "metadata": {},
   "outputs": [],
   "source": [
    "def generate_jobs_for_days(day_numb: int, jobs_instance: dict):\n",
    "    jssp_data = {}\n",
    "\n",
    "    # Schritt 1: Ursprüngliche Instanz vervielfachen (geschätzt mit Puffer)\n",
    "    for i in range(int(2.3 *day_numb)):\n",
    "        shuffle = False if (i % 2 == 0) else True\n",
    "        add_jobs_to_dict(jssp_data, jobs_instance, shuffle)\n",
    "\n",
    "    # Schritt 2: Zwischenankunftszeiten berechnen\n",
    "    mean_interarrival_time = sit.calculate_mean_interarrival_time(jssp_data)\n",
    "    df_arrivals = sit.generate_job_arrivals_df_by_mean_interarrival_time(jssp_data, t_a=mean_interarrival_time)\n",
    "\n",
    "    \n",
    "    # Schritt 3a: Filter auf df_arrivals anwenden\n",
    "    df_arrivals = df_arrivals[df_arrivals[\"Ankunftszeit (Minuten)\"] <= (60 * 24 * day_numb)]\n",
    "    df_arrivals\n",
    "\n",
    "    # Schritt 3b: Nur die verbleibenden Job-IDs extrahieren\n",
    "    valid_job_ids = set(df_arrivals[\"Job-ID\"])\n",
    "\n",
    "    # Schritt 3c: jssp_data kürzen\n",
    "    jssp_data = {job_id: ops for job_id, ops in jssp_data.items() if job_id in valid_job_ids}\n",
    "\n",
    "    return jssp_data, df_arrivals\n"
   ]
  },
  {
   "cell_type": "code",
   "execution_count": 12,
   "id": "e36fcbef-ebfc-43bc-a7c1-b82ba05845d8",
   "metadata": {
    "scrolled": true
   },
   "outputs": [
    {
     "name": "stdout",
     "output_type": "stream",
     "text": [
      "Job_000:  [[0, 29], [1, 78], [2, 9], [3, 36], [4, 49], [5, 11], [6, 62], [7, 56], [8, 44], [9, 21]]\n",
      "Job_001:  [[0, 43], [2, 90], [4, 75], [9, 11], [3, 69], [1, 28], [6, 46], [5, 46], [7, 72], [8, 30]]\n",
      "Job_002:  [[1, 91], [0, 85], [3, 39], [2, 74], [8, 90], [5, 10], [7, 12], [6, 89], [9, 45], [4, 33]]\n",
      "Job_003:  [[1, 81], [2, 95], [0, 71], [4, 99], [6, 9], [8, 52], [7, 85], [3, 98], [9, 22], [5, 43]]\n",
      "Job_004:  [[2, 14], [0, 6], [1, 22], [5, 61], [3, 26], [4, 69], [8, 21], [7, 49], [9, 72], [6, 53]]\n",
      "Job_005:  [[2, 84], [1, 2], [5, 52], [3, 95], [8, 48], [9, 72], [0, 47], [6, 65], [4, 6], [7, 25]]\n",
      "Job_006:  [[1, 46], [0, 37], [3, 61], [2, 13], [6, 32], [5, 21], [9, 32], [8, 89], [7, 30], [4, 55]]\n",
      "Job_007:  [[2, 31], [0, 86], [1, 46], [5, 74], [4, 32], [6, 88], [8, 19], [9, 48], [7, 36], [3, 79]]\n",
      "Job_008:  [[0, 76], [1, 69], [3, 76], [5, 51], [2, 85], [9, 11], [6, 40], [7, 89], [4, 26], [8, 74]]\n",
      "Job_009:  [[1, 85], [0, 13], [2, 61], [6, 7], [8, 64], [9, 76], [5, 47], [3, 52], [4, 90], [7, 45]]\n",
      "Job_010:  [[0, 76], [1, 69], [3, 76], [5, 51], [2, 85], [9, 11], [6, 40], [7, 89], [4, 26], [8, 74]]\n",
      "Job_011:  [[1, 46], [0, 37], [3, 61], [2, 13], [6, 32], [5, 21], [9, 32], [8, 89], [7, 30], [4, 55]]\n",
      "Job_012:  [[0, 29], [1, 78], [2, 9], [3, 36], [4, 49], [5, 11], [6, 62], [7, 56], [8, 44], [9, 21]]\n",
      "Job_013:  [[1, 91], [0, 85], [3, 39], [2, 74], [8, 90], [5, 10], [7, 12], [6, 89], [9, 45], [4, 33]]\n",
      "Job_014:  [[1, 81], [2, 95], [0, 71], [4, 99], [6, 9], [8, 52], [7, 85], [3, 98], [9, 22], [5, 43]]\n",
      "Job_015:  [[0, 43], [2, 90], [4, 75], [9, 11], [3, 69], [1, 28], [6, 46], [5, 46], [7, 72], [8, 30]]\n",
      "Job_016:  [[1, 85], [0, 13], [2, 61], [6, 7], [8, 64], [9, 76], [5, 47], [3, 52], [4, 90], [7, 45]]\n",
      "Job_017:  [[2, 84], [1, 2], [5, 52], [3, 95], [8, 48], [9, 72], [0, 47], [6, 65], [4, 6], [7, 25]]\n",
      "Job_018:  [[2, 14], [0, 6], [1, 22], [5, 61], [3, 26], [4, 69], [8, 21], [7, 49], [9, 72], [6, 53]]\n",
      "Job_019:  [[2, 31], [0, 86], [1, 46], [5, 74], [4, 32], [6, 88], [8, 19], [9, 48], [7, 36], [3, 79]]\n",
      "Job_020:  [[0, 29], [1, 78], [2, 9], [3, 36], [4, 49], [5, 11], [6, 62], [7, 56], [8, 44], [9, 21]]\n",
      "Job_021:  [[0, 43], [2, 90], [4, 75], [9, 11], [3, 69], [1, 28], [6, 46], [5, 46], [7, 72], [8, 30]]\n",
      "Job_022:  [[1, 91], [0, 85], [3, 39], [2, 74], [8, 90], [5, 10], [7, 12], [6, 89], [9, 45], [4, 33]]\n",
      "Job_023:  [[1, 81], [2, 95], [0, 71], [4, 99], [6, 9], [8, 52], [7, 85], [3, 98], [9, 22], [5, 43]]\n",
      "Job_024:  [[2, 14], [0, 6], [1, 22], [5, 61], [3, 26], [4, 69], [8, 21], [7, 49], [9, 72], [6, 53]]\n",
      "Job_025:  [[2, 84], [1, 2], [5, 52], [3, 95], [8, 48], [9, 72], [0, 47], [6, 65], [4, 6], [7, 25]]\n",
      "Job_026:  [[1, 46], [0, 37], [3, 61], [2, 13], [6, 32], [5, 21], [9, 32], [8, 89], [7, 30], [4, 55]]\n",
      "Job_027:  [[2, 31], [0, 86], [1, 46], [5, 74], [4, 32], [6, 88], [8, 19], [9, 48], [7, 36], [3, 79]]\n",
      "Job_028:  [[0, 76], [1, 69], [3, 76], [5, 51], [2, 85], [9, 11], [6, 40], [7, 89], [4, 26], [8, 74]]\n",
      "Job_029:  [[1, 85], [0, 13], [2, 61], [6, 7], [8, 64], [9, 76], [5, 47], [3, 52], [4, 90], [7, 45]]\n",
      "Job_030:  [[0, 76], [1, 69], [3, 76], [5, 51], [2, 85], [9, 11], [6, 40], [7, 89], [4, 26], [8, 74]]\n",
      "Job_031:  [[1, 46], [0, 37], [3, 61], [2, 13], [6, 32], [5, 21], [9, 32], [8, 89], [7, 30], [4, 55]]\n",
      "Job_032:  [[0, 29], [1, 78], [2, 9], [3, 36], [4, 49], [5, 11], [6, 62], [7, 56], [8, 44], [9, 21]]\n",
      "Job_033:  [[1, 91], [0, 85], [3, 39], [2, 74], [8, 90], [5, 10], [7, 12], [6, 89], [9, 45], [4, 33]]\n",
      "Job_034:  [[1, 81], [2, 95], [0, 71], [4, 99], [6, 9], [8, 52], [7, 85], [3, 98], [9, 22], [5, 43]]\n",
      "Job_035:  [[0, 43], [2, 90], [4, 75], [9, 11], [3, 69], [1, 28], [6, 46], [5, 46], [7, 72], [8, 30]]\n",
      "Job_036:  [[1, 85], [0, 13], [2, 61], [6, 7], [8, 64], [9, 76], [5, 47], [3, 52], [4, 90], [7, 45]]\n",
      "Job_037:  [[2, 84], [1, 2], [5, 52], [3, 95], [8, 48], [9, 72], [0, 47], [6, 65], [4, 6], [7, 25]]\n",
      "Job_038:  [[2, 14], [0, 6], [1, 22], [5, 61], [3, 26], [4, 69], [8, 21], [7, 49], [9, 72], [6, 53]]\n",
      "Job_039:  [[2, 31], [0, 86], [1, 46], [5, 74], [4, 32], [6, 88], [8, 19], [9, 48], [7, 36], [3, 79]]\n",
      "Job_040:  [[0, 29], [1, 78], [2, 9], [3, 36], [4, 49], [5, 11], [6, 62], [7, 56], [8, 44], [9, 21]]\n",
      "Job_041:  [[0, 43], [2, 90], [4, 75], [9, 11], [3, 69], [1, 28], [6, 46], [5, 46], [7, 72], [8, 30]]\n",
      "Job_042:  [[1, 91], [0, 85], [3, 39], [2, 74], [8, 90], [5, 10], [7, 12], [6, 89], [9, 45], [4, 33]]\n",
      "Job_043:  [[1, 81], [2, 95], [0, 71], [4, 99], [6, 9], [8, 52], [7, 85], [3, 98], [9, 22], [5, 43]]\n",
      "Job_044:  [[2, 14], [0, 6], [1, 22], [5, 61], [3, 26], [4, 69], [8, 21], [7, 49], [9, 72], [6, 53]]\n",
      "Job_045:  [[2, 84], [1, 2], [5, 52], [3, 95], [8, 48], [9, 72], [0, 47], [6, 65], [4, 6], [7, 25]]\n",
      "Job_046:  [[1, 46], [0, 37], [3, 61], [2, 13], [6, 32], [5, 21], [9, 32], [8, 89], [7, 30], [4, 55]]\n",
      "Job_047:  [[2, 31], [0, 86], [1, 46], [5, 74], [4, 32], [6, 88], [8, 19], [9, 48], [7, 36], [3, 79]]\n",
      "Job_048:  [[0, 76], [1, 69], [3, 76], [5, 51], [2, 85], [9, 11], [6, 40], [7, 89], [4, 26], [8, 74]]\n",
      "Job_049:  [[1, 85], [0, 13], [2, 61], [6, 7], [8, 64], [9, 76], [5, 47], [3, 52], [4, 90], [7, 45]]\n",
      "Job_050:  [[0, 76], [1, 69], [3, 76], [5, 51], [2, 85], [9, 11], [6, 40], [7, 89], [4, 26], [8, 74]]\n",
      "Job_051:  [[1, 46], [0, 37], [3, 61], [2, 13], [6, 32], [5, 21], [9, 32], [8, 89], [7, 30], [4, 55]]\n",
      "Job_052:  [[0, 29], [1, 78], [2, 9], [3, 36], [4, 49], [5, 11], [6, 62], [7, 56], [8, 44], [9, 21]]\n",
      "Job_053:  [[1, 91], [0, 85], [3, 39], [2, 74], [8, 90], [5, 10], [7, 12], [6, 89], [9, 45], [4, 33]]\n",
      "Job_054:  [[1, 81], [2, 95], [0, 71], [4, 99], [6, 9], [8, 52], [7, 85], [3, 98], [9, 22], [5, 43]]\n",
      "Job_055:  [[0, 43], [2, 90], [4, 75], [9, 11], [3, 69], [1, 28], [6, 46], [5, 46], [7, 72], [8, 30]]\n",
      "Job_056:  [[1, 85], [0, 13], [2, 61], [6, 7], [8, 64], [9, 76], [5, 47], [3, 52], [4, 90], [7, 45]]\n",
      "Job_057:  [[2, 84], [1, 2], [5, 52], [3, 95], [8, 48], [9, 72], [0, 47], [6, 65], [4, 6], [7, 25]]\n",
      "Job_058:  [[2, 14], [0, 6], [1, 22], [5, 61], [3, 26], [4, 69], [8, 21], [7, 49], [9, 72], [6, 53]]\n",
      "Job_059:  [[2, 31], [0, 86], [1, 46], [5, 74], [4, 32], [6, 88], [8, 19], [9, 48], [7, 36], [3, 79]]\n",
      "Job_060:  [[0, 29], [1, 78], [2, 9], [3, 36], [4, 49], [5, 11], [6, 62], [7, 56], [8, 44], [9, 21]]\n",
      "Job_061:  [[0, 43], [2, 90], [4, 75], [9, 11], [3, 69], [1, 28], [6, 46], [5, 46], [7, 72], [8, 30]]\n",
      "Job_062:  [[1, 91], [0, 85], [3, 39], [2, 74], [8, 90], [5, 10], [7, 12], [6, 89], [9, 45], [4, 33]]\n",
      "Job_063:  [[1, 81], [2, 95], [0, 71], [4, 99], [6, 9], [8, 52], [7, 85], [3, 98], [9, 22], [5, 43]]\n",
      "Job_064:  [[2, 14], [0, 6], [1, 22], [5, 61], [3, 26], [4, 69], [8, 21], [7, 49], [9, 72], [6, 53]]\n",
      "Job_065:  [[2, 84], [1, 2], [5, 52], [3, 95], [8, 48], [9, 72], [0, 47], [6, 65], [4, 6], [7, 25]]\n",
      "Job_066:  [[1, 46], [0, 37], [3, 61], [2, 13], [6, 32], [5, 21], [9, 32], [8, 89], [7, 30], [4, 55]]\n",
      "Job_067:  [[2, 31], [0, 86], [1, 46], [5, 74], [4, 32], [6, 88], [8, 19], [9, 48], [7, 36], [3, 79]]\n",
      "Job_068:  [[0, 76], [1, 69], [3, 76], [5, 51], [2, 85], [9, 11], [6, 40], [7, 89], [4, 26], [8, 74]]\n",
      "Job_069:  [[1, 85], [0, 13], [2, 61], [6, 7], [8, 64], [9, 76], [5, 47], [3, 52], [4, 90], [7, 45]]\n",
      "Job_070:  [[0, 76], [1, 69], [3, 76], [5, 51], [2, 85], [9, 11], [6, 40], [7, 89], [4, 26], [8, 74]]\n",
      "Job_071:  [[1, 46], [0, 37], [3, 61], [2, 13], [6, 32], [5, 21], [9, 32], [8, 89], [7, 30], [4, 55]]\n",
      "Job_072:  [[0, 29], [1, 78], [2, 9], [3, 36], [4, 49], [5, 11], [6, 62], [7, 56], [8, 44], [9, 21]]\n",
      "Job_073:  [[1, 91], [0, 85], [3, 39], [2, 74], [8, 90], [5, 10], [7, 12], [6, 89], [9, 45], [4, 33]]\n",
      "Job_074:  [[1, 81], [2, 95], [0, 71], [4, 99], [6, 9], [8, 52], [7, 85], [3, 98], [9, 22], [5, 43]]\n",
      "Job_075:  [[0, 43], [2, 90], [4, 75], [9, 11], [3, 69], [1, 28], [6, 46], [5, 46], [7, 72], [8, 30]]\n",
      "Job_076:  [[1, 85], [0, 13], [2, 61], [6, 7], [8, 64], [9, 76], [5, 47], [3, 52], [4, 90], [7, 45]]\n",
      "Job_077:  [[2, 84], [1, 2], [5, 52], [3, 95], [8, 48], [9, 72], [0, 47], [6, 65], [4, 6], [7, 25]]\n",
      "Job_078:  [[2, 14], [0, 6], [1, 22], [5, 61], [3, 26], [4, 69], [8, 21], [7, 49], [9, 72], [6, 53]]\n",
      "Job_079:  [[2, 31], [0, 86], [1, 46], [5, 74], [4, 32], [6, 88], [8, 19], [9, 48], [7, 36], [3, 79]]\n",
      "Job_080:  [[0, 29], [1, 78], [2, 9], [3, 36], [4, 49], [5, 11], [6, 62], [7, 56], [8, 44], [9, 21]]\n",
      "Job_081:  [[0, 43], [2, 90], [4, 75], [9, 11], [3, 69], [1, 28], [6, 46], [5, 46], [7, 72], [8, 30]]\n",
      "Job_082:  [[1, 91], [0, 85], [3, 39], [2, 74], [8, 90], [5, 10], [7, 12], [6, 89], [9, 45], [4, 33]]\n",
      "Job_083:  [[1, 81], [2, 95], [0, 71], [4, 99], [6, 9], [8, 52], [7, 85], [3, 98], [9, 22], [5, 43]]\n",
      "Job_084:  [[2, 14], [0, 6], [1, 22], [5, 61], [3, 26], [4, 69], [8, 21], [7, 49], [9, 72], [6, 53]]\n",
      "Job_085:  [[2, 84], [1, 2], [5, 52], [3, 95], [8, 48], [9, 72], [0, 47], [6, 65], [4, 6], [7, 25]]\n",
      "Job_086:  [[1, 46], [0, 37], [3, 61], [2, 13], [6, 32], [5, 21], [9, 32], [8, 89], [7, 30], [4, 55]]\n",
      "Job_087:  [[2, 31], [0, 86], [1, 46], [5, 74], [4, 32], [6, 88], [8, 19], [9, 48], [7, 36], [3, 79]]\n",
      "Job_088:  [[0, 76], [1, 69], [3, 76], [5, 51], [2, 85], [9, 11], [6, 40], [7, 89], [4, 26], [8, 74]]\n",
      "\n"
     ]
    }
   ],
   "source": [
    "jssp_data, df_arrivals = generate_jobs_for_days(4, instance)\n",
    "show.print_jobs(jssp_data)"
   ]
  },
  {
   "cell_type": "code",
   "execution_count": 13,
   "id": "b3bb8e48-3204-45ae-9fa0-480d3cb719a4",
   "metadata": {},
   "outputs": [
    {
     "data": {
      "text/html": [
       "<div>\n",
       "<style scoped>\n",
       "    .dataframe tbody tr th:only-of-type {\n",
       "        vertical-align: middle;\n",
       "    }\n",
       "\n",
       "    .dataframe tbody tr th {\n",
       "        vertical-align: top;\n",
       "    }\n",
       "\n",
       "    .dataframe thead th {\n",
       "        text-align: right;\n",
       "    }\n",
       "</style>\n",
       "<table border=\"1\" class=\"dataframe\">\n",
       "  <thead>\n",
       "    <tr style=\"text-align: right;\">\n",
       "      <th></th>\n",
       "      <th>Job-ID</th>\n",
       "      <th>Ankunftszeit (Minuten)</th>\n",
       "    </tr>\n",
       "  </thead>\n",
       "  <tbody>\n",
       "    <tr>\n",
       "      <th>0</th>\n",
       "      <td>Job_000</td>\n",
       "      <td>0.00</td>\n",
       "    </tr>\n",
       "    <tr>\n",
       "      <th>1</th>\n",
       "      <td>Job_001</td>\n",
       "      <td>84.93</td>\n",
       "    </tr>\n",
       "    <tr>\n",
       "      <th>2</th>\n",
       "      <td>Job_002</td>\n",
       "      <td>106.18</td>\n",
       "    </tr>\n",
       "    <tr>\n",
       "      <th>3</th>\n",
       "      <td>Job_003</td>\n",
       "      <td>148.31</td>\n",
       "    </tr>\n",
       "    <tr>\n",
       "      <th>4</th>\n",
       "      <td>Job_004</td>\n",
       "      <td>185.08</td>\n",
       "    </tr>\n",
       "    <tr>\n",
       "      <th>...</th>\n",
       "      <td>...</td>\n",
       "      <td>...</td>\n",
       "    </tr>\n",
       "    <tr>\n",
       "      <th>84</th>\n",
       "      <td>Job_084</td>\n",
       "      <td>5519.69</td>\n",
       "    </tr>\n",
       "    <tr>\n",
       "      <th>85</th>\n",
       "      <td>Job_085</td>\n",
       "      <td>5542.52</td>\n",
       "    </tr>\n",
       "    <tr>\n",
       "      <th>86</th>\n",
       "      <td>Job_086</td>\n",
       "      <td>5591.92</td>\n",
       "    </tr>\n",
       "    <tr>\n",
       "      <th>87</th>\n",
       "      <td>Job_087</td>\n",
       "      <td>5644.29</td>\n",
       "    </tr>\n",
       "    <tr>\n",
       "      <th>88</th>\n",
       "      <td>Job_088</td>\n",
       "      <td>5680.08</td>\n",
       "    </tr>\n",
       "  </tbody>\n",
       "</table>\n",
       "<p>89 rows × 2 columns</p>\n",
       "</div>"
      ],
      "text/plain": [
       "     Job-ID  Ankunftszeit (Minuten)\n",
       "0   Job_000                    0.00\n",
       "1   Job_001                   84.93\n",
       "2   Job_002                  106.18\n",
       "3   Job_003                  148.31\n",
       "4   Job_004                  185.08\n",
       "..      ...                     ...\n",
       "84  Job_084                 5519.69\n",
       "85  Job_085                 5542.52\n",
       "86  Job_086                 5591.92\n",
       "87  Job_087                 5644.29\n",
       "88  Job_088                 5680.08\n",
       "\n",
       "[89 rows x 2 columns]"
      ]
     },
     "execution_count": 13,
     "metadata": {},
     "output_type": "execute_result"
    }
   ],
   "source": [
    "df_arrivals"
   ]
  },
  {
   "cell_type": "markdown",
   "id": "d75c2b32-f950-4550-9dfe-563df262dcb5",
   "metadata": {},
   "source": [
    "## 1) Two Stages \n",
    "1. Globales Makespan minimieren\n",
    "2. Jobs (alle Operationen) möglichst an die Ankunftszeit bringen"
   ]
  },
  {
   "cell_type": "code",
   "execution_count": null,
   "id": "6b4866b5-fcb6-410b-a322-e51263f3ed53",
   "metadata": {},
   "outputs": [],
   "source": [
    "df_plan_stage1, makespan = ssv.solve_jssp_global_makespan(jssp_data, df_arrivals, solver_time_limit=900, epsilon=0.06)"
   ]
  },
  {
   "cell_type": "code",
   "execution_count": null,
   "id": "e7f1f3d4-2360-42e5-b57a-8d04e67bf6ea",
   "metadata": {},
   "outputs": [],
   "source": [
    "df = df_plan_stage1\n",
    "category = \"3 Tage\"\n",
    "show.plot_gantt_jobs(df, 'Gantt-Diagramm für \"{}\"'.format(category), duration_column = \"Processing Time\")\n",
    "show.plot_gantt_machines(df, 'Gantt-Diagramm für \"{}\"'.format(category), duration_column = \"Processing Time\")\n",
    "\n",
    "is_machine_conflict_free(df)\n",
    "is_job_machine_sequence_correct(df, jssp_data)\n",
    "is_start_correct(df, df_arrivals)"
   ]
  },
  {
   "cell_type": "code",
   "execution_count": null,
   "id": "590a8dd4-7109-410d-b32e-ebe6c3519a93",
   "metadata": {},
   "outputs": [],
   "source": [
    "df_plan_stage2, optimal_makespan = ssv.solve_stage2_early_starts_all(jssp_data, df_arrivals, makespan, solver_time_limit=900, epsilon=0.06)"
   ]
  },
  {
   "cell_type": "code",
   "execution_count": null,
   "id": "abf38b8d-8428-47b2-86ab-6f7f0bf718e5",
   "metadata": {},
   "outputs": [],
   "source": [
    "df = df_plan_stage2\n",
    "category = \"3 Tage\"\n",
    "show.plot_gantt_jobs(df, 'Gantt-Diagramm für \"{}\"'.format(category), duration_column = \"Processing Time\")\n",
    "show.plot_gantt_machines(df, 'Gantt-Diagramm für \"{}\"'.format(category), duration_column = \"Processing Time\")\n",
    "\n",
    "is_machine_conflict_free(df)\n",
    "is_job_machine_sequence_correct(df, jssp_data)\n",
    "is_start_correct(df, df_arrivals)"
   ]
  },
  {
   "cell_type": "code",
   "execution_count": null,
   "id": "20a79b57-5179-4185-ab7b-01172301ad5c",
   "metadata": {},
   "outputs": [],
   "source": [
    "print(f\"Globale Makespan:{max(df.End)}\")"
   ]
  },
  {
   "cell_type": "code",
   "execution_count": null,
   "id": "421093dc-4511-4179-9406-2641d28dfee1",
   "metadata": {},
   "outputs": [],
   "source": [
    "df_job_flow = (\n",
    "    df.groupby(\"Job\")\n",
    "    .agg({\"Arrival\": \"first\", \"Start\": \"min\",\"End\": \"max\"})\n",
    "    .rename(columns={\"Arrival\": \"Arrival Time\", \"Start\": \"Start\", \"End\": \"Completion Time\"})\n",
    "    .reset_index()\n",
    ")\n",
    "df_job_flow"
   ]
  },
  {
   "cell_type": "code",
   "execution_count": null,
   "id": "d022e264-dc0b-4b37-8226-39b03db48335",
   "metadata": {},
   "outputs": [],
   "source": [
    "df.to_csv(\"data/03_schedule_by_stages.csv\", index = False)"
   ]
  },
  {
   "cell_type": "markdown",
   "id": "8ed0259b-75ec-40fe-bba8-8309c4cd9cfe",
   "metadata": {},
   "source": [
    "## 2) Indivuelle Flowtimes (Makespans) minimieren\n",
    "Flowtime eines Jobs = \"Ende der letzen Operation des Jobs\" - \"Ankunftszeit des Jobs\"\n",
    "\n",
    "- Jobs werden nach Ankunftszeit sotiert (absteigend) da es bessere Resultate liefert"
   ]
  },
  {
   "cell_type": "markdown",
   "id": "ba56340f-15ca-4687-9358-75994de174b2",
   "metadata": {},
   "source": [
    "### A) Ungewichtet"
   ]
  },
  {
   "cell_type": "code",
   "execution_count": null,
   "id": "b0e4c6af-edf0-4c04-b477-3a93cbf0aa1e",
   "metadata": {},
   "outputs": [],
   "source": [
    "df_plan_2a, total = ssv.solve_jssp_individual_flowtime(jssp_data, df_arrivals, solver_time_limit=900, epsilon=0.06)"
   ]
  },
  {
   "cell_type": "code",
   "execution_count": null,
   "id": "11a55640-ade8-4c40-900a-900b2dd239b4",
   "metadata": {},
   "outputs": [],
   "source": [
    "df = df_plan_2a\n",
    "category = \"3 Tage\"\n",
    "show.plot_gantt_jobs(df, 'Gantt-Diagramm für \"{}\"'.format(category), duration_column = \"Processing Time\")\n",
    "show.plot_gantt_machines(df, 'Gantt-Diagramm für \"{}\"'.format(category), duration_column = \"Processing Time\")\n",
    "\n",
    "is_machine_conflict_free(df)\n",
    "is_job_machine_sequence_correct(df, jssp_data)\n",
    "is_start_correct(df, df_arrivals)"
   ]
  },
  {
   "cell_type": "code",
   "execution_count": null,
   "id": "6321cb2e-a933-4cbf-863c-1186de9504c1",
   "metadata": {},
   "outputs": [],
   "source": [
    "print(f\"Globale Makespan:{max(df.End)}\")"
   ]
  },
  {
   "cell_type": "code",
   "execution_count": null,
   "id": "6419b203-59fe-4c1b-b8b6-766d7565cbb9",
   "metadata": {},
   "outputs": [],
   "source": [
    "df_job_flow = (\n",
    "    df.groupby(\"Job\")\n",
    "    .agg({\"Arrival\": \"first\", \"Start\": \"min\",\"End\": \"max\"})\n",
    "    .rename(columns={\"Arrival\": \"Arrival Time\", \"Start\": \"Start\", \"End\": \"Completion Time\"})\n",
    "    .reset_index()\n",
    ")\n",
    "df_job_flow"
   ]
  },
  {
   "cell_type": "code",
   "execution_count": null,
   "id": "28687ac3-3b36-4bee-9cc2-af64614bf26a",
   "metadata": {},
   "outputs": [],
   "source": [
    "df.to_csv(\"data/03a_schedule_by_individual_flowtime.csv\", index = False)"
   ]
  },
  {
   "cell_type": "markdown",
   "id": "646e92ad-c180-4a14-a5e5-2d61fcd79e8b",
   "metadata": {},
   "source": [
    "### B) Gewichtet (wenn früher arrival)"
   ]
  },
  {
   "cell_type": "code",
   "execution_count": null,
   "id": "743b93bf-eb0a-47fc-9c56-e5cb92eafc2e",
   "metadata": {},
   "outputs": [],
   "source": [
    "df_plan_2b, total = ssv.solve_jssp_weighted_individual_flowtime(jssp_data, df_arrivals, solver_time_limit=900, epsilon=0.06)"
   ]
  },
  {
   "cell_type": "code",
   "execution_count": null,
   "id": "929ff15a-913e-4156-90d9-d200311cb6e6",
   "metadata": {},
   "outputs": [],
   "source": [
    "df = df_plan_2b\n",
    "category = \"3 Tage\"\n",
    "show.plot_gantt_jobs(df, 'Gantt-Diagramm für \"{}\"'.format(category), duration_column = \"Processing Time\")\n",
    "show.plot_gantt_machines(df, 'Gantt-Diagramm für \"{}\"'.format(category), duration_column = \"Processing Time\")\n",
    "\n",
    "is_machine_conflict_free(df)\n",
    "is_job_machine_sequence_correct(df, jssp_data)\n",
    "is_start_correct(df, df_arrivals)"
   ]
  },
  {
   "cell_type": "code",
   "execution_count": null,
   "id": "b9ccde2c-8197-412e-853d-517e4a7eed55",
   "metadata": {},
   "outputs": [],
   "source": [
    "print(f\"Globale Makespan:{max(df.End)}\")"
   ]
  },
  {
   "cell_type": "code",
   "execution_count": null,
   "id": "ef32a544-822f-4d14-b7cb-cb603d52e2d6",
   "metadata": {},
   "outputs": [],
   "source": [
    "df_job_flow = (\n",
    "    df.groupby(\"Job\")\n",
    "    .agg({\"Arrival\": \"first\", \"Start\": \"min\",\"End\": \"max\"})\n",
    "    .rename(columns={\"Arrival\": \"Arrival Time\", \"Start\": \"Start\", \"End\": \"Completion Time\"})\n",
    "    .reset_index()\n",
    ")\n",
    "df_job_flow"
   ]
  },
  {
   "cell_type": "code",
   "execution_count": null,
   "id": "138b613a-ab4e-4c11-82db-7bc05f8e75d3",
   "metadata": {},
   "outputs": [],
   "source": [
    "df.to_csv(\"data/03b_schedule_by_individual_flowtime_weighted.csv\", index = False)"
   ]
  }
 ],
 "metadata": {
  "kernelspec": {
   "display_name": "Python [conda env:base] *",
   "language": "python",
   "name": "conda-base-py"
  },
  "language_info": {
   "codemirror_mode": {
    "name": "ipython",
    "version": 3
   },
   "file_extension": ".py",
   "mimetype": "text/x-python",
   "name": "python",
   "nbconvert_exporter": "python",
   "pygments_lexer": "ipython3",
   "version": "3.12.9"
  }
 },
 "nbformat": 4,
 "nbformat_minor": 5
}
