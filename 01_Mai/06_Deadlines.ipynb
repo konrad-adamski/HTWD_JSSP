{
 "cells": [
  {
   "metadata": {},
   "cell_type": "markdown",
   "source": "# Deadlines",
   "id": "79cb481f14e2df9d"
  },
  {
   "metadata": {},
   "cell_type": "code",
   "outputs": [],
   "execution_count": null,
   "source": [
    "import json\n",
    "import pandas as pd"
   ],
   "id": "7f7bb0881fc5bbcb"
  },
  {
   "metadata": {},
   "cell_type": "code",
   "outputs": [],
   "execution_count": null,
   "source": [
    "import utils.checker as check\n",
    "import utils.presenter as show\n",
    "import utils.schedule_interarrival as sit\n",
    "import utils.schedule_solver__with_arrivals as ssv"
   ],
   "id": "81867c6b2ad674b8"
  },
  {
   "metadata": {},
   "cell_type": "code",
   "outputs": [],
   "execution_count": null,
   "source": [
    "# Datei laden\n",
    "with open(\"data/jobshop_instances.json\", \"r\", encoding=\"utf-8\") as f:\n",
    "    jobshop_instances = json.load(f)\n",
    "\n",
    "instance =  jobshop_instances[\"instance ft10\"]\n",
    "show.print_jobs(instance)"
   ],
   "id": "5cae9fb6275d1e1e"
  },
  {
   "metadata": {},
   "cell_type": "markdown",
   "source": "### a) Ankunftszeiten",
   "id": "2b34bf26fa62fd01"
  },
  {
   "metadata": {},
   "cell_type": "code",
   "outputs": [],
   "execution_count": null,
   "source": [
    "mean_interarrival_time = sit.calculate_mean_interarrival_time(instance)\n",
    "mean_interarrival_time"
   ],
   "id": "2af15b6e6f3ea6c3"
  },
  {
   "metadata": {},
   "cell_type": "code",
   "outputs": [],
   "execution_count": null,
   "source": [
    "df_arrivals = sit.generate_job_arrivals_df_by_mean_interarrival_time(instance, t_a=mean_interarrival_time)\n",
    "df_arrivals"
   ],
   "id": "6c99ae9f067dbb70"
  },
  {
   "metadata": {},
   "cell_type": "markdown",
   "source": "### b) Schedule",
   "id": "93232e9221ca5a0d"
  },
  {
   "metadata": {},
   "cell_type": "code",
   "outputs": [],
   "execution_count": null,
   "source": [
    "df_fcfs = ssv.schedule_fcfs_with_arrivals(instance, df_arrivals)\n",
    "df_fcfs"
   ],
   "id": "6db9284a4efa7cd6"
  },
  {
   "metadata": {},
   "cell_type": "code",
   "outputs": [],
   "execution_count": null,
   "source": [
    "category = \"First Come First Serve\"\n",
    "\n",
    "show.plot_gantt_jobs(df_fcfs, 'Gantt-Diagramm für \"{}\"'.format(category), duration_column= \"Processing Time\")\n",
    "show.plot_gantt_machines(df_fcfs, 'Gantt-Diagramm für \"{}\"'.format(category), duration_column= \"Processing Time\")\n",
    "\n",
    "check.check_all_constraints(df_fcfs, instance)"
   ],
   "id": "ab38405a4cabf51d"
  },
  {
   "metadata": {},
   "cell_type": "markdown",
   "source": "## Deadlines",
   "id": "79d78f5c3bbff938"
  },
  {
   "metadata": {},
   "cell_type": "markdown",
   "source": [
    "$$\n",
    "{d_{j}=a_{j}+k\\,p_{j}}\n",
    "$$  \n",
    "\n",
    "$$\n",
    "S(k)=\\frac{1}{n}\\sum_{j=1}^{n}\\mathbf{1}\\!\\bigl[C_{j}(k)\\le d_{j}(k)\\bigr]\n",
    "$$  \n",
    "\n",
    "$$\n",
    "S(k)\\;\\ge\\;S_{\\text{target}}\n",
    "$$  \n",
    "\n",
    "---\n",
    "\n",
    "* **$a_{j}$** – Ankunftszeit (Release-Date) von Job $j$  \n",
    "* **$p_{j}$** – *Processing time* des Jobs (aus dem Job Shop Scheduling-Problem) \n",
    "\n",
    "  $$p_{j}=\\sum_{(m,d)\\in j} d$$  \n",
    "\n",
    "  Summe aller Operationsdauern $d$ von Job $j$ über sämtliche Maschinen $m$.  \n",
    "* **$k$** – Due-Date-Faktor, den die Binärsuche einstellt  \n",
    "* **$d_{j}$** – zugewiesene Deadline für Job $j$  \n",
    "* **$C_{j}(k)$** – Fertigstellzeit von Job $j$ im geplanten Schedule bei Faktor $k$  \n",
    "* **$\\mathbf{1}[\\;\\cdot\\;]$** – Indikatorfunktion (1, wenn Aussage wahr; sonst 0)  \n",
    "* **$S(k)$** – gemessener Service-Level (Anteil pünktlicher Jobs) bei Faktor $k$  \n",
    "* **$S_{\\text{target}}$** – gewünschter Mindest-Service-Level (z. B. $0{,}95$ - mindestens $95$% aller **Jobs** sollen ihre **Deadline** einhalten)  \n"
   ],
   "id": "5a1f00b96074c8e5"
  },
  {
   "metadata": {},
   "cell_type": "code",
   "outputs": [],
   "execution_count": null,
   "source": [
    "def calc_due_dates(jobs: dict, arrivals: pd.DataFrame, k: float, buffer: float = 0.0) -> dict:\n",
    "    \"\"\"\n",
    "    Berechnet Deadlines für jedes Job j als\n",
    "      d_j = a_j + (k + buffer)*p_j\n",
    "    \"\"\"\n",
    "    # Gesamtbearbeitungszeiten p_j\n",
    "    p_tot = {j: sum(d for _, d in ops) for j, ops in jobs.items()}\n",
    "    # Ankunftszeiten a_j\n",
    "    a = arrivals.set_index(\"Job\")[\"Arrival\"].to_dict()\n",
    "    # Deadline-Berechnung\n",
    "    return {j: a[j] + (k + buffer) * p_tot[j] for j in jobs}\n",
    "\n",
    "\n",
    "def find_k(jobs, arrivals, schedule_func, target_service=0.95, final_buffer: float = 0.0):\n",
    "    \"\"\"sucht k via Binärsuche; Schedule einmal vorterminiert\"\"\"\n",
    "    \n",
    "    # 1) einmaligen Schedule holen (für z.B. FCFS o.ä., der nicht deadline‐abhängig ist)\n",
    "    sched = schedule_func(jobs, arrivals)\n",
    "    \n",
    "    # 2) Binärsuche\n",
    "    lo, hi = 0.5, 5.0                      # Startintervall (evtl. anpassen)\n",
    "    for _ in range(15):                    # 15 Iterationen ≈ 1/2^15 Genauigkeit            \n",
    "        k = (lo + hi) / 2\n",
    "        d = calc_due_dates(jobs, arrivals, k)\n",
    "        \n",
    "        # Service‐Level neu berechnen\n",
    "        on_time = (sched[\"End\"] <= sched[\"Job\"].map(d)).mean()\n",
    "        if on_time >= target_service:\n",
    "            hi = k                          # Deadlines sind noch zu großzügig\n",
    "        else:\n",
    "            lo = k                          # Deadlines zu eng\n",
    "\n",
    "    # Deadlines\n",
    "    if final_buffer > 0:\n",
    "        d = calc_due_dates(jobs, arrivals, k, buffer=final_buffer)\n",
    "    return k, d"
   ],
   "id": "1ea513ff96b25a9c"
  },
  {
   "metadata": {},
   "cell_type": "code",
   "outputs": [],
   "execution_count": null,
   "source": [
    "k_opt, deadlines = find_k(instance, df_arrivals, ssv.schedule_fcfs_with_arrivals, target_service=0.95)\n",
    "print(f\"Gefundener Due-Date-Faktor k = {k_opt:.4f}\")"
   ],
   "id": "a30d15b97e11c2b7"
  },
  {
   "metadata": {},
   "cell_type": "code",
   "outputs": [],
   "execution_count": null,
   "source": [
    "df_arrivals_deadlines = df_arrivals.assign(Deadline=df_arrivals[\"Job\"].map(deadlines)).sort_values(\"Arrival\")\n",
    "df_temp= df_fcfs.groupby('Job', as_index=False).agg(End=('End', 'max'))\n",
    "df_arrivals_deadlines.merge(df_temp, on=\"Job\").sort_values(\"Arrival\")[[\"Job\",\"Arrival\", \"End\", \"Deadline\"]]"
   ],
   "id": "9683c6a5970712a4"
  },
  {
   "metadata": {},
   "cell_type": "code",
   "outputs": [],
   "execution_count": null,
   "source": "",
   "id": "595a38e37b8daa0e"
  },
  {
   "metadata": {},
   "cell_type": "code",
   "outputs": [],
   "execution_count": null,
   "source": "",
   "id": "75c96240f28a8c3a"
  }
 ],
 "metadata": {
  "kernelspec": {
   "display_name": "Python [conda env:base] *",
   "language": "python",
   "name": "conda-base-py"
  },
  "language_info": {
   "codemirror_mode": {
    "name": "ipython",
    "version": 3
   },
   "file_extension": ".py",
   "mimetype": "text/x-python",
   "name": "python",
   "nbconvert_exporter": "python",
   "pygments_lexer": "ipython3",
   "version": "3.12.9"
  }
 },
 "nbformat": 4,
 "nbformat_minor": 5
}
