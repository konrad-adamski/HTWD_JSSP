{
 "cells": [
  {
   "metadata": {},
   "cell_type": "code",
   "outputs": [],
   "execution_count": null,
   "source": "import json",
   "id": "82af5bfdb59317dc"
  },
  {
   "metadata": {},
   "cell_type": "code",
   "outputs": [],
   "execution_count": null,
   "source": [
    "import pandas as pd\n",
    "pd.set_option('display.max_rows', 20)"
   ],
   "id": "5ba31ab34bd288f7"
  },
  {
   "metadata": {},
   "cell_type": "code",
   "outputs": [],
   "execution_count": null,
   "source": [
    "import utils.checker as check\n",
    "import utils.presenter as show\n",
    "import utils.schedule_solver__with_arrivals as ssv\n",
    "\n",
    "import utils.converter as convert"
   ],
   "id": "c8485a7b6cc6dff4"
  },
  {
   "metadata": {},
   "cell_type": "code",
   "outputs": [],
   "execution_count": null,
   "source": "import utils.rolling_planning as rp",
   "id": "c53ab65fc112075c"
  },
  {
   "metadata": {},
   "cell_type": "code",
   "outputs": [],
   "execution_count": null,
   "source": "from ProductionDaySimulation import ProductionDaySimulation",
   "id": "a2b096eacacc915b"
  },
  {
   "metadata": {},
   "cell_type": "code",
   "outputs": [],
   "execution_count": null,
   "source": "import utils.schedule_solver__rescheduling as re_ssv",
   "id": "f5883d99e1b9be8d"
  },
  {
   "metadata": {},
   "cell_type": "code",
   "outputs": [],
   "execution_count": null,
   "source": [
    "# Datei laden\n",
    "with open(\"data/jobshop_instances.json\", \"r\", encoding=\"utf-8\") as f:\n",
    "    jobshop_instances = json.load(f)\n",
    "\n",
    "instance =  jobshop_instances[\"instance ft10\"]\n",
    "show.print_jobs(instance)"
   ],
   "id": "78033f31ede8b132"
  },
  {
   "metadata": {},
   "cell_type": "code",
   "outputs": [],
   "execution_count": null,
   "source": "minutes = 50",
   "id": "d04a9919995df1d6"
  },
  {
   "metadata": {},
   "cell_type": "markdown",
   "source": "## Day 0",
   "id": "53e84a0654209cf5"
  },
  {
   "metadata": {},
   "cell_type": "code",
   "outputs": [],
   "execution_count": null,
   "source": [
    "jssp_data, df_times = rp.init_jobs_with_arrivals(instance, 3, u_b_mmax = 0.75, \n",
    "                                                    generate_deadlines = True, deadlines_buffer_factor= 1.9)\n",
    "show.print_jobs(jssp_data)"
   ],
   "id": "48e901fce177e43d"
  },
  {
   "metadata": {},
   "cell_type": "code",
   "outputs": [],
   "execution_count": null,
   "source": "df_times ",
   "id": "a938ff86751c1784"
  },
  {
   "metadata": {},
   "cell_type": "markdown",
   "source": "### 1) Scheduling",
   "id": "6a7b49ca71c45479"
  },
  {
   "metadata": {},
   "cell_type": "code",
   "outputs": [],
   "execution_count": null,
   "source": [
    "df_plan0, total = ssv.solve_jssp_weighted_individual_flowtime(jssp_data, df_times, solver_time_limit= 60*minutes, epsilon=0.06)\n",
    "check.check_all_constraints(df_plan0, jssp_data)"
   ],
   "id": "652de092c4d0166c"
  },
  {
   "metadata": {},
   "cell_type": "code",
   "outputs": [],
   "execution_count": null,
   "source": [
    "print(f\"Globale Makespan:{max(df_plan0.End)}\")\n",
    "df_plan0"
   ],
   "id": "2126adf9fcacb6b4"
  },
  {
   "metadata": {},
   "cell_type": "code",
   "outputs": [],
   "execution_count": null,
   "source": [
    "df = df_plan0\n",
    "\n",
    "block = 1440                                        \n",
    "for idx, part_df in df.groupby(df['Arrival'] // block, sort=True):\n",
    "    show.plot_gantt_machines(part_df, f\"Gantt-Diagramm Arrival-Tag {int(idx)}\")"
   ],
   "id": "e21588ce4778878"
  },
  {
   "metadata": {},
   "cell_type": "markdown",
   "source": "### 2) Simulation für Tag 0",
   "id": "8d7eb2c0e30eec68"
  },
  {
   "metadata": {},
   "cell_type": "code",
   "outputs": [],
   "execution_count": null,
   "source": [
    "day_start = 0\n",
    "day_end = 1440\n",
    "\n",
    "filt = (df_plan0[\"Start\"] >=  day_start) & (df_plan0[\"Start\"] < day_end)\n",
    "df_schedule_0 = df_plan0[filt]\n",
    "df_schedule_0"
   ],
   "id": "24dd7b61d956e5a1"
  },
  {
   "metadata": {},
   "cell_type": "code",
   "outputs": [],
   "execution_count": null,
   "source": [
    "simulation = ProductionDaySimulation(df_schedule_0, vc=0.25)\n",
    "df_execution, df_undone = simulation.run(end_time=day_end)"
   ],
   "id": "3fca6997ddd37c2e"
  },
  {
   "metadata": {},
   "cell_type": "code",
   "outputs": [],
   "execution_count": null,
   "source": "df_execution",
   "id": "d401cfb469e663a3"
  },
  {
   "metadata": {},
   "cell_type": "code",
   "outputs": [],
   "execution_count": null,
   "source": "show.plot_gantt_machines(df_execution, duration_column = \"Simulated Processing Time\")",
   "id": "8f13bcef451f1f73"
  },
  {
   "metadata": {},
   "cell_type": "markdown",
   "source": "### 3) Verbliebe Jobs nach Tag 0",
   "id": "b9f75fb999d74c54"
  },
  {
   "metadata": {},
   "cell_type": "code",
   "outputs": [],
   "execution_count": null,
   "source": [
    "df_plan = df_plan0\n",
    "\n",
    "df_rest = df_plan.merge(df_execution[[\"Job\", \"Machine\"]], on=[\"Job\", \"Machine\"], how=\"left\", indicator=True)\n",
    "df_rest = df_rest[df_rest[\"_merge\"] == \"left_only\"].drop(columns=[\"_merge\"])\n",
    "df_rest = df_rest.sort_values(by=[\"Arrival\", \"Start\"]).reset_index(drop=True)\n",
    "df_rest"
   ],
   "id": "61386780974e7904"
  },
  {
   "metadata": {},
   "cell_type": "code",
   "outputs": [],
   "execution_count": null,
   "source": [
    "jssp_data_rest = convert.get_jssp_from_schedule(df_rest)\n",
    "show.print_jobs(jssp_data_rest)"
   ],
   "id": "1a5396039831f7e8"
  },
  {
   "metadata": {},
   "cell_type": "code",
   "outputs": [],
   "execution_count": null,
   "source": [
    "allowed = df_rest[\"Job\"].unique() \n",
    "df_time_rest = df_times[df_times[\"Job\"].isin(allowed)].copy()\n",
    "df_time_rest"
   ],
   "id": "b9663295153ced38"
  },
  {
   "metadata": {},
   "cell_type": "markdown",
   "source": "## Day 1",
   "id": "547aab7e2dc51626"
  },
  {
   "metadata": {},
   "cell_type": "code",
   "outputs": [],
   "execution_count": null,
   "source": [
    "jssp_data1, df_times1 = rp.update_new_day(jssp_data_rest, df_time_rest, instance, u_b_mmax= 0.75, generate_deadlines = True, deadlines_buffer_factor= 1.9)\n",
    "show.print_jobs(jssp_data1)\n",
    "df_times1"
   ],
   "id": "922f1da6e23127c6"
  },
  {
   "metadata": {},
   "cell_type": "markdown",
   "source": "### 1) Rescheduling",
   "id": "9cfa7a8c9ac3975f"
  },
  {
   "metadata": {},
   "cell_type": "code",
   "outputs": [],
   "execution_count": null,
   "source": [
    "# Reduktion der bereits ausgeführten Operationen auf die relevanten für die nächsten Tage\n",
    "df_execution_important = df_execution[df_execution[\"End\"] >= 1440]\n",
    "df_execution_important\n",
    "\n",
    "\n",
    "df_plan1 = re_ssv.solve_jssp_weighted_with_fixed_operations_fast(\n",
    "    job_dict=jssp_data1,\n",
    "    df_arrivals=df_times1,\n",
    "    df_executed=df_execution_important,\n",
    "    solver_time_limit=60*minutes,\n",
    "    epsilon=0.6,\n",
    "    arrival_column=\"Arrival\",\n",
    "    reschedule_start=1440\n",
    ")"
   ],
   "id": "d8af60302fefe902"
  },
  {
   "metadata": {},
   "cell_type": "code",
   "outputs": [],
   "execution_count": null,
   "source": [
    "print(f\"Final End:{max(df_plan1.End)}\")\n",
    "df_plan1"
   ],
   "id": "75b951092cdf8c4e"
  },
  {
   "metadata": {},
   "cell_type": "code",
   "outputs": [],
   "execution_count": null,
   "source": [
    "df = df_plan1\n",
    "\n",
    "block = 1440                                        \n",
    "for idx, part_df in df.groupby(df['Arrival'] // block, sort=True):\n",
    "    show.plot_gantt_machines(part_df, f\"Gantt-Diagramm Arrival-Tag {int(idx)}\")"
   ],
   "id": "5900ea60e8a74e37"
  },
  {
   "metadata": {},
   "cell_type": "markdown",
   "source": "### 2) Simulation für Tag 1",
   "id": "86ec2ff757e21d32"
  },
  {
   "metadata": {},
   "cell_type": "code",
   "outputs": [],
   "execution_count": null,
   "source": [
    "day_start = 1440\n",
    "day_end = day_start + 1440\n",
    "\n",
    "filt = (df_plan1[\"Start\"] >=  day_start) & (df_plan1[\"Start\"] < day_end)\n",
    "df_schedule_1 = df_plan1[filt]\n",
    "df_schedule_1"
   ],
   "id": "20a829d88fc688fb"
  },
  {
   "metadata": {},
   "cell_type": "code",
   "outputs": [],
   "execution_count": null,
   "source": [
    "simulation = ProductionDaySimulation(df_schedule_1, vc=0.25)\n",
    "df_execution, df_undone = simulation.run(start_time = day_start, end_time=day_end)"
   ],
   "id": "ce5e04544be3c685"
  },
  {
   "metadata": {},
   "cell_type": "code",
   "outputs": [],
   "execution_count": null,
   "source": "show.plot_gantt_machines(df_execution, duration_column = \"Simulated Processing Time\")",
   "id": "b2a59925fab91ecb"
  },
  {
   "metadata": {},
   "cell_type": "markdown",
   "source": "### 3) Verbleibene Jobs nach Tag 1",
   "id": "8911a5026a3d2120"
  },
  {
   "metadata": {},
   "cell_type": "code",
   "outputs": [],
   "execution_count": null,
   "source": [
    "df_plan = df_plan1\n",
    "\n",
    "df_rest = df_plan.merge(df_execution[[\"Job\", \"Machine\"]], on=[\"Job\", \"Machine\"], how=\"left\", indicator=True)\n",
    "df_rest = df_rest[df_rest[\"_merge\"] == \"left_only\"].drop(columns=[\"_merge\"])\n",
    "df_rest = df_rest.sort_values(by=[\"Arrival\", \"Start\"]).reset_index(drop=True)\n",
    "df_rest"
   ],
   "id": "eca6569bece66f52"
  },
  {
   "metadata": {},
   "cell_type": "code",
   "outputs": [],
   "execution_count": null,
   "source": [
    "jssp_data_rest = convert.get_jssp_from_schedule(df_rest)\n",
    "show.print_jobs(jssp_data_rest)"
   ],
   "id": "9c938f076ca0bf10"
  },
  {
   "metadata": {},
   "cell_type": "code",
   "outputs": [],
   "execution_count": null,
   "source": [
    "df_times = df_times1\n",
    "\n",
    "allowed = df_rest[\"Job\"].unique() \n",
    "df_time_rest = df_times[df_times[\"Job\"].isin(allowed)].copy()\n",
    "df_time_rest"
   ],
   "id": "4452f6ccbb6f5283"
  },
  {
   "metadata": {},
   "cell_type": "markdown",
   "source": "## Day 2",
   "id": "2da3bde2bf9bf2fb"
  },
  {
   "metadata": {},
   "cell_type": "code",
   "outputs": [],
   "execution_count": null,
   "source": [
    "jssp_data2, df_times2 = rp.update_new_day(jssp_data_rest, df_time_rest, instance, u_b_mmax= 0.75, generate_deadlines = True, deadlines_buffer_factor= 1.9)\n",
    "show.print_jobs(jssp_data2)\n",
    "df_times2"
   ],
   "id": "751e7897a07fcb7a"
  },
  {
   "metadata": {},
   "cell_type": "markdown",
   "source": "### 1) Rescheduling",
   "id": "dd08c2ec36cf88ab"
  },
  {
   "metadata": {},
   "cell_type": "code",
   "outputs": [],
   "execution_count": null,
   "source": [
    "# Reduktion der bereits ausgeführten Operationen auf die relevanten für die nächsten Tage\n",
    "df_execution_important = df_execution[df_execution[\"End\"] >= 2880]\n",
    "df_execution_important"
   ],
   "id": "a0e7cce2428884df"
  },
  {
   "metadata": {},
   "cell_type": "code",
   "outputs": [],
   "execution_count": null,
   "source": [
    "df_plan2 = re_ssv.solve_jssp_weighted_with_fixed_operations_fast(\n",
    "    job_dict=jssp_data2,\n",
    "    df_arrivals=df_times2,\n",
    "    df_executed=df_execution_important,\n",
    "    solver_time_limit=60*minutes,\n",
    "    epsilon=0.6,\n",
    "    arrival_column=\"Arrival\",\n",
    "    reschedule_start=2880\n",
    ")"
   ],
   "id": "af9eab1652663191"
  },
  {
   "metadata": {},
   "cell_type": "code",
   "outputs": [],
   "execution_count": null,
   "source": [
    "print(f\"Final End:{max(df_plan2.End)}\")\n",
    "df_plan2"
   ],
   "id": "ea52ae289b2b025"
  },
  {
   "metadata": {},
   "cell_type": "code",
   "outputs": [],
   "execution_count": null,
   "source": [
    "df = df_plan2\n",
    "\n",
    "block = 1440                                        \n",
    "for idx, part_df in df.groupby(df['Arrival'] // block, sort=True):\n",
    "    show.plot_gantt_machines(part_df, f\"Gantt-Diagramm - Block {int(idx)}\")"
   ],
   "id": "cccdb775149cfeb4"
  },
  {
   "metadata": {},
   "cell_type": "markdown",
   "source": "### 2) Simulation für Tag 2",
   "id": "e2d5ecddf1ff8034"
  },
  {
   "metadata": {},
   "cell_type": "code",
   "outputs": [],
   "execution_count": null,
   "source": [
    "day_start = 2880\n",
    "day_end = day_start + 1440\n",
    "\n",
    "filt = (df_plan2[\"Start\"] >=  day_start) & (df_plan2[\"Start\"] < day_end)\n",
    "df_schedule_2 = df_plan2[filt]\n",
    "df_schedule_2"
   ],
   "id": "acbb79d841030a1d"
  },
  {
   "metadata": {},
   "cell_type": "code",
   "outputs": [],
   "execution_count": null,
   "source": [
    "simulation = ProductionDaySimulation(df_schedule_2, vc=0.25)\n",
    "df_execution, df_undone = simulation.run(start_time = day_start, end_time=day_end)"
   ],
   "id": "29dd8d11c39dd292"
  },
  {
   "metadata": {},
   "cell_type": "code",
   "outputs": [],
   "execution_count": null,
   "source": "show.plot_gantt_machines(df_execution, duration_column = \"Simulated Processing Time\")",
   "id": "e296dc7107fc623f"
  },
  {
   "metadata": {},
   "cell_type": "markdown",
   "source": "### 3) Verbleibene Jobs nach Tag 2",
   "id": "779f91fb3c1b9771"
  },
  {
   "metadata": {},
   "cell_type": "code",
   "outputs": [],
   "execution_count": null,
   "source": [
    "df_plan = df_plan2\n",
    "\n",
    "df_rest = df_plan.merge(df_execution[[\"Job\", \"Machine\"]], on=[\"Job\", \"Machine\"], how=\"left\", indicator=True)\n",
    "df_rest = df_rest[df_rest[\"_merge\"] == \"left_only\"].drop(columns=[\"_merge\"])\n",
    "df_rest = df_rest.sort_values(by=[\"Arrival\", \"Start\"]).reset_index(drop=True)\n",
    "df_rest"
   ],
   "id": "2b0e7c0593ce56a4"
  },
  {
   "metadata": {},
   "cell_type": "code",
   "outputs": [],
   "execution_count": null,
   "source": [
    "jssp_data_rest = convert.get_jssp_from_schedule(df_rest)\n",
    "show.print_jobs(jssp_data_rest)"
   ],
   "id": "4f5748cc1ef5c799"
  },
  {
   "metadata": {},
   "cell_type": "code",
   "outputs": [],
   "execution_count": null,
   "source": [
    "df_times = df_times2\n",
    "\n",
    "allowed = df_rest[\"Job\"].unique() \n",
    "df_time_rest = df_times[df_times[\"Job\"].isin(allowed)].copy()\n",
    "df_time_rest"
   ],
   "id": "6c85130b14f12fac"
  },
  {
   "metadata": {},
   "cell_type": "code",
   "outputs": [],
   "execution_count": null,
   "source": "",
   "id": "e5268055fea29b4c"
  },
  {
   "metadata": {},
   "cell_type": "markdown",
   "source": "## Save",
   "id": "a4b5073883d94352"
  },
  {
   "metadata": {},
   "cell_type": "code",
   "outputs": [],
   "execution_count": null,
   "source": [
    "df_plan0.to_csv(\"data/08a_plan0.csv\", index = False)\n",
    "df_plan1.to_csv(\"data/08a_plan1.csv\", index = False)\n",
    "df_plan2.to_csv(\"data/08a_plan2.csv\", index = False)"
   ],
   "id": "655450cafb16946c"
  },
  {
   "metadata": {},
   "cell_type": "code",
   "outputs": [],
   "execution_count": null,
   "source": "",
   "id": "a56ea04c6c5479ae"
  }
 ],
 "metadata": {
  "kernelspec": {
   "display_name": "Python 3 (ipykernel)",
   "language": "python",
   "name": "python3"
  },
  "language_info": {
   "codemirror_mode": {
    "name": "ipython",
    "version": 3
   },
   "file_extension": ".py",
   "mimetype": "text/x-python",
   "name": "python",
   "nbconvert_exporter": "python",
   "pygments_lexer": "ipython3",
   "version": "3.12.2"
  }
 },
 "nbformat": 4,
 "nbformat_minor": 5
}
