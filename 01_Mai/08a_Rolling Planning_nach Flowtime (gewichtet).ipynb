{
 "cells": [
  {
   "cell_type": "code",
   "execution_count": 1,
   "id": "f172a995-86ac-4511-941e-be86badaf9a2",
   "metadata": {},
   "outputs": [],
   "source": [
    "import json"
   ]
  },
  {
   "cell_type": "code",
   "execution_count": 2,
   "id": "3a88dbf7-9a84-44eb-815d-4649b5183bdc",
   "metadata": {},
   "outputs": [],
   "source": [
    "import pandas as pd\n",
    "pd.set_option('display.max_rows', 20)"
   ]
  },
  {
   "cell_type": "code",
   "execution_count": 3,
   "id": "f5c38a56-fcd2-45f0-9fa1-a40459e3fd5a",
   "metadata": {},
   "outputs": [],
   "source": [
    "import utils.checker as check\n",
    "import utils.presenter as show\n",
    "import utils.schedule_solver__with_arrivals as ssv\n",
    "\n",
    "import utils.converter as convert"
   ]
  },
  {
   "cell_type": "code",
   "execution_count": 4,
   "id": "76206b01-555c-46d2-8bb8-f5060da064a9",
   "metadata": {},
   "outputs": [],
   "source": [
    "import utils.rolling_planning as rp"
   ]
  },
  {
   "cell_type": "code",
   "execution_count": 5,
   "id": "9236158f-c23c-4baa-8f25-3a9b55bf558e",
   "metadata": {},
   "outputs": [],
   "source": [
    "from ProductionDaySimulation import ProductionDaySimulation"
   ]
  },
  {
   "cell_type": "code",
   "execution_count": 6,
   "id": "b9472ad6-c49b-4ac4-9ea2-5da3dae67951",
   "metadata": {},
   "outputs": [],
   "source": [
    "import utils.schedule_solver__rescheduling as re_ssv"
   ]
  },
  {
   "cell_type": "code",
   "execution_count": 7,
   "id": "485cf8bc-dabd-4278-9bc0-e1c4de58806d",
   "metadata": {},
   "outputs": [
    {
     "name": "stdout",
     "output_type": "stream",
     "text": [
      "job 0:  [[0, 29], [1, 78], [2, 9], [3, 36], [4, 49], [5, 11], [6, 62], [7, 56], [8, 44], [9, 21]]\n",
      "job 1:  [[0, 43], [2, 90], [4, 75], [9, 11], [3, 69], [1, 28], [6, 46], [5, 46], [7, 72], [8, 30]]\n",
      "job 2:  [[1, 91], [0, 85], [3, 39], [2, 74], [8, 90], [5, 10], [7, 12], [6, 89], [9, 45], [4, 33]]\n",
      "job 3:  [[1, 81], [2, 95], [0, 71], [4, 99], [6, 9], [8, 52], [7, 85], [3, 98], [9, 22], [5, 43]]\n",
      "job 4:  [[2, 14], [0, 6], [1, 22], [5, 61], [3, 26], [4, 69], [8, 21], [7, 49], [9, 72], [6, 53]]\n",
      "job 5:  [[2, 84], [1, 2], [5, 52], [3, 95], [8, 48], [9, 72], [0, 47], [6, 65], [4, 6], [7, 25]]\n",
      "job 6:  [[1, 46], [0, 37], [3, 61], [2, 13], [6, 32], [5, 21], [9, 32], [8, 89], [7, 30], [4, 55]]\n",
      "job 7:  [[2, 31], [0, 86], [1, 46], [5, 74], [4, 32], [6, 88], [8, 19], [9, 48], [7, 36], [3, 79]]\n",
      "job 8:  [[0, 76], [1, 69], [3, 76], [5, 51], [2, 85], [9, 11], [6, 40], [7, 89], [4, 26], [8, 74]]\n",
      "job 9:  [[1, 85], [0, 13], [2, 61], [6, 7], [8, 64], [9, 76], [5, 47], [3, 52], [4, 90], [7, 45]]\n",
      "\n"
     ]
    }
   ],
   "source": [
    "# Datei laden\n",
    "with open(\"data/jobshop_instances.json\", \"r\", encoding=\"utf-8\") as f:\n",
    "    jobshop_instances = json.load(f)\n",
    "\n",
    "instance =  jobshop_instances[\"instance ft10\"]\n",
    "show.print_jobs(instance)"
   ]
  },
  {
   "cell_type": "markdown",
   "id": "b211ab61-d6d1-4512-a043-3ee372241c19",
   "metadata": {},
   "source": [
    "## Day 0"
   ]
  },
  {
   "cell_type": "code",
   "execution_count": 9,
   "id": "d1480bf2-ec2c-4220-a57a-42307265ad7a",
   "metadata": {
    "scrolled": true
   },
   "outputs": [
    {
     "name": "stdout",
     "output_type": "stream",
     "text": [
      "Job_000:  [[0, 29], [1, 78], [2, 9], [3, 36], [4, 49], [5, 11], [6, 62], [7, 56], [8, 44], [9, 21]]\n",
      "Job_001:  [[0, 43], [2, 90], [4, 75], [9, 11], [3, 69], [1, 28], [6, 46], [5, 46], [7, 72], [8, 30]]\n",
      "Job_002:  [[1, 91], [0, 85], [3, 39], [2, 74], [8, 90], [5, 10], [7, 12], [6, 89], [9, 45], [4, 33]]\n",
      "Job_003:  [[1, 81], [2, 95], [0, 71], [4, 99], [6, 9], [8, 52], [7, 85], [3, 98], [9, 22], [5, 43]]\n",
      "Job_004:  [[2, 14], [0, 6], [1, 22], [5, 61], [3, 26], [4, 69], [8, 21], [7, 49], [9, 72], [6, 53]]\n",
      "Job_005:  [[2, 84], [1, 2], [5, 52], [3, 95], [8, 48], [9, 72], [0, 47], [6, 65], [4, 6], [7, 25]]\n",
      "Job_006:  [[1, 46], [0, 37], [3, 61], [2, 13], [6, 32], [5, 21], [9, 32], [8, 89], [7, 30], [4, 55]]\n",
      "Job_007:  [[2, 31], [0, 86], [1, 46], [5, 74], [4, 32], [6, 88], [8, 19], [9, 48], [7, 36], [3, 79]]\n",
      "Job_008:  [[0, 76], [1, 69], [3, 76], [5, 51], [2, 85], [9, 11], [6, 40], [7, 89], [4, 26], [8, 74]]\n",
      "Job_009:  [[1, 85], [0, 13], [2, 61], [6, 7], [8, 64], [9, 76], [5, 47], [3, 52], [4, 90], [7, 45]]\n",
      "Job_010:  [[0, 76], [1, 69], [3, 76], [5, 51], [2, 85], [9, 11], [6, 40], [7, 89], [4, 26], [8, 74]]\n",
      "Job_011:  [[1, 46], [0, 37], [3, 61], [2, 13], [6, 32], [5, 21], [9, 32], [8, 89], [7, 30], [4, 55]]\n",
      "Job_012:  [[0, 29], [1, 78], [2, 9], [3, 36], [4, 49], [5, 11], [6, 62], [7, 56], [8, 44], [9, 21]]\n",
      "Job_013:  [[1, 91], [0, 85], [3, 39], [2, 74], [8, 90], [5, 10], [7, 12], [6, 89], [9, 45], [4, 33]]\n",
      "Job_014:  [[1, 81], [2, 95], [0, 71], [4, 99], [6, 9], [8, 52], [7, 85], [3, 98], [9, 22], [5, 43]]\n",
      "Job_015:  [[0, 43], [2, 90], [4, 75], [9, 11], [3, 69], [1, 28], [6, 46], [5, 46], [7, 72], [8, 30]]\n",
      "Job_016:  [[1, 85], [0, 13], [2, 61], [6, 7], [8, 64], [9, 76], [5, 47], [3, 52], [4, 90], [7, 45]]\n",
      "Job_017:  [[2, 84], [1, 2], [5, 52], [3, 95], [8, 48], [9, 72], [0, 47], [6, 65], [4, 6], [7, 25]]\n",
      "Job_018:  [[2, 14], [0, 6], [1, 22], [5, 61], [3, 26], [4, 69], [8, 21], [7, 49], [9, 72], [6, 53]]\n",
      "Job_019:  [[2, 31], [0, 86], [1, 46], [5, 74], [4, 32], [6, 88], [8, 19], [9, 48], [7, 36], [3, 79]]\n",
      "Job_020:  [[0, 29], [1, 78], [2, 9], [3, 36], [4, 49], [5, 11], [6, 62], [7, 56], [8, 44], [9, 21]]\n",
      "Job_021:  [[0, 43], [2, 90], [4, 75], [9, 11], [3, 69], [1, 28], [6, 46], [5, 46], [7, 72], [8, 30]]\n",
      "Job_022:  [[1, 91], [0, 85], [3, 39], [2, 74], [8, 90], [5, 10], [7, 12], [6, 89], [9, 45], [4, 33]]\n",
      "Job_023:  [[0, 29], [1, 78], [2, 9], [3, 36], [4, 49], [5, 11], [6, 62], [7, 56], [8, 44], [9, 21]]\n",
      "Job_024:  [[0, 43], [2, 90], [4, 75], [9, 11], [3, 69], [1, 28], [6, 46], [5, 46], [7, 72], [8, 30]]\n",
      "Job_025:  [[1, 91], [0, 85], [3, 39], [2, 74], [8, 90], [5, 10], [7, 12], [6, 89], [9, 45], [4, 33]]\n",
      "Job_026:  [[1, 81], [2, 95], [0, 71], [4, 99], [6, 9], [8, 52], [7, 85], [3, 98], [9, 22], [5, 43]]\n",
      "Job_027:  [[2, 14], [0, 6], [1, 22], [5, 61], [3, 26], [4, 69], [8, 21], [7, 49], [9, 72], [6, 53]]\n",
      "Job_028:  [[2, 84], [1, 2], [5, 52], [3, 95], [8, 48], [9, 72], [0, 47], [6, 65], [4, 6], [7, 25]]\n",
      "Job_029:  [[1, 46], [0, 37], [3, 61], [2, 13], [6, 32], [5, 21], [9, 32], [8, 89], [7, 30], [4, 55]]\n",
      "Job_030:  [[2, 31], [0, 86], [1, 46], [5, 74], [4, 32], [6, 88], [8, 19], [9, 48], [7, 36], [3, 79]]\n",
      "Job_031:  [[0, 76], [1, 69], [3, 76], [5, 51], [2, 85], [9, 11], [6, 40], [7, 89], [4, 26], [8, 74]]\n",
      "Job_032:  [[1, 85], [0, 13], [2, 61], [6, 7], [8, 64], [9, 76], [5, 47], [3, 52], [4, 90], [7, 45]]\n",
      "Job_033:  [[0, 76], [1, 69], [3, 76], [5, 51], [2, 85], [9, 11], [6, 40], [7, 89], [4, 26], [8, 74]]\n",
      "Job_034:  [[1, 46], [0, 37], [3, 61], [2, 13], [6, 32], [5, 21], [9, 32], [8, 89], [7, 30], [4, 55]]\n",
      "Job_035:  [[0, 29], [1, 78], [2, 9], [3, 36], [4, 49], [5, 11], [6, 62], [7, 56], [8, 44], [9, 21]]\n",
      "Job_036:  [[1, 91], [0, 85], [3, 39], [2, 74], [8, 90], [5, 10], [7, 12], [6, 89], [9, 45], [4, 33]]\n",
      "Job_037:  [[1, 81], [2, 95], [0, 71], [4, 99], [6, 9], [8, 52], [7, 85], [3, 98], [9, 22], [5, 43]]\n",
      "Job_038:  [[0, 43], [2, 90], [4, 75], [9, 11], [3, 69], [1, 28], [6, 46], [5, 46], [7, 72], [8, 30]]\n",
      "Job_039:  [[1, 85], [0, 13], [2, 61], [6, 7], [8, 64], [9, 76], [5, 47], [3, 52], [4, 90], [7, 45]]\n",
      "Job_040:  [[2, 84], [1, 2], [5, 52], [3, 95], [8, 48], [9, 72], [0, 47], [6, 65], [4, 6], [7, 25]]\n",
      "Job_041:  [[2, 14], [0, 6], [1, 22], [5, 61], [3, 26], [4, 69], [8, 21], [7, 49], [9, 72], [6, 53]]\n",
      "Job_042:  [[2, 31], [0, 86], [1, 46], [5, 74], [4, 32], [6, 88], [8, 19], [9, 48], [7, 36], [3, 79]]\n",
      "Job_043:  [[0, 29], [1, 78], [2, 9], [3, 36], [4, 49], [5, 11], [6, 62], [7, 56], [8, 44], [9, 21]]\n",
      "Job_044:  [[0, 43], [2, 90], [4, 75], [9, 11], [3, 69], [1, 28], [6, 46], [5, 46], [7, 72], [8, 30]]\n",
      "Job_045:  [[1, 91], [0, 85], [3, 39], [2, 74], [8, 90], [5, 10], [7, 12], [6, 89], [9, 45], [4, 33]]\n",
      "Job_046:  [[0, 29], [1, 78], [2, 9], [3, 36], [4, 49], [5, 11], [6, 62], [7, 56], [8, 44], [9, 21]]\n",
      "Job_047:  [[0, 43], [2, 90], [4, 75], [9, 11], [3, 69], [1, 28], [6, 46], [5, 46], [7, 72], [8, 30]]\n",
      "Job_048:  [[1, 91], [0, 85], [3, 39], [2, 74], [8, 90], [5, 10], [7, 12], [6, 89], [9, 45], [4, 33]]\n",
      "Job_049:  [[1, 81], [2, 95], [0, 71], [4, 99], [6, 9], [8, 52], [7, 85], [3, 98], [9, 22], [5, 43]]\n",
      "Job_050:  [[2, 14], [0, 6], [1, 22], [5, 61], [3, 26], [4, 69], [8, 21], [7, 49], [9, 72], [6, 53]]\n",
      "Job_051:  [[2, 84], [1, 2], [5, 52], [3, 95], [8, 48], [9, 72], [0, 47], [6, 65], [4, 6], [7, 25]]\n",
      "Job_052:  [[1, 46], [0, 37], [3, 61], [2, 13], [6, 32], [5, 21], [9, 32], [8, 89], [7, 30], [4, 55]]\n",
      "Job_053:  [[2, 31], [0, 86], [1, 46], [5, 74], [4, 32], [6, 88], [8, 19], [9, 48], [7, 36], [3, 79]]\n",
      "Job_054:  [[0, 76], [1, 69], [3, 76], [5, 51], [2, 85], [9, 11], [6, 40], [7, 89], [4, 26], [8, 74]]\n",
      "Job_055:  [[1, 85], [0, 13], [2, 61], [6, 7], [8, 64], [9, 76], [5, 47], [3, 52], [4, 90], [7, 45]]\n",
      "Job_056:  [[0, 76], [1, 69], [3, 76], [5, 51], [2, 85], [9, 11], [6, 40], [7, 89], [4, 26], [8, 74]]\n",
      "Job_057:  [[1, 46], [0, 37], [3, 61], [2, 13], [6, 32], [5, 21], [9, 32], [8, 89], [7, 30], [4, 55]]\n",
      "Job_058:  [[0, 29], [1, 78], [2, 9], [3, 36], [4, 49], [5, 11], [6, 62], [7, 56], [8, 44], [9, 21]]\n",
      "Job_059:  [[1, 91], [0, 85], [3, 39], [2, 74], [8, 90], [5, 10], [7, 12], [6, 89], [9, 45], [4, 33]]\n",
      "Job_060:  [[1, 81], [2, 95], [0, 71], [4, 99], [6, 9], [8, 52], [7, 85], [3, 98], [9, 22], [5, 43]]\n",
      "Job_061:  [[0, 43], [2, 90], [4, 75], [9, 11], [3, 69], [1, 28], [6, 46], [5, 46], [7, 72], [8, 30]]\n",
      "Job_062:  [[1, 85], [0, 13], [2, 61], [6, 7], [8, 64], [9, 76], [5, 47], [3, 52], [4, 90], [7, 45]]\n",
      "Job_063:  [[2, 84], [1, 2], [5, 52], [3, 95], [8, 48], [9, 72], [0, 47], [6, 65], [4, 6], [7, 25]]\n",
      "Job_064:  [[2, 14], [0, 6], [1, 22], [5, 61], [3, 26], [4, 69], [8, 21], [7, 49], [9, 72], [6, 53]]\n",
      "Job_065:  [[2, 31], [0, 86], [1, 46], [5, 74], [4, 32], [6, 88], [8, 19], [9, 48], [7, 36], [3, 79]]\n",
      "Job_066:  [[0, 29], [1, 78], [2, 9], [3, 36], [4, 49], [5, 11], [6, 62], [7, 56], [8, 44], [9, 21]]\n",
      "Job_067:  [[0, 43], [2, 90], [4, 75], [9, 11], [3, 69], [1, 28], [6, 46], [5, 46], [7, 72], [8, 30]]\n",
      "Job_068:  [[1, 91], [0, 85], [3, 39], [2, 74], [8, 90], [5, 10], [7, 12], [6, 89], [9, 45], [4, 33]]\n",
      "\n"
     ]
    }
   ],
   "source": [
    "jssp_data, df_times = rp.init_jobs_with_arrivals(instance, 3, u_b_mmax = 0.75, \n",
    "                                                    generate_deadlines = True, deadlines_buffer_factor= 1.9)\n",
    "show.print_jobs(jssp_data)"
   ]
  },
  {
   "cell_type": "code",
   "execution_count": 10,
   "id": "0051c744-ceed-45b0-b8ec-c91dc3525db6",
   "metadata": {},
   "outputs": [
    {
     "data": {
      "text/html": [
       "<div>\n",
       "<style scoped>\n",
       "    .dataframe tbody tr th:only-of-type {\n",
       "        vertical-align: middle;\n",
       "    }\n",
       "\n",
       "    .dataframe tbody tr th {\n",
       "        vertical-align: top;\n",
       "    }\n",
       "\n",
       "    .dataframe thead th {\n",
       "        text-align: right;\n",
       "    }\n",
       "</style>\n",
       "<table border=\"1\" class=\"dataframe\">\n",
       "  <thead>\n",
       "    <tr style=\"text-align: right;\">\n",
       "      <th></th>\n",
       "      <th>Job</th>\n",
       "      <th>Arrival</th>\n",
       "      <th>Deadline</th>\n",
       "    </tr>\n",
       "  </thead>\n",
       "  <tbody>\n",
       "    <tr>\n",
       "      <th>0</th>\n",
       "      <td>Job_000</td>\n",
       "      <td>14.37</td>\n",
       "      <td>2362.556555</td>\n",
       "    </tr>\n",
       "    <tr>\n",
       "      <th>1</th>\n",
       "      <td>Job_001</td>\n",
       "      <td>116.28</td>\n",
       "      <td>3148.115805</td>\n",
       "    </tr>\n",
       "    <tr>\n",
       "      <th>2</th>\n",
       "      <td>Job_002</td>\n",
       "      <td>141.78</td>\n",
       "      <td>3518.412818</td>\n",
       "    </tr>\n",
       "    <tr>\n",
       "      <th>3</th>\n",
       "      <td>Job_003</td>\n",
       "      <td>192.34</td>\n",
       "      <td>4086.168337</td>\n",
       "    </tr>\n",
       "    <tr>\n",
       "      <th>4</th>\n",
       "      <td>Job_004</td>\n",
       "      <td>236.45</td>\n",
       "      <td>2572.747002</td>\n",
       "    </tr>\n",
       "    <tr>\n",
       "      <th>...</th>\n",
       "      <td>...</td>\n",
       "      <td>...</td>\n",
       "      <td>...</td>\n",
       "    </tr>\n",
       "    <tr>\n",
       "      <th>64</th>\n",
       "      <td>Job_064</td>\n",
       "      <td>3749.15</td>\n",
       "      <td>6085.447002</td>\n",
       "    </tr>\n",
       "    <tr>\n",
       "      <th>65</th>\n",
       "      <td>Job_065</td>\n",
       "      <td>3907.00</td>\n",
       "      <td>7111.234311</td>\n",
       "    </tr>\n",
       "    <tr>\n",
       "      <th>66</th>\n",
       "      <td>Job_066</td>\n",
       "      <td>4061.64</td>\n",
       "      <td>6409.826555</td>\n",
       "    </tr>\n",
       "    <tr>\n",
       "      <th>67</th>\n",
       "      <td>Job_067</td>\n",
       "      <td>4110.12</td>\n",
       "      <td>7141.955805</td>\n",
       "    </tr>\n",
       "    <tr>\n",
       "      <th>68</th>\n",
       "      <td>Job_068</td>\n",
       "      <td>4210.59</td>\n",
       "      <td>7587.222818</td>\n",
       "    </tr>\n",
       "  </tbody>\n",
       "</table>\n",
       "<p>69 rows × 3 columns</p>\n",
       "</div>"
      ],
      "text/plain": [
       "        Job  Arrival     Deadline\n",
       "0   Job_000    14.37  2362.556555\n",
       "1   Job_001   116.28  3148.115805\n",
       "2   Job_002   141.78  3518.412818\n",
       "3   Job_003   192.34  4086.168337\n",
       "4   Job_004   236.45  2572.747002\n",
       "..      ...      ...          ...\n",
       "64  Job_064  3749.15  6085.447002\n",
       "65  Job_065  3907.00  7111.234311\n",
       "66  Job_066  4061.64  6409.826555\n",
       "67  Job_067  4110.12  7141.955805\n",
       "68  Job_068  4210.59  7587.222818\n",
       "\n",
       "[69 rows x 3 columns]"
      ]
     },
     "execution_count": 10,
     "metadata": {},
     "output_type": "execute_result"
    }
   ],
   "source": [
    "df_times "
   ]
  },
  {
   "cell_type": "markdown",
   "id": "7f05f5a0-f0aa-4d82-b8ea-8de912dd2111",
   "metadata": {},
   "source": [
    "### 1) Scheduling"
   ]
  },
  {
   "cell_type": "code",
   "execution_count": null,
   "id": "bacaaa27-5ad8-4b8a-94ed-918f7bbe3601",
   "metadata": {},
   "outputs": [],
   "source": [
    "minutes = 45\n",
    "df_plan0, total = ssv.solve_jssp_weighted_individual_flowtime(jssp_data, df_times, solver_time_limit= 60*minutes, epsilon=0.06)\n",
    "check.check_all_constraints(df_plan0, jssp_data)"
   ]
  },
  {
   "cell_type": "code",
   "execution_count": null,
   "id": "a5c699d0-6e75-4075-8bc1-3fe1bc26586a",
   "metadata": {},
   "outputs": [],
   "source": [
    "print(f\"Globale Makespan:{max(df_plan0.End)}\")\n",
    "df_plan0"
   ]
  },
  {
   "cell_type": "code",
   "execution_count": null,
   "id": "02f89a7b-cc39-468d-8122-3c2809a6cdb4",
   "metadata": {
    "scrolled": true
   },
   "outputs": [],
   "source": [
    "df = df_plan0\n",
    "\n",
    "block = 1440                                        \n",
    "for idx, part_df in df.groupby(df['Arrival'] // block, sort=True):\n",
    "    show.plot_gantt_machines(part_df, f\"Gantt-Diagramm Arrival-Tag {int(idx)}\")"
   ]
  },
  {
   "cell_type": "markdown",
   "id": "3c80d08c-9048-419d-9c58-33172475c059",
   "metadata": {},
   "source": [
    "### 2) Simulation für Tag 0"
   ]
  },
  {
   "cell_type": "code",
   "execution_count": null,
   "id": "e1afce2f-1134-4908-9df7-5154a396367f",
   "metadata": {},
   "outputs": [],
   "source": [
    "day_start = 0\n",
    "day_end = 1440\n",
    "\n",
    "filt = (df_plan0[\"Start\"] >=  day_start) & (df_plan0[\"Start\"] < day_end)\n",
    "df_schedule_0 = df_plan0[filt]\n",
    "df_schedule_0"
   ]
  },
  {
   "cell_type": "code",
   "execution_count": null,
   "id": "867a3879-60b1-4bb7-98af-8eaa5aef710a",
   "metadata": {
    "scrolled": true
   },
   "outputs": [],
   "source": [
    "simulation = ProductionDaySimulation(df_schedule_0, vc=0.25)\n",
    "df_execution, df_undone = simulation.run(end_time=day_end)"
   ]
  },
  {
   "cell_type": "code",
   "execution_count": null,
   "id": "84cfe879-a926-43f6-a63f-b7efbae1ad8d",
   "metadata": {},
   "outputs": [],
   "source": [
    "df_execution"
   ]
  },
  {
   "cell_type": "code",
   "execution_count": null,
   "id": "efce8d4d-cfcc-40c2-8343-9b372c1596b3",
   "metadata": {},
   "outputs": [],
   "source": [
    "show.plot_gantt_machines(df_execution, duration_column = \"Simulated Processing Time\")"
   ]
  },
  {
   "cell_type": "markdown",
   "id": "358f8f0a-96ac-4239-bb3e-0da1b3241ce1",
   "metadata": {},
   "source": [
    "### 3) Verbliebe Jobs nach Tag 0"
   ]
  },
  {
   "cell_type": "code",
   "execution_count": null,
   "id": "928aa3b0-6261-4468-84bc-553f0d3d6797",
   "metadata": {},
   "outputs": [],
   "source": [
    "df_plan = df_plan0\n",
    "\n",
    "df_rest = df_plan.merge(df_execution[[\"Job\", \"Machine\"]], on=[\"Job\", \"Machine\"], how=\"left\", indicator=True)\n",
    "df_rest = df_rest[df_rest[\"_merge\"] == \"left_only\"].drop(columns=[\"_merge\"])\n",
    "df_rest = df_rest.sort_values(by=[\"Arrival\", \"Start\"]).reset_index(drop=True)\n",
    "df_rest"
   ]
  },
  {
   "cell_type": "code",
   "execution_count": null,
   "id": "de5fb2a5-ca60-4aa2-a3ad-e9686fafb240",
   "metadata": {
    "scrolled": true
   },
   "outputs": [],
   "source": [
    "jssp_data_rest = convert.get_jssp_from_schedule(df_rest)\n",
    "show.print_jobs(jssp_data_rest)"
   ]
  },
  {
   "cell_type": "code",
   "execution_count": null,
   "id": "f0560bba-150c-4ee4-b6e7-b56d5fb01fea",
   "metadata": {},
   "outputs": [],
   "source": [
    "allowed = df_rest[\"Job\"].unique() \n",
    "df_time_rest = df_times[df_times[\"Job\"].isin(allowed)].copy()\n",
    "df_time_rest"
   ]
  },
  {
   "cell_type": "markdown",
   "id": "448ea0a5-74ef-4194-8961-85849b5e98fe",
   "metadata": {},
   "source": [
    "## Day 1"
   ]
  },
  {
   "cell_type": "code",
   "execution_count": null,
   "id": "afaba966-4145-4a0c-93c4-8332b442a263",
   "metadata": {
    "scrolled": true
   },
   "outputs": [],
   "source": [
    "jssp_data1, df_times1 = rp.update_new_day(jssp_data_rest, df_time_rest, instance, u_b_mmax= 0.75, generate_deadlines = True, deadlines_buffer_factor= 1.9)\n",
    "show.print_jobs(jssp_data1)\n",
    "df_times1"
   ]
  },
  {
   "cell_type": "markdown",
   "id": "c1f04dc2-1ee9-47f4-b2de-bedabd94d1f1",
   "metadata": {},
   "source": [
    "### 1) Rescheduling"
   ]
  },
  {
   "cell_type": "code",
   "execution_count": null,
   "id": "a7bf4a58-5b63-4d22-9cd9-c3ab744cef4d",
   "metadata": {},
   "outputs": [],
   "source": [
    "minutes = 45"
   ]
  },
  {
   "cell_type": "code",
   "execution_count": null,
   "id": "d4f8a74e-94c2-4c0f-9aa5-48bc47d654c7",
   "metadata": {},
   "outputs": [],
   "source": [
    "# Reduktion der bereits ausgeführten Operationen auf die relevanten für die nächsten Tage\n",
    "df_execution_important = df_execution[df_execution[\"End\"] >= 1440]\n",
    "df_execution_important\n",
    "\n",
    "\n",
    "df_plan1 = re_ssv.solve_jssp_weighted_with_fixed_operations_fast(\n",
    "    job_dict=jssp_data1,\n",
    "    df_arrivals=df_times1,\n",
    "    df_executed=df_execution_important,\n",
    "    solver_time_limit=60*minutes,\n",
    "    epsilon=0.6,\n",
    "    arrival_column=\"Arrival\",\n",
    "    reschedule_start=1440\n",
    ")"
   ]
  },
  {
   "cell_type": "code",
   "execution_count": null,
   "id": "cfd5e026-932f-4792-b98b-0ae307ec137b",
   "metadata": {},
   "outputs": [],
   "source": [
    "print(f\"Final End:{max(df_plan1.End)}\")\n",
    "df_plan1"
   ]
  },
  {
   "cell_type": "code",
   "execution_count": null,
   "id": "ea59c729-d2da-4d7c-8d01-7969c3c657e6",
   "metadata": {},
   "outputs": [],
   "source": [
    "df = df_plan1\n",
    "\n",
    "block = 1440                                        \n",
    "for idx, part_df in df.groupby(df['Arrival'] // block, sort=True):\n",
    "    show.plot_gantt_machines(part_df, f\"Gantt-Diagramm Arrival-Tag {int(idx)}\")"
   ]
  },
  {
   "cell_type": "markdown",
   "id": "7d8100b4-0c19-4697-a536-dde08094e96d",
   "metadata": {},
   "source": [
    "### 2) Simulation für Tag 1"
   ]
  },
  {
   "cell_type": "code",
   "execution_count": null,
   "id": "5164cd37-1b5a-403c-b023-2e383d4ce2c8",
   "metadata": {},
   "outputs": [],
   "source": [
    "day_start = 1440\n",
    "day_end = day_start + 1440\n",
    "\n",
    "filt = (df_plan1[\"Start\"] >=  day_start) & (df_plan1[\"Start\"] < day_end)\n",
    "df_schedule_1 = df_plan1[filt]\n",
    "df_schedule_1"
   ]
  },
  {
   "cell_type": "code",
   "execution_count": null,
   "id": "14499f07-c303-472b-9aa2-7bbd20dc29e3",
   "metadata": {
    "scrolled": true
   },
   "outputs": [],
   "source": [
    "simulation = ProductionDaySimulation(df_schedule_1, vc=0.25)\n",
    "df_execution, df_undone = simulation.run(start_time = day_start, end_time=day_end)"
   ]
  },
  {
   "cell_type": "code",
   "execution_count": null,
   "id": "a247d166-903d-4a2c-991f-bf839e36d937",
   "metadata": {},
   "outputs": [],
   "source": [
    "show.plot_gantt_machines(df_execution, duration_column = \"Simulated Processing Time\")"
   ]
  },
  {
   "cell_type": "markdown",
   "id": "4ad8c65a-20a5-47e1-bf34-c84af86a7344",
   "metadata": {},
   "source": [
    "### 3) Verbleibene Jobs nach Tag 1"
   ]
  },
  {
   "cell_type": "code",
   "execution_count": null,
   "id": "d3924411-30ea-4e0d-b759-836e21ea3988",
   "metadata": {},
   "outputs": [],
   "source": [
    "df_plan = df_plan1\n",
    "\n",
    "df_rest = df_plan.merge(df_execution[[\"Job\", \"Machine\"]], on=[\"Job\", \"Machine\"], how=\"left\", indicator=True)\n",
    "df_rest = df_rest[df_rest[\"_merge\"] == \"left_only\"].drop(columns=[\"_merge\"])\n",
    "df_rest = df_rest.sort_values(by=[\"Arrival\", \"Start\"]).reset_index(drop=True)\n",
    "df_rest"
   ]
  },
  {
   "cell_type": "code",
   "execution_count": null,
   "id": "4de11c47-3acc-4829-86b4-cee87cbb9da5",
   "metadata": {},
   "outputs": [],
   "source": [
    "jssp_data_rest = convert.get_jssp_from_schedule(df_rest)\n",
    "show.print_jobs(jssp_data_rest)"
   ]
  },
  {
   "cell_type": "code",
   "execution_count": null,
   "id": "ae01fca5-f117-40a2-8810-aed2be594f64",
   "metadata": {},
   "outputs": [],
   "source": [
    "df_times = df_times1\n",
    "\n",
    "allowed = df_rest[\"Job\"].unique() \n",
    "df_time_rest = df_times[df_times[\"Job\"].isin(allowed)].copy()\n",
    "df_time_rest"
   ]
  },
  {
   "cell_type": "markdown",
   "id": "b52970e1-b182-4024-9c3c-c8fce6d9ba1b",
   "metadata": {},
   "source": [
    "## Day 2"
   ]
  },
  {
   "cell_type": "code",
   "execution_count": null,
   "id": "ec05c1ca-8f7b-4aa6-9f0c-ff8d52c7df10",
   "metadata": {},
   "outputs": [],
   "source": [
    "jssp_data2, df_times2 = rp.update_new_day(jssp_data_rest, df_time_rest, instance, u_b_mmax= 0.75, generate_deadlines = True, deadlines_buffer_factor= 1.9)\n",
    "show.print_jobs(jssp_data2)\n",
    "df_times2"
   ]
  },
  {
   "cell_type": "markdown",
   "id": "f7250849-f3e2-43d6-bc66-4279b12c8cc2",
   "metadata": {},
   "source": [
    "### 1) Rescheduling"
   ]
  },
  {
   "cell_type": "code",
   "execution_count": null,
   "id": "7f79accd-2cdd-43c0-86aa-7770d0c71e67",
   "metadata": {},
   "outputs": [],
   "source": [
    "# Reduktion der bereits ausgeführten Operationen auf die relevanten für die nächsten Tage\n",
    "df_execution_important = df_execution[df_execution[\"End\"] >= 2880]\n",
    "df_execution_important"
   ]
  },
  {
   "cell_type": "code",
   "execution_count": null,
   "id": "4b1c3508-7b89-4ebd-a9de-9faa9e901765",
   "metadata": {},
   "outputs": [],
   "source": [
    "df_plan2 = re_ssv.solve_jssp_weighted_with_fixed_operations_fast(\n",
    "    job_dict=jssp_data2,\n",
    "    df_arrivals=df_times2,\n",
    "    df_executed=df_execution_important,\n",
    "    solver_time_limit=60**minutes,\n",
    "    epsilon=0.6,\n",
    "    arrival_column=\"Arrival\",\n",
    "    reschedule_start=2880\n",
    ")"
   ]
  },
  {
   "cell_type": "code",
   "execution_count": null,
   "id": "97170075-c8f1-4a5e-b0e3-36fb12c45dde",
   "metadata": {},
   "outputs": [],
   "source": [
    "print(f\"Final End:{max(df_plan2.End)}\")\n",
    "df_plan2"
   ]
  },
  {
   "cell_type": "code",
   "execution_count": null,
   "id": "0c56c6b6-b673-43cd-81c5-4059b16d4c18",
   "metadata": {},
   "outputs": [],
   "source": [
    "df = df_plan2\n",
    "\n",
    "block = 1440                                        \n",
    "for idx, part_df in df.groupby(df['Arrival'] // block, sort=True):\n",
    "    show.plot_gantt_machines(part_df, f\"Gantt-Diagramm - Block {int(idx)}\")"
   ]
  },
  {
   "cell_type": "markdown",
   "id": "f2a7e1f4-1dd1-4d87-8b13-9b0397821175",
   "metadata": {},
   "source": [
    "### 2) Simulation für Tag 2"
   ]
  },
  {
   "cell_type": "code",
   "execution_count": null,
   "id": "86174cf1-5b8d-4889-9902-3a8091f20f84",
   "metadata": {},
   "outputs": [],
   "source": [
    "day_start = 2880\n",
    "day_end = day_start + 1440\n",
    "\n",
    "filt = (df_plan2[\"Start\"] >=  day_start) & (df_plan2\"Start\"] < day_end)\n",
    "df_schedule_2 = df_plan2[filt]\n",
    "df_schedule_2"
   ]
  },
  {
   "cell_type": "code",
   "execution_count": null,
   "id": "f891c6a3-0690-48a2-8d1b-81235a8bd500",
   "metadata": {},
   "outputs": [],
   "source": [
    "simulation = ProductionDaySimulation(df_schedule_2, vc=0.25)\n",
    "df_execution, df_undone = simulation.run(start_time = day_start, end_time=day_end)"
   ]
  },
  {
   "cell_type": "code",
   "execution_count": null,
   "id": "05118599-c62c-4181-867e-58f7db53cfbf",
   "metadata": {},
   "outputs": [],
   "source": [
    "show.plot_gantt_machines(df_execution, duration_column = \"Simulated Processing Time\")"
   ]
  },
  {
   "cell_type": "markdown",
   "id": "21a61161-d72b-485e-aff3-9d745ca33e93",
   "metadata": {},
   "source": [
    "### 3) Verbleibene Jobs nach Tag 2"
   ]
  },
  {
   "cell_type": "code",
   "execution_count": null,
   "id": "6af491e0-65ff-4a91-8565-6e3e95182a3c",
   "metadata": {},
   "outputs": [],
   "source": [
    "df_plan = df_plan2\n",
    "\n",
    "df_rest = df_plan.merge(df_execution[[\"Job\", \"Machine\"]], on=[\"Job\", \"Machine\"], how=\"left\", indicator=True)\n",
    "df_rest = df_rest[df_rest[\"_merge\"] == \"left_only\"].drop(columns=[\"_merge\"])\n",
    "df_rest = df_rest.sort_values(by=[\"Arrival\", \"Start\"]).reset_index(drop=True)\n",
    "df_rest"
   ]
  },
  {
   "cell_type": "code",
   "execution_count": null,
   "id": "b28d034a-bfa5-4ebc-a481-1fe0225a1d52",
   "metadata": {},
   "outputs": [],
   "source": [
    "jssp_data_rest = convert.get_jssp_from_schedule(df_rest)\n",
    "show.print_jobs(jssp_data_rest)"
   ]
  },
  {
   "cell_type": "code",
   "execution_count": null,
   "id": "107fe362-4948-4124-b5f4-67dc7ab60d54",
   "metadata": {},
   "outputs": [],
   "source": [
    "df_times = df_times1\n",
    "\n",
    "allowed = df_rest[\"Job\"].unique() \n",
    "df_time_rest = df_times[df_times[\"Job\"].isin(allowed)].copy()\n",
    "df_time_rest"
   ]
  },
  {
   "cell_type": "code",
   "execution_count": null,
   "id": "676ad49f-a531-4a58-b1af-f93a832b5458",
   "metadata": {},
   "outputs": [],
   "source": []
  },
  {
   "cell_type": "markdown",
   "id": "5747811e-25c9-44c2-8065-36c9b9efb361",
   "metadata": {},
   "source": [
    "## Save"
   ]
  },
  {
   "cell_type": "code",
   "execution_count": null,
   "id": "fe792957-8b75-42f3-a157-f9e284c38608",
   "metadata": {},
   "outputs": [],
   "source": [
    "df_plan0.to_csv(\"data/08a_plan0.csv\", index = False)\n",
    "df_plan1.to_csv(\"data/08a_plan1.csv\", index = False)\n",
    "df_plan2.to_csv(\"data/08a_plan2.csv\", index = False)"
   ]
  }
 ],
 "metadata": {
  "kernelspec": {
   "display_name": "Python [conda env:base] *",
   "language": "python",
   "name": "conda-base-py"
  },
  "language_info": {
   "codemirror_mode": {
    "name": "ipython",
    "version": 3
   },
   "file_extension": ".py",
   "mimetype": "text/x-python",
   "name": "python",
   "nbconvert_exporter": "python",
   "pygments_lexer": "ipython3",
   "version": "3.12.9"
  }
 },
 "nbformat": 4,
 "nbformat_minor": 5
}
