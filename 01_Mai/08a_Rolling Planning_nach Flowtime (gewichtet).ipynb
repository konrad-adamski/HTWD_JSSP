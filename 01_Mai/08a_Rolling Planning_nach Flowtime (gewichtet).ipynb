{
 "cells": [
  {
   "cell_type": "code",
   "execution_count": null,
   "id": "82af5bfdb59317dc",
   "metadata": {},
   "outputs": [],
   "source": [
    "import json"
   ]
  },
  {
   "cell_type": "code",
   "execution_count": null,
   "id": "5ba31ab34bd288f7",
   "metadata": {},
   "outputs": [],
   "source": [
    "import pandas as pd\n",
    "pd.set_option('display.max_rows', 20)"
   ]
  },
  {
   "cell_type": "code",
   "execution_count": null,
   "id": "c8485a7b6cc6dff4",
   "metadata": {},
   "outputs": [],
   "source": [
    "import utils.checker as check\n",
    "import utils.presenter as show\n",
    "import utils.schedule_solver__with_arrivals as ssv\n",
    "\n",
    "import utils.converter as convert"
   ]
  },
  {
   "cell_type": "code",
   "execution_count": null,
   "id": "c53ab65fc112075c",
   "metadata": {},
   "outputs": [],
   "source": [
    "import utils.rolling_planning as rp"
   ]
  },
  {
   "cell_type": "code",
   "execution_count": null,
   "id": "a2b096eacacc915b",
   "metadata": {},
   "outputs": [],
   "source": [
    "from ProductionDaySimulation import ProductionDaySimulation"
   ]
  },
  {
   "cell_type": "code",
   "execution_count": null,
   "id": "f5883d99e1b9be8d",
   "metadata": {},
   "outputs": [],
   "source": [
    "import utils.schedule_solver__rescheduling as re_ssv"
   ]
  },
  {
   "cell_type": "code",
   "execution_count": null,
   "id": "78033f31ede8b132",
   "metadata": {},
   "outputs": [],
   "source": [
    "# Datei laden\n",
    "with open(\"data/jobshop_instances.json\", \"r\", encoding=\"utf-8\") as f:\n",
    "    jobshop_instances = json.load(f)\n",
    "\n",
    "instance =  jobshop_instances[\"instance ft10\"]\n",
    "show.print_jobs(instance)"
   ]
  },
  {
   "cell_type": "code",
   "execution_count": null,
   "id": "d04a9919995df1d6",
   "metadata": {},
   "outputs": [],
   "source": [
    "minutes = 50"
   ]
  },
  {
   "cell_type": "markdown",
   "id": "53e84a0654209cf5",
   "metadata": {},
   "source": [
    "## Day 0"
   ]
  },
  {
   "cell_type": "code",
   "execution_count": null,
   "id": "48e901fce177e43d",
   "metadata": {},
   "outputs": [],
   "source": [
    "jssp_data, df_times = rp.init_jobs_with_arrivals(instance, 3, u_b_mmax = 0.75, \n",
    "                                                    generate_deadlines = True, deadlines_buffer_factor= 1.9)\n",
    "show.print_jobs(jssp_data)"
   ]
  },
  {
   "cell_type": "code",
   "execution_count": null,
   "id": "a938ff86751c1784",
   "metadata": {},
   "outputs": [],
   "source": [
    "df_times "
   ]
  },
  {
   "cell_type": "markdown",
   "id": "6a7b49ca71c45479",
   "metadata": {},
   "source": [
    "### 1) Scheduling"
   ]
  },
  {
   "cell_type": "code",
   "execution_count": null,
   "id": "652de092c4d0166c",
   "metadata": {},
   "outputs": [],
   "source": [
    "df_plan0, total = ssv.solve_jssp_weighted_individual_flowtime(jssp_data, df_times, solver_time_limit= 60*minutes, epsilon=0.06)\n",
    "check.check_all_constraints(df_plan0, jssp_data)"
   ]
  },
  {
   "cell_type": "code",
   "execution_count": null,
   "id": "2126adf9fcacb6b4",
   "metadata": {},
   "outputs": [],
   "source": [
    "print(f\"Globale Makespan:{max(df_plan0.End)}\")\n",
    "df_plan0"
   ]
  },
  {
   "cell_type": "code",
   "execution_count": null,
   "id": "e21588ce4778878",
   "metadata": {},
   "outputs": [],
   "source": [
    "df = df_plan0\n",
    "\n",
    "block = 1440                                        \n",
    "for idx, part_df in df.groupby(df['Arrival'] // block, sort=True):\n",
    "    show.plot_gantt_machines(part_df, f\"Gantt-Diagramm Arrival-Tag {int(idx)}\")"
   ]
  },
  {
   "cell_type": "markdown",
   "id": "8d7eb2c0e30eec68",
   "metadata": {},
   "source": [
    "### 2) Simulation für Tag 0"
   ]
  },
  {
   "cell_type": "code",
   "execution_count": null,
   "id": "24dd7b61d956e5a1",
   "metadata": {},
   "outputs": [],
   "source": [
    "day_start = 0\n",
    "day_end = 1440\n",
    "\n",
    "filt = (df_plan0[\"Start\"] >=  day_start) & (df_plan0[\"Start\"] < day_end)\n",
    "df_schedule_0 = df_plan0[filt]\n",
    "df_schedule_0"
   ]
  },
  {
   "cell_type": "code",
   "execution_count": null,
   "id": "3fca6997ddd37c2e",
   "metadata": {},
   "outputs": [],
   "source": [
    "simulation = ProductionDaySimulation(df_schedule_0, vc=0.25)\n",
    "df_execution, df_undone = simulation.run(end_time=day_end)"
   ]
  },
  {
   "cell_type": "code",
   "execution_count": null,
   "id": "d401cfb469e663a3",
   "metadata": {},
   "outputs": [],
   "source": [
    "df_execution"
   ]
  },
  {
   "cell_type": "code",
   "execution_count": null,
   "id": "8f13bcef451f1f73",
   "metadata": {},
   "outputs": [],
   "source": [
    "show.plot_gantt_machines(df_execution, duration_column = \"Simulated Processing Time\")"
   ]
  },
  {
   "cell_type": "markdown",
   "id": "b9f75fb999d74c54",
   "metadata": {},
   "source": [
    "### 3) Verbliebe Jobs nach Tag 0"
   ]
  },
  {
   "cell_type": "code",
   "execution_count": null,
   "id": "61386780974e7904",
   "metadata": {},
   "outputs": [],
   "source": [
    "df_plan = df_plan0\n",
    "\n",
    "df_rest = df_plan.merge(df_execution[[\"Job\", \"Machine\"]], on=[\"Job\", \"Machine\"], how=\"left\", indicator=True)\n",
    "df_rest = df_rest[df_rest[\"_merge\"] == \"left_only\"].drop(columns=[\"_merge\"])\n",
    "df_rest = df_rest.sort_values(by=[\"Arrival\", \"Start\"]).reset_index(drop=True)\n",
    "df_rest"
   ]
  },
  {
   "cell_type": "code",
   "execution_count": null,
   "id": "1a5396039831f7e8",
   "metadata": {},
   "outputs": [],
   "source": [
    "jssp_data_rest = convert.get_jssp_from_schedule(df_rest)\n",
    "show.print_jobs(jssp_data_rest)"
   ]
  },
  {
   "cell_type": "code",
   "execution_count": null,
   "id": "b9663295153ced38",
   "metadata": {},
   "outputs": [],
   "source": [
    "allowed = df_rest[\"Job\"].unique() \n",
    "df_time_rest = df_times[df_times[\"Job\"].isin(allowed)].copy()\n",
    "df_time_rest"
   ]
  },
  {
   "cell_type": "markdown",
   "id": "547aab7e2dc51626",
   "metadata": {},
   "source": [
    "## Day 1"
   ]
  },
  {
   "cell_type": "code",
   "execution_count": null,
   "id": "922f1da6e23127c6",
   "metadata": {},
   "outputs": [],
   "source": [
    "jssp_data1, df_times1 = rp.update_new_day(jssp_data_rest, df_time_rest, instance, u_b_mmax= 0.75, generate_deadlines = True, deadlines_buffer_factor= 1.9)\n",
    "show.print_jobs(jssp_data1)\n",
    "df_times1"
   ]
  },
  {
   "cell_type": "markdown",
   "id": "9cfa7a8c9ac3975f",
   "metadata": {},
   "source": [
    "### 1) Rescheduling"
   ]
  },
  {
   "cell_type": "code",
   "execution_count": null,
   "id": "d8af60302fefe902",
   "metadata": {},
   "outputs": [],
   "source": [
    "# Reduktion der bereits ausgeführten Operationen auf die relevanten für die nächsten Tage\n",
    "df_execution_important = df_execution[df_execution[\"End\"] >= 1440]\n",
    "df_execution_important\n",
    "\n",
    "\n",
    "df_plan1 = re_ssv.solve_jssp_weighted_with_fixed_operations_fast(\n",
    "    job_dict=jssp_data1,\n",
    "    df_arrivals=df_times1,\n",
    "    df_executed=df_execution_important,\n",
    "    solver_time_limit=60*minutes,\n",
    "    epsilon=0.6,\n",
    "    arrival_column=\"Arrival\",\n",
    "    reschedule_start=1440\n",
    ")"
   ]
  },
  {
   "cell_type": "code",
   "execution_count": null,
   "id": "75b951092cdf8c4e",
   "metadata": {},
   "outputs": [],
   "source": [
    "print(f\"Final End:{max(df_plan1.End)}\")\n",
    "df_plan1"
   ]
  },
  {
   "cell_type": "code",
   "execution_count": null,
   "id": "5900ea60e8a74e37",
   "metadata": {},
   "outputs": [],
   "source": [
    "df = df_plan1\n",
    "\n",
    "block = 1440                                        \n",
    "for idx, part_df in df.groupby(df['Arrival'] // block, sort=True):\n",
    "    show.plot_gantt_machines(part_df, f\"Gantt-Diagramm Arrival-Tag {int(idx)}\")"
   ]
  },
  {
   "cell_type": "markdown",
   "id": "86ec2ff757e21d32",
   "metadata": {},
   "source": [
    "### 2) Simulation für Tag 1"
   ]
  },
  {
   "cell_type": "code",
   "execution_count": null,
   "id": "20a829d88fc688fb",
   "metadata": {},
   "outputs": [],
   "source": [
    "day_start = 1440\n",
    "day_end = day_start + 1440\n",
    "\n",
    "filt = (df_plan1[\"Start\"] >=  day_start) & (df_plan1[\"Start\"] < day_end)\n",
    "df_schedule_1 = df_plan1[filt]\n",
    "df_schedule_1"
   ]
  },
  {
   "cell_type": "code",
   "execution_count": null,
   "id": "ce5e04544be3c685",
   "metadata": {},
   "outputs": [],
   "source": [
    "simulation = ProductionDaySimulation(df_schedule_1, vc=0.25)\n",
    "df_execution, df_undone = simulation.run(start_time = day_start, end_time=day_end)"
   ]
  },
  {
   "cell_type": "code",
   "execution_count": null,
   "id": "b2a59925fab91ecb",
   "metadata": {},
   "outputs": [],
   "source": [
    "show.plot_gantt_machines(df_execution, duration_column = \"Simulated Processing Time\")"
   ]
  },
  {
   "cell_type": "markdown",
   "id": "8911a5026a3d2120",
   "metadata": {},
   "source": [
    "### 3) Verbleibene Jobs nach Tag 1"
   ]
  },
  {
   "cell_type": "code",
   "execution_count": null,
   "id": "eca6569bece66f52",
   "metadata": {},
   "outputs": [],
   "source": [
    "df_plan = df_plan1\n",
    "\n",
    "df_rest = df_plan.merge(df_execution[[\"Job\", \"Machine\"]], on=[\"Job\", \"Machine\"], how=\"left\", indicator=True)\n",
    "df_rest = df_rest[df_rest[\"_merge\"] == \"left_only\"].drop(columns=[\"_merge\"])\n",
    "df_rest = df_rest.sort_values(by=[\"Arrival\", \"Start\"]).reset_index(drop=True)\n",
    "df_rest"
   ]
  },
  {
   "cell_type": "code",
   "execution_count": null,
   "id": "9c938f076ca0bf10",
   "metadata": {},
   "outputs": [],
   "source": [
    "jssp_data_rest = convert.get_jssp_from_schedule(df_rest)\n",
    "show.print_jobs(jssp_data_rest)"
   ]
  },
  {
   "cell_type": "code",
   "execution_count": null,
   "id": "4452f6ccbb6f5283",
   "metadata": {},
   "outputs": [],
   "source": [
    "df_times = df_times1\n",
    "\n",
    "allowed = df_rest[\"Job\"].unique() \n",
    "df_time_rest = df_times[df_times[\"Job\"].isin(allowed)].copy()\n",
    "df_time_rest"
   ]
  },
  {
   "cell_type": "markdown",
   "id": "2da3bde2bf9bf2fb",
   "metadata": {},
   "source": [
    "## Day 2"
   ]
  },
  {
   "cell_type": "code",
   "execution_count": null,
   "id": "751e7897a07fcb7a",
   "metadata": {},
   "outputs": [],
   "source": [
    "jssp_data2, df_times2 = rp.update_new_day(jssp_data_rest, df_time_rest, instance, u_b_mmax= 0.75, generate_deadlines = True, deadlines_buffer_factor= 1.9)\n",
    "show.print_jobs(jssp_data2)\n",
    "df_times2"
   ]
  },
  {
   "cell_type": "markdown",
   "id": "dd08c2ec36cf88ab",
   "metadata": {},
   "source": [
    "### 1) Rescheduling"
   ]
  },
  {
   "cell_type": "code",
   "execution_count": null,
   "id": "a0e7cce2428884df",
   "metadata": {},
   "outputs": [],
   "source": [
    "# Reduktion der bereits ausgeführten Operationen auf die relevanten für die nächsten Tage\n",
    "df_execution_important = df_execution[df_execution[\"End\"] >= 2880]\n",
    "df_execution_important"
   ]
  },
  {
   "cell_type": "code",
   "execution_count": null,
   "id": "af9eab1652663191",
   "metadata": {},
   "outputs": [],
   "source": [
    "df_plan2 = re_ssv.solve_jssp_weighted_with_fixed_operations_fast(\n",
    "    job_dict=jssp_data2,\n",
    "    df_arrivals=df_times2,\n",
    "    df_executed=df_execution_important,\n",
    "    solver_time_limit=60*minutes,\n",
    "    epsilon=0.6,\n",
    "    arrival_column=\"Arrival\",\n",
    "    reschedule_start=2880\n",
    ")"
   ]
  },
  {
   "cell_type": "code",
   "execution_count": null,
   "id": "ea52ae289b2b025",
   "metadata": {},
   "outputs": [],
   "source": [
    "print(f\"Final End:{max(df_plan2.End)}\")\n",
    "df_plan2"
   ]
  },
  {
   "cell_type": "code",
   "execution_count": null,
   "id": "cccdb775149cfeb4",
   "metadata": {},
   "outputs": [],
   "source": [
    "df = df_plan2\n",
    "\n",
    "block = 1440                                        \n",
    "for idx, part_df in df.groupby(df['Arrival'] // block, sort=True):\n",
    "    show.plot_gantt_machines(part_df, f\"Gantt-Diagramm - Block {int(idx)}\")"
   ]
  },
  {
   "cell_type": "markdown",
   "id": "e2d5ecddf1ff8034",
   "metadata": {},
   "source": [
    "### 2) Simulation für Tag 2"
   ]
  },
  {
   "cell_type": "code",
   "execution_count": null,
   "id": "acbb79d841030a1d",
   "metadata": {},
   "outputs": [],
   "source": [
    "day_start = 2880\n",
    "day_end = day_start + 1440\n",
    "\n",
    "filt = (df_plan2[\"Start\"] >=  day_start) & (df_plan2[\"Start\"] < day_end)\n",
    "df_schedule_2 = df_plan2[filt]\n",
    "df_schedule_2"
   ]
  },
  {
   "cell_type": "code",
   "execution_count": null,
   "id": "29dd8d11c39dd292",
   "metadata": {},
   "outputs": [],
   "source": [
    "simulation = ProductionDaySimulation(df_schedule_2, vc=0.25)\n",
    "df_execution, df_undone = simulation.run(start_time = day_start, end_time=day_end)"
   ]
  },
  {
   "cell_type": "code",
   "execution_count": null,
   "id": "e296dc7107fc623f",
   "metadata": {},
   "outputs": [],
   "source": [
    "show.plot_gantt_machines(df_execution, duration_column = \"Simulated Processing Time\")"
   ]
  },
  {
   "cell_type": "markdown",
   "id": "779f91fb3c1b9771",
   "metadata": {},
   "source": [
    "### 3) Verbleibene Jobs nach Tag 2"
   ]
  },
  {
   "cell_type": "code",
   "execution_count": null,
   "id": "2b0e7c0593ce56a4",
   "metadata": {},
   "outputs": [],
   "source": [
    "df_plan = df_plan2\n",
    "\n",
    "df_rest = df_plan.merge(df_execution[[\"Job\", \"Machine\"]], on=[\"Job\", \"Machine\"], how=\"left\", indicator=True)\n",
    "df_rest = df_rest[df_rest[\"_merge\"] == \"left_only\"].drop(columns=[\"_merge\"])\n",
    "df_rest = df_rest.sort_values(by=[\"Arrival\", \"Start\"]).reset_index(drop=True)\n",
    "df_rest"
   ]
  },
  {
   "cell_type": "code",
   "execution_count": null,
   "id": "4f5748cc1ef5c799",
   "metadata": {},
   "outputs": [],
   "source": [
    "jssp_data_rest = convert.get_jssp_from_schedule(df_rest)\n",
    "show.print_jobs(jssp_data_rest)"
   ]
  },
  {
   "cell_type": "code",
   "execution_count": null,
   "id": "6c85130b14f12fac",
   "metadata": {},
   "outputs": [],
   "source": [
    "df_times = df_times2\n",
    "\n",
    "allowed = df_rest[\"Job\"].unique() \n",
    "df_time_rest = df_times[df_times[\"Job\"].isin(allowed)].copy()\n",
    "df_time_rest"
   ]
  },
  {
   "cell_type": "code",
   "execution_count": null,
   "id": "e5268055fea29b4c",
   "metadata": {},
   "outputs": [],
   "source": []
  },
  {
   "cell_type": "markdown",
   "id": "a4b5073883d94352",
   "metadata": {},
   "source": [
    "## Save"
   ]
  },
  {
   "cell_type": "code",
   "execution_count": null,
   "id": "655450cafb16946c",
   "metadata": {},
   "outputs": [],
   "source": [
    "df_plan0.to_csv(\"data/08a_plan0.csv\", index = False)\n",
    "df_plan1.to_csv(\"data/08a_plan1.csv\", index = False)\n",
    "df_plan2.to_csv(\"data/08a_plan2.csv\", index = False)"
   ]
  },
  {
   "cell_type": "code",
   "execution_count": null,
   "id": "a56ea04c6c5479ae",
   "metadata": {},
   "outputs": [],
   "source": []
  }
 ],
 "metadata": {
  "kernelspec": {
   "display_name": "Python [conda env:base] *",
   "language": "python",
   "name": "conda-base-py"
  },
  "language_info": {
   "codemirror_mode": {
    "name": "ipython",
    "version": 3
   },
   "file_extension": ".py",
   "mimetype": "text/x-python",
   "name": "python",
   "nbconvert_exporter": "python",
   "pygments_lexer": "ipython3",
   "version": "3.12.9"
  }
 },
 "nbformat": 4,
 "nbformat_minor": 5
}
