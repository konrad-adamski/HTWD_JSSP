{
 "cells": [
  {
   "cell_type": "markdown",
   "id": "6450d8b5-bbeb-4452-9bb4-7aec262cc854",
   "metadata": {},
   "source": [
    "# Rolling Planning\n",
    "> Plannunghorizont je 3 Tage\n",
    "> \n",
    "> Für 4 Planungstage"
   ]
  },
  {
   "cell_type": "code",
   "execution_count": 2,
   "id": "776e777a-0881-4462-85a3-e310ee3fd620",
   "metadata": {},
   "outputs": [],
   "source": [
    "import json\n",
    "import pandas as pd\n",
    "\n",
    "# Basics\n",
    "import utils.basics.presenter as show\n",
    "import utils.basics.converter as convert\n",
    "\n",
    "import utils.checker as check\n",
    "\n",
    "from ProductionDaySimulation import ProductionDaySimulation"
   ]
  },
  {
   "cell_type": "code",
   "execution_count": 3,
   "id": "29afdc39-1b90-4f0e-9d9a-186eca48b57e",
   "metadata": {},
   "outputs": [],
   "source": [
    "import utils.schedule_solver__tardiness_plus as ssv_t\n",
    "import utils.reschedule.schedule_solver__tardiness_plus as rssv_t"
   ]
  },
  {
   "cell_type": "code",
   "execution_count": 4,
   "id": "1cbbe0a9-4047-4ee6-aa0a-96a3061885e0",
   "metadata": {},
   "outputs": [],
   "source": [
    "import utils.rolling_planning.init_jobs_times as rp_init\n",
    "import utils.rolling_planning.procedure as rp_proced"
   ]
  },
  {
   "cell_type": "code",
   "execution_count": 5,
   "id": "d9021182-9f59-4f92-87f2-8621306a5a98",
   "metadata": {},
   "outputs": [
    {
     "data": {
      "text/html": [
       "<div>\n",
       "<style scoped>\n",
       "    .dataframe tbody tr th:only-of-type {\n",
       "        vertical-align: middle;\n",
       "    }\n",
       "\n",
       "    .dataframe tbody tr th {\n",
       "        vertical-align: top;\n",
       "    }\n",
       "\n",
       "    .dataframe thead th {\n",
       "        text-align: right;\n",
       "    }\n",
       "</style>\n",
       "<table border=\"1\" class=\"dataframe\">\n",
       "  <thead>\n",
       "    <tr style=\"text-align: right;\">\n",
       "      <th></th>\n",
       "      <th>Job</th>\n",
       "      <th>Operation</th>\n",
       "      <th>Machine</th>\n",
       "      <th>Processing Time</th>\n",
       "    </tr>\n",
       "  </thead>\n",
       "  <tbody>\n",
       "    <tr>\n",
       "      <th>0</th>\n",
       "      <td>Job_000</td>\n",
       "      <td>0</td>\n",
       "      <td>M0</td>\n",
       "      <td>29</td>\n",
       "    </tr>\n",
       "    <tr>\n",
       "      <th>1</th>\n",
       "      <td>Job_000</td>\n",
       "      <td>1</td>\n",
       "      <td>M1</td>\n",
       "      <td>78</td>\n",
       "    </tr>\n",
       "    <tr>\n",
       "      <th>2</th>\n",
       "      <td>Job_000</td>\n",
       "      <td>2</td>\n",
       "      <td>M2</td>\n",
       "      <td>9</td>\n",
       "    </tr>\n",
       "    <tr>\n",
       "      <th>3</th>\n",
       "      <td>Job_000</td>\n",
       "      <td>3</td>\n",
       "      <td>M3</td>\n",
       "      <td>36</td>\n",
       "    </tr>\n",
       "    <tr>\n",
       "      <th>4</th>\n",
       "      <td>Job_000</td>\n",
       "      <td>4</td>\n",
       "      <td>M4</td>\n",
       "      <td>49</td>\n",
       "    </tr>\n",
       "    <tr>\n",
       "      <th>...</th>\n",
       "      <td>...</td>\n",
       "      <td>...</td>\n",
       "      <td>...</td>\n",
       "      <td>...</td>\n",
       "    </tr>\n",
       "    <tr>\n",
       "      <th>1135</th>\n",
       "      <td>Job_113</td>\n",
       "      <td>5</td>\n",
       "      <td>M9</td>\n",
       "      <td>76</td>\n",
       "    </tr>\n",
       "    <tr>\n",
       "      <th>1136</th>\n",
       "      <td>Job_113</td>\n",
       "      <td>6</td>\n",
       "      <td>M5</td>\n",
       "      <td>47</td>\n",
       "    </tr>\n",
       "    <tr>\n",
       "      <th>1137</th>\n",
       "      <td>Job_113</td>\n",
       "      <td>7</td>\n",
       "      <td>M3</td>\n",
       "      <td>52</td>\n",
       "    </tr>\n",
       "    <tr>\n",
       "      <th>1138</th>\n",
       "      <td>Job_113</td>\n",
       "      <td>8</td>\n",
       "      <td>M4</td>\n",
       "      <td>90</td>\n",
       "    </tr>\n",
       "    <tr>\n",
       "      <th>1139</th>\n",
       "      <td>Job_113</td>\n",
       "      <td>9</td>\n",
       "      <td>M7</td>\n",
       "      <td>45</td>\n",
       "    </tr>\n",
       "  </tbody>\n",
       "</table>\n",
       "<p>1140 rows × 4 columns</p>\n",
       "</div>"
      ],
      "text/plain": [
       "          Job Operation Machine Processing Time\n",
       "0     Job_000         0      M0              29\n",
       "1     Job_000         1      M1              78\n",
       "2     Job_000         2      M2               9\n",
       "3     Job_000         3      M3              36\n",
       "4     Job_000         4      M4              49\n",
       "...       ...       ...     ...             ...\n",
       "1135  Job_113         5      M9              76\n",
       "1136  Job_113         6      M5              47\n",
       "1137  Job_113         7      M3              52\n",
       "1138  Job_113         8      M4              90\n",
       "1139  Job_113         9      M7              45\n",
       "\n",
       "[1140 rows x 4 columns]"
      ]
     },
     "execution_count": 5,
     "metadata": {},
     "output_type": "execute_result"
    }
   ],
   "source": [
    "# Datei laden\n",
    "with open(\"data/jobshop_instances.json\", \"r\", encoding=\"utf-8\") as f:\n",
    "    jobshop_instances = json.load(f)\n",
    "\n",
    "instance =  jobshop_instances[\"instance ft10\"]\n",
    "df_instance = convert.jssp_dict_to_df(instance)\n",
    "\n",
    "df_jssp, df_times = rp_init.init_jobs_with_arrivals(df_instance, 6,  u_b_mmax = 0.9,\n",
    "                                                   generate_deadlines = True,  deadlines_buffer_factor = 1.8)\n",
    "df_jssp"
   ]
  },
  {
   "cell_type": "code",
   "execution_count": 6,
   "id": "3247d497-465b-4943-b967-214fe6d1e96e",
   "metadata": {},
   "outputs": [
    {
     "data": {
      "text/html": [
       "<div>\n",
       "<style scoped>\n",
       "    .dataframe tbody tr th:only-of-type {\n",
       "        vertical-align: middle;\n",
       "    }\n",
       "\n",
       "    .dataframe tbody tr th {\n",
       "        vertical-align: top;\n",
       "    }\n",
       "\n",
       "    .dataframe thead th {\n",
       "        text-align: right;\n",
       "    }\n",
       "</style>\n",
       "<table border=\"1\" class=\"dataframe\">\n",
       "  <thead>\n",
       "    <tr style=\"text-align: right;\">\n",
       "      <th></th>\n",
       "      <th>Job</th>\n",
       "      <th>Arrival</th>\n",
       "      <th>Deadline</th>\n",
       "    </tr>\n",
       "  </thead>\n",
       "  <tbody>\n",
       "    <tr>\n",
       "      <th>0</th>\n",
       "      <td>Job_000</td>\n",
       "      <td>0.00</td>\n",
       "      <td>1604.019622</td>\n",
       "    </tr>\n",
       "    <tr>\n",
       "      <th>1</th>\n",
       "      <td>Job_001</td>\n",
       "      <td>88.05</td>\n",
       "      <td>2159.062676</td>\n",
       "    </tr>\n",
       "    <tr>\n",
       "      <th>2</th>\n",
       "      <td>Job_002</td>\n",
       "      <td>152.78</td>\n",
       "      <td>2459.319608</td>\n",
       "    </tr>\n",
       "    <tr>\n",
       "      <th>3</th>\n",
       "      <td>Job_003</td>\n",
       "      <td>207.97</td>\n",
       "      <td>2867.800006</td>\n",
       "    </tr>\n",
       "    <tr>\n",
       "      <th>4</th>\n",
       "      <td>Job_004</td>\n",
       "      <td>246.61</td>\n",
       "      <td>1842.508003</td>\n",
       "    </tr>\n",
       "    <tr>\n",
       "      <th>...</th>\n",
       "      <td>...</td>\n",
       "      <td>...</td>\n",
       "      <td>...</td>\n",
       "    </tr>\n",
       "    <tr>\n",
       "      <th>109</th>\n",
       "      <td>Job_109</td>\n",
       "      <td>8390.89</td>\n",
       "      <td>11050.720006</td>\n",
       "    </tr>\n",
       "    <tr>\n",
       "      <th>110</th>\n",
       "      <td>Job_110</td>\n",
       "      <td>8397.28</td>\n",
       "      <td>9993.178003</td>\n",
       "    </tr>\n",
       "    <tr>\n",
       "      <th>111</th>\n",
       "      <td>Job_111</td>\n",
       "      <td>8398.72</td>\n",
       "      <td>10705.259608</td>\n",
       "    </tr>\n",
       "    <tr>\n",
       "      <th>112</th>\n",
       "      <td>Job_112</td>\n",
       "      <td>8524.04</td>\n",
       "      <td>10128.059622</td>\n",
       "    </tr>\n",
       "    <tr>\n",
       "      <th>113</th>\n",
       "      <td>Job_113</td>\n",
       "      <td>8629.61</td>\n",
       "      <td>10822.446951</td>\n",
       "    </tr>\n",
       "  </tbody>\n",
       "</table>\n",
       "<p>114 rows × 3 columns</p>\n",
       "</div>"
      ],
      "text/plain": [
       "         Job  Arrival      Deadline\n",
       "0    Job_000     0.00   1604.019622\n",
       "1    Job_001    88.05   2159.062676\n",
       "2    Job_002   152.78   2459.319608\n",
       "3    Job_003   207.97   2867.800006\n",
       "4    Job_004   246.61   1842.508003\n",
       "..       ...      ...           ...\n",
       "109  Job_109  8390.89  11050.720006\n",
       "110  Job_110  8397.28   9993.178003\n",
       "111  Job_111  8398.72  10705.259608\n",
       "112  Job_112  8524.04  10128.059622\n",
       "113  Job_113  8629.61  10822.446951\n",
       "\n",
       "[114 rows x 3 columns]"
      ]
     },
     "execution_count": 6,
     "metadata": {},
     "output_type": "execute_result"
    }
   ],
   "source": [
    "df_times"
   ]
  },
  {
   "cell_type": "code",
   "execution_count": 7,
   "id": "9cf8cd3d-c785-4f65-9a5d-b96fa2d26841",
   "metadata": {},
   "outputs": [
    {
     "data": {
      "text/plain": [
       "1800"
      ]
     },
     "execution_count": 7,
     "metadata": {},
     "output_type": "execute_result"
    }
   ],
   "source": [
    "solver_limit = 60*30\n",
    "solver_limit"
   ]
  },
  {
   "cell_type": "markdown",
   "id": "ba3ae4ad-10c8-4668-895a-352a0678586c",
   "metadata": {},
   "source": [
    "## I) Day 0"
   ]
  },
  {
   "cell_type": "code",
   "execution_count": 9,
   "id": "f9542803-d965-490c-9eb3-c1d80ce78a5b",
   "metadata": {},
   "outputs": [],
   "source": [
    "day_numb = 0"
   ]
  },
  {
   "cell_type": "code",
   "execution_count": 10,
   "id": "6a56af48-e5fb-488b-a1c1-b4c6e8b1e453",
   "metadata": {},
   "outputs": [],
   "source": [
    "day_start = 1440*day_numb\n",
    "day_end = day_start + 1440\n",
    "planning_end = day_start + 3*1440"
   ]
  },
  {
   "cell_type": "code",
   "execution_count": 11,
   "id": "79892051-6ece-49e3-8e7e-ee0b99af52a3",
   "metadata": {},
   "outputs": [],
   "source": [
    "df_execution = None\n",
    "df_undone = None"
   ]
  },
  {
   "cell_type": "code",
   "execution_count": 12,
   "id": "4fe78c17-a95c-4984-bff5-e7fafad9cf6a",
   "metadata": {},
   "outputs": [
    {
     "data": {
      "text/plain": [
       "'data/04b_schedule_00.csv'"
      ]
     },
     "execution_count": 12,
     "metadata": {},
     "output_type": "execute_result"
    }
   ],
   "source": [
    "file_template = \"data/{prefix}_schedule_{day:02d}.csv\"\n",
    "file_name = file_template.format(prefix=\"04b\", day=day_numb)\n",
    "file_name"
   ]
  },
  {
   "cell_type": "code",
   "execution_count": null,
   "id": "b3a1d0fb-e2a2-4a22-9f29-31c1c65427df",
   "metadata": {},
   "outputs": [
    {
     "name": "stdout",
     "output_type": "stream",
     "text": [
      "Scheduling startet ...\n"
     ]
    }
   ],
   "source": [
    "# I)\n",
    "df_jssp_filtered, df_times_filtered = rp_proced.filter_jobs_by_arrival_window(df_times, df_jssp, day_start, planning_end)\n",
    "df_jssp_filtered\n",
    "\n",
    "# II)\n",
    "if df_execution is not None:\n",
    "    print(\"Exectution Dataframe is not None\")\n",
    "    df_jssp_filtered = rp_proced.get_unexecuted_operations(df_jssp_filtered, df_execution)\n",
    "\n",
    "if (df_undone is not None) and (not df_undone.empty):\n",
    "    print(\"Es gibt Operations in undone Dataframe\")\n",
    "    df_jssp_filtered = rp_proced.get_unexecuted_operations(df_jssp_filtered, df_undone)\n",
    "\n",
    "if (df_execution is not None) | (df_undone is not None):\n",
    "    print(\"Zeiten werden aktualisiert\")\n",
    "    df_times_filtered = rp_proced.update_times_after_operation_changes(df_times, df_jssp_filtered)\n",
    "\n",
    "# III) \n",
    "if df_execution is not None:\n",
    "    df_execution_important = rp_proced.get_operations_running_into_day(df_execution, day_start)\n",
    "    \n",
    "\n",
    "# Scheduling/Rescheduling\n",
    "\n",
    "if df_execution is None: # Scheduling\n",
    "    print(\"Scheduling startet ...\")\n",
    "    df_plan = ssv_t.solve_jssp_sum_tardiness(df_jssp_filtered, df_times_filtered, \n",
    "                                                  solver_time_limit = solver_limit)\n",
    "else:                    # Rescheduling\n",
    "    print(\"Rescheduling startet ...\")\n",
    "    df_plan = rssv_t.solve_jssp_sum_tardiness_with_fixed_ops(\n",
    "        df_jssp_filtered, df_times_filtered, df_execution_important, \n",
    "        solver_time_limit = solver_limit,\n",
    "        reschedule_start = day_start\n",
    "    )\n",
    "\n",
    "show.plot_gantt_machines(df_plan, title = f\"Gantt-Diagramm ab Tag {day_numb}\")\n",
    "check.check_all_constraints(df_plan)\n",
    "df_plan.to_csv(file_name, index = False)"
   ]
  },
  {
   "cell_type": "code",
   "execution_count": null,
   "id": "5a64a4d7-cd84-4f6a-9c23-2201608a3910",
   "metadata": {},
   "outputs": [],
   "source": [
    "# Simulation (ein Tag)\n",
    "\n",
    "filt = (df_plan[\"Start\"] >=  day_start) & (df_plan[\"Start\"] < day_end)\n",
    "df_plan_single_day = df_plan[filt]\n",
    "df_plan_single_day"
   ]
  },
  {
   "cell_type": "code",
   "execution_count": null,
   "id": "d88d0285-c6d7-4be3-be39-7d213c8811d9",
   "metadata": {},
   "outputs": [],
   "source": [
    "simulation = ProductionDaySimulation(df_plan_single_day, vc=0.35)\n",
    "df_execution, df_undone = simulation.run(start_time = day_start, end_time=day_end)\n",
    "show.plot_gantt_machines(df_execution, title = f\"Gantt-Diagramm für Simulationstag {day_numb}\",\n",
    "                         duration_column = \"Simulated Processing Time\")"
   ]
  },
  {
   "cell_type": "markdown",
   "id": "f92aa19a-4df0-46e3-b9d6-d93155aed4bb",
   "metadata": {},
   "source": [
    "## II) Day 1"
   ]
  },
  {
   "cell_type": "code",
   "execution_count": null,
   "id": "4d013791-6310-4d6b-88de-fd12209f23e4",
   "metadata": {},
   "outputs": [],
   "source": [
    "day_numb = 1\n",
    "\n",
    "day_start = 1440*day_numb\n",
    "day_end = day_start + 1440\n",
    "planning_end = day_start + 3*1440\n",
    "\n",
    "file_template = \"data/{prefix}_schedule_{day:02d}.csv\"\n",
    "file_name = file_template.format(prefix=\"04b\", day=day_numb)\n",
    "file_name"
   ]
  },
  {
   "cell_type": "code",
   "execution_count": null,
   "id": "e4cda867-26c2-43b5-b5b0-d67adf6a462b",
   "metadata": {},
   "outputs": [],
   "source": [
    "# I)\n",
    "df_jssp_filtered, df_times_filtered = rp_proced.filter_jobs_by_arrival_window(df_times, df_jssp, day_start, planning_end)\n",
    "df_jssp_filtered\n",
    "\n",
    "# II)\n",
    "if df_execution is not None:\n",
    "    print(\"Exectution Dataframe is not None\")\n",
    "    df_jssp_filtered = rp_proced.get_unexecuted_operations(df_jssp_filtered, df_execution)\n",
    "\n",
    "if (df_undone is not None) and (not df_undone.empty):\n",
    "    print(\"Es gibt Operations in undone Dataframe\")\n",
    "    df_jssp_filtered = rp_proced.get_unexecuted_operations(df_jssp_filtered, df_undone)\n",
    "\n",
    "if (df_execution is not None) | (df_undone is not None):\n",
    "    print(\"Zeiten werden aktualisiert\")\n",
    "    df_times_filtered = rp_proced.update_times_after_operation_changes(df_times, df_jssp_filtered)\n",
    "\n",
    "# III) \n",
    "if df_execution is not None:\n",
    "    df_execution_important = rp_proced.get_operations_running_into_day(df_execution, day_start)\n",
    "    \n",
    "\n",
    "# Scheduling/Rescheduling\n",
    "\n",
    "if df_execution is None: # Scheduling\n",
    "    print(\"Scheduling startet ...\")\n",
    "    df_plan = ssv_t.solve_jssp_sum_tardiness(df_jssp_filtered, df_times_filtered, \n",
    "                                                  solver_time_limit = solver_limit)\n",
    "else:                    # Rescheduling\n",
    "    print(\"Rescheduling startet ...\")\n",
    "    df_plan = rssv_t.solve_jssp_sum_tardiness_with_fixed_ops(\n",
    "        df_jssp_filtered, df_times_filtered, df_execution_important, \n",
    "        solver_time_limit = solver_limit,\n",
    "        reschedule_start = day_start\n",
    "    )\n",
    "\n",
    "show.plot_gantt_machines(df_plan, title = f\"Gantt-Diagramm ab Tag {day_numb}\")\n",
    "check.check_all_constraints(df_plan)\n",
    "df_plan.to_csv(file_name, index = False)\n",
    "\n",
    "# Simulation (ein Tag)\n",
    "\n",
    "filt = (df_plan[\"Start\"] >=  day_start) & (df_plan[\"Start\"] < day_end)\n",
    "df_plan_single_day = df_plan[filt]\n",
    "\n",
    "simulation = ProductionDaySimulation(df_plan_single_day, vc=0.35)\n",
    "df_execution, df_undone = simulation.run(start_time = day_start, end_time=day_end)\n",
    "show.plot_gantt_machines(df_execution, title = f\"Gantt-Diagramm für Simulationstag {day_numb}\",\n",
    "                         duration_column = \"Simulated Processing Time\")"
   ]
  },
  {
   "cell_type": "code",
   "execution_count": null,
   "id": "602da492-7d9c-4838-885a-49acd4bdc584",
   "metadata": {},
   "outputs": [],
   "source": [
    "-"
   ]
  },
  {
   "cell_type": "code",
   "execution_count": null,
   "id": "61d85e42-838c-4e59-b56a-a037960e803b",
   "metadata": {},
   "outputs": [],
   "source": [
    "# I)\n",
    "df_jssp_filtered, df_times_filtered = rp_proced.filter_jobs_by_arrival_window(df_times, df_jssp, day_start, planning_end)\n",
    "df_jssp_filtered\n",
    "\n",
    "# II)\n",
    "if df_execution is not None:\n",
    "    print(\"Exectution Dataframe is not None\")\n",
    "    df_jssp_filtered = rp_proced.get_unexecuted_operations(df_jssp_filtered, df_execution)\n",
    "\n",
    "if (df_undone is not None) and (not df_undone.empty):\n",
    "    print(\"Es gibt Operations in undone Dataframe\")\n",
    "    df_jssp_filtered = rp_proced.get_unexecuted_operations(df_jssp_filtered, df_undone)\n",
    "\n",
    "if (df_execution is not None) | (df_undone is not None):\n",
    "    print(\"Zeiten werden aktualisiert\")\n",
    "    df_times_filtered = rp_proced.update_times_after_operation_changes(df_times, df_jssp_filtered)\n",
    "\n",
    "# III) \n",
    "if df_execution is not None:\n",
    "    df_execution_important = rp_proced.get_operations_running_into_day(df_execution, day_start)\n",
    "    \n",
    "\n",
    "# Scheduling/Rescheduling\n",
    "\n",
    "if df_execution is None: # Scheduling\n",
    "    print(\"Scheduling startet ...\")\n",
    "    df_plan = ssv_a.solve_jssp_weighted_individual_flowtime(df_jssp_filtered, df_times_filtered, \n",
    "                                                  solver_time_limit = solver_limit)\n",
    "else:                    # Rescheduling\n",
    "    print(\"Rescheduling startet ...\")\n",
    "    df_plan = rssv_a.solve_jssp_weighted_individual_flowtime_with_fixed_ops(\n",
    "        df_jssp_filtered, df_times_filtered, df_execution_important, \n",
    "        solver_time_limit = solver_limit,\n",
    "        reschedule_start = day_start\n",
    "    )\n",
    "\n",
    "show.plot_gantt_machines(df_plan, title = f\"Gantt-Diagramm ab Tag {day_numb}\")\n",
    "check.check_all_constraints(df_plan)\n",
    "df_plan.to_csv(file_name, index = False)\n",
    "\n",
    "# Simulation (ein Tag)\n",
    "\n",
    "filt = (df_plan[\"Start\"] >=  day_start) & (df_plan[\"Start\"] < day_end)\n",
    "df_plan_single_day = df_plan[filt]\n",
    "\n",
    "simulation = ProductionDaySimulation(df_plan_single_day, vc=0.35)\n",
    "df_execution, df_undone = simulation.run(start_time = day_start, end_time=day_end)\n",
    "show.plot_gantt_machines(df_execution, title = f\"Gantt-Diagramm für Simulationstag {day_numb}\",\n",
    "                         duration_column = \"Simulated Processing Time\")"
   ]
  },
  {
   "cell_type": "code",
   "execution_count": null,
   "id": "3281cd85-454b-4869-afdf-b3e8ecb43f13",
   "metadata": {},
   "outputs": [],
   "source": []
  },
  {
   "cell_type": "code",
   "execution_count": null,
   "id": "165b4de9-f9b4-41fc-b10d-7956571090fb",
   "metadata": {},
   "outputs": [],
   "source": []
  }
 ],
 "metadata": {
  "kernelspec": {
   "display_name": "Python 3 (ipykernel)",
   "language": "python",
   "name": "python3"
  },
  "language_info": {
   "codemirror_mode": {
    "name": "ipython",
    "version": 3
   },
   "file_extension": ".py",
   "mimetype": "text/x-python",
   "name": "python",
   "nbconvert_exporter": "python",
   "pygments_lexer": "ipython3",
   "version": "3.12.2"
  }
 },
 "nbformat": 4,
 "nbformat_minor": 5
}
