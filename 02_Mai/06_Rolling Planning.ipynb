{
 "cells": [
  {
   "cell_type": "markdown",
   "id": "a6b85b74-3384-48d9-8e49-6ef93d70cabd",
   "metadata": {},
   "source": [
    "# Rolling Planning mit Flowtime Verfahren"
   ]
  },
  {
   "cell_type": "code",
   "execution_count": 2,
   "id": "cc26f0fd-3500-4671-bed6-7f647dd339d2",
   "metadata": {},
   "outputs": [],
   "source": [
    "import json\n",
    "import pandas as pd\n",
    "pd.set_option('display.max_rows', 20)\n",
    "\n",
    "# Basics\n",
    "import utils.basics.presenter as show\n",
    "import utils.basics.converter as convert\n",
    "\n",
    "import utils.checker as check\n",
    "from ProductionDaySimulation import ProductionDaySimulation"
   ]
  },
  {
   "cell_type": "code",
   "execution_count": 3,
   "id": "5a435567-74da-40b1-b2b8-0656f88b8903",
   "metadata": {},
   "outputs": [],
   "source": [
    "import utils.rolling_planning.init_jobs_times as rp_init\n",
    "import utils.rolling_planning.procedure as rp_proced"
   ]
  },
  {
   "cell_type": "code",
   "execution_count": 4,
   "id": "23444071-0b5d-462c-afd3-570233d61415",
   "metadata": {},
   "outputs": [],
   "source": [
    "import utils.schedule_solver__arrival as ssv_a"
   ]
  },
  {
   "cell_type": "markdown",
   "id": "4a2efeac-1d48-4450-b4f4-319e39d541a9",
   "metadata": {},
   "source": [
    "## Generierung des Datensatzes für 6 Tage (Ankunft)"
   ]
  },
  {
   "cell_type": "code",
   "execution_count": 6,
   "id": "5da832ab-468f-4f68-849d-84eedebdaf58",
   "metadata": {},
   "outputs": [
    {
     "data": {
      "text/html": [
       "<div>\n",
       "<style scoped>\n",
       "    .dataframe tbody tr th:only-of-type {\n",
       "        vertical-align: middle;\n",
       "    }\n",
       "\n",
       "    .dataframe tbody tr th {\n",
       "        vertical-align: top;\n",
       "    }\n",
       "\n",
       "    .dataframe thead th {\n",
       "        text-align: right;\n",
       "    }\n",
       "</style>\n",
       "<table border=\"1\" class=\"dataframe\">\n",
       "  <thead>\n",
       "    <tr style=\"text-align: right;\">\n",
       "      <th></th>\n",
       "      <th>Job</th>\n",
       "      <th>Operation</th>\n",
       "      <th>Machine</th>\n",
       "      <th>Processing Time</th>\n",
       "    </tr>\n",
       "  </thead>\n",
       "  <tbody>\n",
       "    <tr>\n",
       "      <th>0</th>\n",
       "      <td>Job_000</td>\n",
       "      <td>0</td>\n",
       "      <td>M0</td>\n",
       "      <td>29</td>\n",
       "    </tr>\n",
       "    <tr>\n",
       "      <th>1</th>\n",
       "      <td>Job_000</td>\n",
       "      <td>1</td>\n",
       "      <td>M1</td>\n",
       "      <td>78</td>\n",
       "    </tr>\n",
       "    <tr>\n",
       "      <th>2</th>\n",
       "      <td>Job_000</td>\n",
       "      <td>2</td>\n",
       "      <td>M2</td>\n",
       "      <td>9</td>\n",
       "    </tr>\n",
       "    <tr>\n",
       "      <th>3</th>\n",
       "      <td>Job_000</td>\n",
       "      <td>3</td>\n",
       "      <td>M3</td>\n",
       "      <td>36</td>\n",
       "    </tr>\n",
       "    <tr>\n",
       "      <th>4</th>\n",
       "      <td>Job_000</td>\n",
       "      <td>4</td>\n",
       "      <td>M4</td>\n",
       "      <td>49</td>\n",
       "    </tr>\n",
       "    <tr>\n",
       "      <th>...</th>\n",
       "      <td>...</td>\n",
       "      <td>...</td>\n",
       "      <td>...</td>\n",
       "      <td>...</td>\n",
       "    </tr>\n",
       "    <tr>\n",
       "      <th>1325</th>\n",
       "      <td>Job_132</td>\n",
       "      <td>5</td>\n",
       "      <td>M9</td>\n",
       "      <td>76</td>\n",
       "    </tr>\n",
       "    <tr>\n",
       "      <th>1326</th>\n",
       "      <td>Job_132</td>\n",
       "      <td>6</td>\n",
       "      <td>M5</td>\n",
       "      <td>47</td>\n",
       "    </tr>\n",
       "    <tr>\n",
       "      <th>1327</th>\n",
       "      <td>Job_132</td>\n",
       "      <td>7</td>\n",
       "      <td>M3</td>\n",
       "      <td>52</td>\n",
       "    </tr>\n",
       "    <tr>\n",
       "      <th>1328</th>\n",
       "      <td>Job_132</td>\n",
       "      <td>8</td>\n",
       "      <td>M4</td>\n",
       "      <td>90</td>\n",
       "    </tr>\n",
       "    <tr>\n",
       "      <th>1329</th>\n",
       "      <td>Job_132</td>\n",
       "      <td>9</td>\n",
       "      <td>M7</td>\n",
       "      <td>45</td>\n",
       "    </tr>\n",
       "  </tbody>\n",
       "</table>\n",
       "<p>1330 rows × 4 columns</p>\n",
       "</div>"
      ],
      "text/plain": [
       "          Job Operation Machine Processing Time\n",
       "0     Job_000         0      M0              29\n",
       "1     Job_000         1      M1              78\n",
       "2     Job_000         2      M2               9\n",
       "3     Job_000         3      M3              36\n",
       "4     Job_000         4      M4              49\n",
       "...       ...       ...     ...             ...\n",
       "1325  Job_132         5      M9              76\n",
       "1326  Job_132         6      M5              47\n",
       "1327  Job_132         7      M3              52\n",
       "1328  Job_132         8      M4              90\n",
       "1329  Job_132         9      M7              45\n",
       "\n",
       "[1330 rows x 4 columns]"
      ]
     },
     "execution_count": 6,
     "metadata": {},
     "output_type": "execute_result"
    }
   ],
   "source": [
    "# Datei laden\n",
    "with open(\"data/jobshop_instances.json\", \"r\", encoding=\"utf-8\") as f:\n",
    "    jobshop_instances = json.load(f)\n",
    "\n",
    "instance =  jobshop_instances[\"instance ft10\"]\n",
    "df_instance = convert.jssp_dict_to_df(instance)\n",
    "\n",
    "df_jssp, df_times = rp_init.init_jobs_with_arrivals(df_instance, 7,  u_b_mmax = 0.9)\n",
    "df_jssp"
   ]
  },
  {
   "cell_type": "code",
   "execution_count": 7,
   "id": "27c49804-c299-477c-9dac-e6ff02a580ff",
   "metadata": {},
   "outputs": [
    {
     "data": {
      "text/html": [
       "<div>\n",
       "<style scoped>\n",
       "    .dataframe tbody tr th:only-of-type {\n",
       "        vertical-align: middle;\n",
       "    }\n",
       "\n",
       "    .dataframe tbody tr th {\n",
       "        vertical-align: top;\n",
       "    }\n",
       "\n",
       "    .dataframe thead th {\n",
       "        text-align: right;\n",
       "    }\n",
       "</style>\n",
       "<table border=\"1\" class=\"dataframe\">\n",
       "  <thead>\n",
       "    <tr style=\"text-align: right;\">\n",
       "      <th></th>\n",
       "      <th>Job</th>\n",
       "      <th>Arrival</th>\n",
       "    </tr>\n",
       "  </thead>\n",
       "  <tbody>\n",
       "    <tr>\n",
       "      <th>0</th>\n",
       "      <td>Job_000</td>\n",
       "      <td>0.00</td>\n",
       "    </tr>\n",
       "    <tr>\n",
       "      <th>1</th>\n",
       "      <td>Job_001</td>\n",
       "      <td>88.05</td>\n",
       "    </tr>\n",
       "    <tr>\n",
       "      <th>2</th>\n",
       "      <td>Job_002</td>\n",
       "      <td>152.78</td>\n",
       "    </tr>\n",
       "    <tr>\n",
       "      <th>3</th>\n",
       "      <td>Job_003</td>\n",
       "      <td>207.97</td>\n",
       "    </tr>\n",
       "    <tr>\n",
       "      <th>4</th>\n",
       "      <td>Job_004</td>\n",
       "      <td>246.61</td>\n",
       "    </tr>\n",
       "    <tr>\n",
       "      <th>...</th>\n",
       "      <td>...</td>\n",
       "      <td>...</td>\n",
       "    </tr>\n",
       "    <tr>\n",
       "      <th>128</th>\n",
       "      <td>Job_128</td>\n",
       "      <td>9830.89</td>\n",
       "    </tr>\n",
       "    <tr>\n",
       "      <th>129</th>\n",
       "      <td>Job_129</td>\n",
       "      <td>9837.28</td>\n",
       "    </tr>\n",
       "    <tr>\n",
       "      <th>130</th>\n",
       "      <td>Job_130</td>\n",
       "      <td>9838.72</td>\n",
       "    </tr>\n",
       "    <tr>\n",
       "      <th>131</th>\n",
       "      <td>Job_131</td>\n",
       "      <td>9964.04</td>\n",
       "    </tr>\n",
       "    <tr>\n",
       "      <th>132</th>\n",
       "      <td>Job_132</td>\n",
       "      <td>10069.61</td>\n",
       "    </tr>\n",
       "  </tbody>\n",
       "</table>\n",
       "<p>133 rows × 2 columns</p>\n",
       "</div>"
      ],
      "text/plain": [
       "         Job   Arrival\n",
       "0    Job_000      0.00\n",
       "1    Job_001     88.05\n",
       "2    Job_002    152.78\n",
       "3    Job_003    207.97\n",
       "4    Job_004    246.61\n",
       "..       ...       ...\n",
       "128  Job_128   9830.89\n",
       "129  Job_129   9837.28\n",
       "130  Job_130   9838.72\n",
       "131  Job_131   9964.04\n",
       "132  Job_132  10069.61\n",
       "\n",
       "[133 rows x 2 columns]"
      ]
     },
     "execution_count": 7,
     "metadata": {},
     "output_type": "execute_result"
    }
   ],
   "source": [
    "df_times"
   ]
  },
  {
   "cell_type": "code",
   "execution_count": 8,
   "id": "04270671-2a82-4b39-980d-159ade1e92ae",
   "metadata": {},
   "outputs": [
    {
     "data": {
      "text/plain": [
       "300"
      ]
     },
     "execution_count": 8,
     "metadata": {},
     "output_type": "execute_result"
    }
   ],
   "source": [
    "solver_limit = 60*5\n",
    "solver_limit"
   ]
  },
  {
   "cell_type": "markdown",
   "id": "cc48756a-ebda-4fcc-945e-3eaa3dd4b269",
   "metadata": {},
   "source": [
    "## Params"
   ]
  },
  {
   "cell_type": "code",
   "execution_count": 10,
   "id": "e95dd5a0-7c9a-4e4d-864d-410c013c5a7f",
   "metadata": {},
   "outputs": [
    {
     "data": {
      "text/plain": [
       "10800"
      ]
     },
     "execution_count": 10,
     "metadata": {},
     "output_type": "execute_result"
    }
   ],
   "source": [
    "solver_limit = 60*60*3  # 3 h\n",
    "solver_limit"
   ]
  },
  {
   "cell_type": "code",
   "execution_count": 11,
   "id": "8c43f361-7e63-413b-b2c7-83c6191fb349",
   "metadata": {},
   "outputs": [],
   "source": [
    "# fix\n",
    "day_length = 1440\n",
    "horizon_days = 3\n",
    "\n",
    "file_template = \"data/06_schedule_{day:02d}.csv\""
   ]
  },
  {
   "cell_type": "code",
   "execution_count": 12,
   "id": "0c983a0e-8192-4a00-a15d-2a165a6037e2",
   "metadata": {},
   "outputs": [],
   "source": [
    "day_numb = 0\n",
    "planning_end = 0"
   ]
  },
  {
   "cell_type": "code",
   "execution_count": 13,
   "id": "b706eb89-e99e-4a1c-b28b-82fa54cd2124",
   "metadata": {},
   "outputs": [],
   "source": [
    "def day_number_to_prefix(n: int) -> str:\n",
    "    s = ''\n",
    "    while n >= 0:\n",
    "        s = chr(n % 26 + 65) + s\n",
    "        n = n // 26 - 1\n",
    "    return s\n"
   ]
  },
  {
   "cell_type": "markdown",
   "id": "17416b9c-2b17-40b0-8fe2-273122589443",
   "metadata": {},
   "source": [
    "# Initialisierung (Tag 0)"
   ]
  },
  {
   "cell_type": "code",
   "execution_count": 15,
   "id": "ee477069-e532-40d6-95de-0f9b2ba33bd8",
   "metadata": {},
   "outputs": [],
   "source": [
    "day_numb = 0"
   ]
  },
  {
   "cell_type": "code",
   "execution_count": 16,
   "id": "a754aa86-c525-4445-a7cb-4082c7e34235",
   "metadata": {},
   "outputs": [],
   "source": [
    "day_start = day_length*day_numb                      # 0\n",
    "day_end = day_start + day_length                     # 1440\n",
    "planning_end =  day_start + horizon_days*day_length  # 4320"
   ]
  },
  {
   "cell_type": "code",
   "execution_count": 17,
   "id": "cec5402a-1387-4383-a896-05ffd07ba9de",
   "metadata": {},
   "outputs": [
    {
     "data": {
      "text/html": [
       "<div>\n",
       "<style scoped>\n",
       "    .dataframe tbody tr th:only-of-type {\n",
       "        vertical-align: middle;\n",
       "    }\n",
       "\n",
       "    .dataframe tbody tr th {\n",
       "        vertical-align: top;\n",
       "    }\n",
       "\n",
       "    .dataframe thead th {\n",
       "        text-align: right;\n",
       "    }\n",
       "</style>\n",
       "<table border=\"1\" class=\"dataframe\">\n",
       "  <thead>\n",
       "    <tr style=\"text-align: right;\">\n",
       "      <th></th>\n",
       "      <th>Job</th>\n",
       "      <th>Operation</th>\n",
       "      <th>Machine</th>\n",
       "      <th>Processing Time</th>\n",
       "    </tr>\n",
       "  </thead>\n",
       "  <tbody>\n",
       "    <tr>\n",
       "      <th>0</th>\n",
       "      <td>Job_000</td>\n",
       "      <td>0</td>\n",
       "      <td>M0</td>\n",
       "      <td>29</td>\n",
       "    </tr>\n",
       "    <tr>\n",
       "      <th>1</th>\n",
       "      <td>Job_000</td>\n",
       "      <td>1</td>\n",
       "      <td>M1</td>\n",
       "      <td>78</td>\n",
       "    </tr>\n",
       "    <tr>\n",
       "      <th>2</th>\n",
       "      <td>Job_000</td>\n",
       "      <td>2</td>\n",
       "      <td>M2</td>\n",
       "      <td>9</td>\n",
       "    </tr>\n",
       "    <tr>\n",
       "      <th>3</th>\n",
       "      <td>Job_000</td>\n",
       "      <td>3</td>\n",
       "      <td>M3</td>\n",
       "      <td>36</td>\n",
       "    </tr>\n",
       "    <tr>\n",
       "      <th>4</th>\n",
       "      <td>Job_000</td>\n",
       "      <td>4</td>\n",
       "      <td>M4</td>\n",
       "      <td>49</td>\n",
       "    </tr>\n",
       "    <tr>\n",
       "      <th>...</th>\n",
       "      <td>...</td>\n",
       "      <td>...</td>\n",
       "      <td>...</td>\n",
       "      <td>...</td>\n",
       "    </tr>\n",
       "    <tr>\n",
       "      <th>565</th>\n",
       "      <td>Job_056</td>\n",
       "      <td>5</td>\n",
       "      <td>M9</td>\n",
       "      <td>76</td>\n",
       "    </tr>\n",
       "    <tr>\n",
       "      <th>566</th>\n",
       "      <td>Job_056</td>\n",
       "      <td>6</td>\n",
       "      <td>M5</td>\n",
       "      <td>47</td>\n",
       "    </tr>\n",
       "    <tr>\n",
       "      <th>567</th>\n",
       "      <td>Job_056</td>\n",
       "      <td>7</td>\n",
       "      <td>M3</td>\n",
       "      <td>52</td>\n",
       "    </tr>\n",
       "    <tr>\n",
       "      <th>568</th>\n",
       "      <td>Job_056</td>\n",
       "      <td>8</td>\n",
       "      <td>M4</td>\n",
       "      <td>90</td>\n",
       "    </tr>\n",
       "    <tr>\n",
       "      <th>569</th>\n",
       "      <td>Job_056</td>\n",
       "      <td>9</td>\n",
       "      <td>M7</td>\n",
       "      <td>45</td>\n",
       "    </tr>\n",
       "  </tbody>\n",
       "</table>\n",
       "<p>570 rows × 4 columns</p>\n",
       "</div>"
      ],
      "text/plain": [
       "         Job Operation Machine Processing Time\n",
       "0    Job_000         0      M0              29\n",
       "1    Job_000         1      M1              78\n",
       "2    Job_000         2      M2               9\n",
       "3    Job_000         3      M3              36\n",
       "4    Job_000         4      M4              49\n",
       "..       ...       ...     ...             ...\n",
       "565  Job_056         5      M9              76\n",
       "566  Job_056         6      M5              47\n",
       "567  Job_056         7      M3              52\n",
       "568  Job_056         8      M4              90\n",
       "569  Job_056         9      M7              45\n",
       "\n",
       "[570 rows x 4 columns]"
      ]
     },
     "execution_count": 17,
     "metadata": {},
     "output_type": "execute_result"
    }
   ],
   "source": [
    "# I)\n",
    "df_jssp_curr, df_times_curr = rp_proced.filter_jobs_by_arrival_window(df_times, df_jssp, day_start, planning_end)\n",
    "df_jssp_curr"
   ]
  },
  {
   "cell_type": "code",
   "execution_count": 18,
   "id": "618b5c92-4dac-413d-8d79-9288e5429b0a",
   "metadata": {},
   "outputs": [
    {
     "data": {
      "text/html": [
       "<div>\n",
       "<style scoped>\n",
       "    .dataframe tbody tr th:only-of-type {\n",
       "        vertical-align: middle;\n",
       "    }\n",
       "\n",
       "    .dataframe tbody tr th {\n",
       "        vertical-align: top;\n",
       "    }\n",
       "\n",
       "    .dataframe thead th {\n",
       "        text-align: right;\n",
       "    }\n",
       "</style>\n",
       "<table border=\"1\" class=\"dataframe\">\n",
       "  <thead>\n",
       "    <tr style=\"text-align: right;\">\n",
       "      <th></th>\n",
       "      <th>Job</th>\n",
       "      <th>Arrival</th>\n",
       "    </tr>\n",
       "  </thead>\n",
       "  <tbody>\n",
       "    <tr>\n",
       "      <th>0</th>\n",
       "      <td>Job_000</td>\n",
       "      <td>0.00</td>\n",
       "    </tr>\n",
       "    <tr>\n",
       "      <th>1</th>\n",
       "      <td>Job_001</td>\n",
       "      <td>88.05</td>\n",
       "    </tr>\n",
       "    <tr>\n",
       "      <th>2</th>\n",
       "      <td>Job_002</td>\n",
       "      <td>152.78</td>\n",
       "    </tr>\n",
       "    <tr>\n",
       "      <th>3</th>\n",
       "      <td>Job_003</td>\n",
       "      <td>207.97</td>\n",
       "    </tr>\n",
       "    <tr>\n",
       "      <th>4</th>\n",
       "      <td>Job_004</td>\n",
       "      <td>246.61</td>\n",
       "    </tr>\n",
       "    <tr>\n",
       "      <th>...</th>\n",
       "      <td>...</td>\n",
       "      <td>...</td>\n",
       "    </tr>\n",
       "    <tr>\n",
       "      <th>52</th>\n",
       "      <td>Job_052</td>\n",
       "      <td>4070.89</td>\n",
       "    </tr>\n",
       "    <tr>\n",
       "      <th>53</th>\n",
       "      <td>Job_053</td>\n",
       "      <td>4077.28</td>\n",
       "    </tr>\n",
       "    <tr>\n",
       "      <th>54</th>\n",
       "      <td>Job_054</td>\n",
       "      <td>4078.72</td>\n",
       "    </tr>\n",
       "    <tr>\n",
       "      <th>55</th>\n",
       "      <td>Job_055</td>\n",
       "      <td>4204.04</td>\n",
       "    </tr>\n",
       "    <tr>\n",
       "      <th>56</th>\n",
       "      <td>Job_056</td>\n",
       "      <td>4309.61</td>\n",
       "    </tr>\n",
       "  </tbody>\n",
       "</table>\n",
       "<p>57 rows × 2 columns</p>\n",
       "</div>"
      ],
      "text/plain": [
       "        Job  Arrival\n",
       "0   Job_000     0.00\n",
       "1   Job_001    88.05\n",
       "2   Job_002   152.78\n",
       "3   Job_003   207.97\n",
       "4   Job_004   246.61\n",
       "..      ...      ...\n",
       "52  Job_052  4070.89\n",
       "53  Job_053  4077.28\n",
       "54  Job_054  4078.72\n",
       "55  Job_055  4204.04\n",
       "56  Job_056  4309.61\n",
       "\n",
       "[57 rows x 2 columns]"
      ]
     },
     "execution_count": 18,
     "metadata": {},
     "output_type": "execute_result"
    }
   ],
   "source": [
    "df_times_curr "
   ]
  },
  {
   "cell_type": "markdown",
   "id": "8b0459ee-4c19-4be9-b05e-2afd0d69e067",
   "metadata": {},
   "source": [
    "### zusätzliche Jobs"
   ]
  },
  {
   "cell_type": "code",
   "execution_count": 20,
   "id": "ece9aedd-3e3d-4225-8318-b20f9129185a",
   "metadata": {},
   "outputs": [
    {
     "data": {
      "text/plain": [
       "'A'"
      ]
     },
     "execution_count": 20,
     "metadata": {},
     "output_type": "execute_result"
    }
   ],
   "source": [
    "extra_job_prefix = day_number_to_prefix(day_numb)\n",
    "extra_job_prefix"
   ]
  },
  {
   "cell_type": "code",
   "execution_count": 21,
   "id": "f5378543-bd04-4a9d-a0fa-03a17fab6dc4",
   "metadata": {
    "scrolled": true
   },
   "outputs": [
    {
     "data": {
      "text/plain": [
       "'\\ndf_jssp_curr, df_times_curr = rp_init.add_extra_jobs_to_current_horizon(\\n    df_existing_jobs=df_jssp_curr,\\n    df_existing_arrivals=df_times_curr,\\n    df_template=df_jssp,\\n    start_time=day_start - 120,\\n    start_index=day_numb*10,\\n    job_prefix=extra_job_prefix,\\n    mean_interarrival_time=120,\\n    job_numb=1,\\n    shuffle=True\\n)\\ndf_jssp_curr\\n\\n'"
      ]
     },
     "execution_count": 21,
     "metadata": {},
     "output_type": "execute_result"
    }
   ],
   "source": [
    "\"\"\"\n",
    "df_jssp_curr, df_times_curr = rp_init.add_extra_jobs_to_current_horizon(\n",
    "    df_existing_jobs=df_jssp_curr,\n",
    "    df_existing_arrivals=df_times_curr,\n",
    "    df_template=df_jssp,\n",
    "    start_time=day_start - 120,\n",
    "    start_index=day_numb*10,\n",
    "    job_prefix=extra_job_prefix,\n",
    "    mean_interarrival_time=120,\n",
    "    job_numb=1,\n",
    "    shuffle=True\n",
    ")\n",
    "df_jssp_curr\n",
    "\n",
    "\"\"\""
   ]
  },
  {
   "cell_type": "code",
   "execution_count": 22,
   "id": "89a36a00-f66b-4fe0-a66a-35d883bee796",
   "metadata": {},
   "outputs": [
    {
     "data": {
      "text/html": [
       "<div>\n",
       "<style scoped>\n",
       "    .dataframe tbody tr th:only-of-type {\n",
       "        vertical-align: middle;\n",
       "    }\n",
       "\n",
       "    .dataframe tbody tr th {\n",
       "        vertical-align: top;\n",
       "    }\n",
       "\n",
       "    .dataframe thead th {\n",
       "        text-align: right;\n",
       "    }\n",
       "</style>\n",
       "<table border=\"1\" class=\"dataframe\">\n",
       "  <thead>\n",
       "    <tr style=\"text-align: right;\">\n",
       "      <th></th>\n",
       "      <th>Job</th>\n",
       "      <th>Arrival</th>\n",
       "    </tr>\n",
       "  </thead>\n",
       "  <tbody>\n",
       "    <tr>\n",
       "      <th>0</th>\n",
       "      <td>Job_000</td>\n",
       "      <td>0.00</td>\n",
       "    </tr>\n",
       "    <tr>\n",
       "      <th>1</th>\n",
       "      <td>Job_001</td>\n",
       "      <td>88.05</td>\n",
       "    </tr>\n",
       "    <tr>\n",
       "      <th>2</th>\n",
       "      <td>Job_002</td>\n",
       "      <td>152.78</td>\n",
       "    </tr>\n",
       "    <tr>\n",
       "      <th>3</th>\n",
       "      <td>Job_003</td>\n",
       "      <td>207.97</td>\n",
       "    </tr>\n",
       "    <tr>\n",
       "      <th>4</th>\n",
       "      <td>Job_004</td>\n",
       "      <td>246.61</td>\n",
       "    </tr>\n",
       "    <tr>\n",
       "      <th>...</th>\n",
       "      <td>...</td>\n",
       "      <td>...</td>\n",
       "    </tr>\n",
       "    <tr>\n",
       "      <th>52</th>\n",
       "      <td>Job_052</td>\n",
       "      <td>4070.89</td>\n",
       "    </tr>\n",
       "    <tr>\n",
       "      <th>53</th>\n",
       "      <td>Job_053</td>\n",
       "      <td>4077.28</td>\n",
       "    </tr>\n",
       "    <tr>\n",
       "      <th>54</th>\n",
       "      <td>Job_054</td>\n",
       "      <td>4078.72</td>\n",
       "    </tr>\n",
       "    <tr>\n",
       "      <th>55</th>\n",
       "      <td>Job_055</td>\n",
       "      <td>4204.04</td>\n",
       "    </tr>\n",
       "    <tr>\n",
       "      <th>56</th>\n",
       "      <td>Job_056</td>\n",
       "      <td>4309.61</td>\n",
       "    </tr>\n",
       "  </tbody>\n",
       "</table>\n",
       "<p>57 rows × 2 columns</p>\n",
       "</div>"
      ],
      "text/plain": [
       "        Job  Arrival\n",
       "0   Job_000     0.00\n",
       "1   Job_001    88.05\n",
       "2   Job_002   152.78\n",
       "3   Job_003   207.97\n",
       "4   Job_004   246.61\n",
       "..      ...      ...\n",
       "52  Job_052  4070.89\n",
       "53  Job_053  4077.28\n",
       "54  Job_054  4078.72\n",
       "55  Job_055  4204.04\n",
       "56  Job_056  4309.61\n",
       "\n",
       "[57 rows x 2 columns]"
      ]
     },
     "execution_count": 22,
     "metadata": {},
     "output_type": "execute_result"
    }
   ],
   "source": [
    "df_times_curr"
   ]
  },
  {
   "cell_type": "markdown",
   "id": "0c64c65f-8a4a-4716-a645-14864a162cee",
   "metadata": {},
   "source": [
    "### Jobs vorziehen"
   ]
  },
  {
   "cell_type": "code",
   "execution_count": 24,
   "id": "aff57b4a-0456-456c-ab86-1945c93ee55a",
   "metadata": {},
   "outputs": [
    {
     "data": {
      "text/html": [
       "<div>\n",
       "<style scoped>\n",
       "    .dataframe tbody tr th:only-of-type {\n",
       "        vertical-align: middle;\n",
       "    }\n",
       "\n",
       "    .dataframe tbody tr th {\n",
       "        vertical-align: top;\n",
       "    }\n",
       "\n",
       "    .dataframe thead th {\n",
       "        text-align: right;\n",
       "    }\n",
       "</style>\n",
       "<table border=\"1\" class=\"dataframe\">\n",
       "  <thead>\n",
       "    <tr style=\"text-align: right;\">\n",
       "      <th></th>\n",
       "      <th>Job</th>\n",
       "      <th>Arrival</th>\n",
       "    </tr>\n",
       "  </thead>\n",
       "  <tbody>\n",
       "    <tr>\n",
       "      <th>110</th>\n",
       "      <td>Job_110</td>\n",
       "      <td>8397.28</td>\n",
       "    </tr>\n",
       "    <tr>\n",
       "      <th>121</th>\n",
       "      <td>Job_121</td>\n",
       "      <td>9155.63</td>\n",
       "    </tr>\n",
       "  </tbody>\n",
       "</table>\n",
       "</div>"
      ],
      "text/plain": [
       "         Job  Arrival\n",
       "110  Job_110  8397.28\n",
       "121  Job_121  9155.63"
      ]
     },
     "execution_count": 24,
     "metadata": {},
     "output_type": "execute_result"
    }
   ],
   "source": [
    "# Test\n",
    "df_jssp_beforehand, df_times_beforehand = rp_init.sample_jobs_with_times_after_arrivaltime(df_jssp, df_times, \n",
    "                                                                             min_arrival_time=planning_end,\n",
    "                                                                             n=2, random_state=123)\n",
    "df_times_beforehand"
   ]
  },
  {
   "cell_type": "code",
   "execution_count": 25,
   "id": "cafcbb8a-f814-452c-9a62-5ab99f906118",
   "metadata": {},
   "outputs": [
    {
     "data": {
      "text/html": [
       "<div>\n",
       "<style scoped>\n",
       "    .dataframe tbody tr th:only-of-type {\n",
       "        vertical-align: middle;\n",
       "    }\n",
       "\n",
       "    .dataframe tbody tr th {\n",
       "        vertical-align: top;\n",
       "    }\n",
       "\n",
       "    .dataframe thead th {\n",
       "        text-align: right;\n",
       "    }\n",
       "</style>\n",
       "<table border=\"1\" class=\"dataframe\">\n",
       "  <thead>\n",
       "    <tr style=\"text-align: right;\">\n",
       "      <th></th>\n",
       "      <th>Job</th>\n",
       "      <th>Arrival</th>\n",
       "    </tr>\n",
       "  </thead>\n",
       "  <tbody>\n",
       "    <tr>\n",
       "      <th>0</th>\n",
       "      <td>Job_000</td>\n",
       "      <td>0.00</td>\n",
       "    </tr>\n",
       "    <tr>\n",
       "      <th>1</th>\n",
       "      <td>Job_001</td>\n",
       "      <td>88.05</td>\n",
       "    </tr>\n",
       "    <tr>\n",
       "      <th>2</th>\n",
       "      <td>Job_002</td>\n",
       "      <td>152.78</td>\n",
       "    </tr>\n",
       "    <tr>\n",
       "      <th>3</th>\n",
       "      <td>Job_003</td>\n",
       "      <td>207.97</td>\n",
       "    </tr>\n",
       "    <tr>\n",
       "      <th>4</th>\n",
       "      <td>Job_004</td>\n",
       "      <td>246.61</td>\n",
       "    </tr>\n",
       "    <tr>\n",
       "      <th>...</th>\n",
       "      <td>...</td>\n",
       "      <td>...</td>\n",
       "    </tr>\n",
       "    <tr>\n",
       "      <th>55</th>\n",
       "      <td>Job_055</td>\n",
       "      <td>4204.04</td>\n",
       "    </tr>\n",
       "    <tr>\n",
       "      <th>56</th>\n",
       "      <td>Job_056</td>\n",
       "      <td>4309.61</td>\n",
       "    </tr>\n",
       "    <tr>\n",
       "      <th>57</th>\n",
       "      <td>Job_074</td>\n",
       "      <td>5644.04</td>\n",
       "    </tr>\n",
       "    <tr>\n",
       "      <th>58</th>\n",
       "      <td>Job_095</td>\n",
       "      <td>7200.00</td>\n",
       "    </tr>\n",
       "    <tr>\n",
       "      <th>59</th>\n",
       "      <td>Job_107</td>\n",
       "      <td>8203.56</td>\n",
       "    </tr>\n",
       "  </tbody>\n",
       "</table>\n",
       "<p>60 rows × 2 columns</p>\n",
       "</div>"
      ],
      "text/plain": [
       "        Job  Arrival\n",
       "0   Job_000     0.00\n",
       "1   Job_001    88.05\n",
       "2   Job_002   152.78\n",
       "3   Job_003   207.97\n",
       "4   Job_004   246.61\n",
       "..      ...      ...\n",
       "55  Job_055  4204.04\n",
       "56  Job_056  4309.61\n",
       "57  Job_074  5644.04\n",
       "58  Job_095  7200.00\n",
       "59  Job_107  8203.56\n",
       "\n",
       "[60 rows x 2 columns]"
      ]
     },
     "execution_count": 25,
     "metadata": {},
     "output_type": "execute_result"
    }
   ],
   "source": [
    "df_jssp_curr, df_times_curr = rp_init.add_beforehand_jobs_to_current_horizon(\n",
    "    df_existing_jobs = df_jssp_curr,\n",
    "    df_existing_times = df_times_curr,\n",
    "    df_jssp = df_jssp,\n",
    "    df_times = df_times,\n",
    "    min_arrival_time = planning_end,\n",
    "    n=3,\n",
    "    random_state=23\n",
    ")\n",
    "df_times_curr"
   ]
  },
  {
   "cell_type": "code",
   "execution_count": null,
   "id": "e3f12788-aa82-4358-93f1-e0733e837deb",
   "metadata": {},
   "outputs": [],
   "source": []
  },
  {
   "cell_type": "markdown",
   "id": "acb40320-fbed-4ed3-b72e-792b63bbf677",
   "metadata": {},
   "source": [
    "### Scheduling"
   ]
  },
  {
   "cell_type": "code",
   "execution_count": null,
   "id": "1cffa78f-6338-41de-a512-ad1c7c320435",
   "metadata": {},
   "outputs": [],
   "source": [
    "df_plan = ssv_a.solve_jssp_weighted_individual_flowtime(df_jssp_curr, df_times_curr , solver_time_limit=solver_limit, threads = 8)\n",
    "df_plan"
   ]
  },
  {
   "cell_type": "code",
   "execution_count": null,
   "id": "5f01ef72-5c5f-4a13-a745-68fa1baed9bb",
   "metadata": {},
   "outputs": [],
   "source": []
  },
  {
   "cell_type": "code",
   "execution_count": null,
   "id": "cad25c59-fb93-453f-9e9c-39444bcbec62",
   "metadata": {},
   "outputs": [],
   "source": [
    "df_plan.to_csv(file_template.format(day=day_numb), index = False)"
   ]
  },
  {
   "cell_type": "code",
   "execution_count": null,
   "id": "58ea642c-b6fd-42b7-8d35-9dd13516d89c",
   "metadata": {},
   "outputs": [],
   "source": [
    "show.plot_gantt_machines(df_plan)\n",
    "check.check_all_constraints(df_plan)"
   ]
  },
  {
   "cell_type": "code",
   "execution_count": null,
   "id": "d71dfb82-d5ce-45ee-96bb-2ed632af4686",
   "metadata": {},
   "outputs": [],
   "source": [
    "show.plot_gantt_jobs(df_plan)"
   ]
  },
  {
   "cell_type": "markdown",
   "id": "74045712-cbfb-405d-a016-9a34e3580786",
   "metadata": {},
   "source": [
    "### Simulation"
   ]
  },
  {
   "cell_type": "code",
   "execution_count": null,
   "id": "d143c490-2acb-4d72-9262-da999d6a1cd3",
   "metadata": {},
   "outputs": [],
   "source": [
    "simulation = ProductionDaySimulation(df_plan, vc=0.35)\n",
    "df_execution, df_undone = simulation.run(start_time = day_start, end_time=day_end)"
   ]
  },
  {
   "cell_type": "code",
   "execution_count": null,
   "id": "d02f2a1c-cb20-406b-a8eb-58a31852c037",
   "metadata": {},
   "outputs": [],
   "source": []
  }
 ],
 "metadata": {
  "kernelspec": {
   "display_name": "Python [conda env:base] *",
   "language": "python",
   "name": "conda-base-py"
  },
  "language_info": {
   "codemirror_mode": {
    "name": "ipython",
    "version": 3
   },
   "file_extension": ".py",
   "mimetype": "text/x-python",
   "name": "python",
   "nbconvert_exporter": "python",
   "pygments_lexer": "ipython3",
   "version": "3.12.9"
  }
 },
 "nbformat": 4,
 "nbformat_minor": 5
}
