{
 "cells": [
  {
   "metadata": {},
   "cell_type": "markdown",
   "source": "# Rolling Planning mit Flowtime Verfahren",
   "id": "97a9aad5e28b68ea"
  },
  {
   "metadata": {},
   "cell_type": "code",
   "outputs": [],
   "execution_count": null,
   "source": [
    "import json\n",
    "import pandas as pd\n",
    "pd.set_option('display.max_rows', 40)\n",
    "\n",
    "# Basics\n",
    "import utils.basics.presenter as show\n",
    "import utils.basics.converter as convert\n",
    "\n",
    "import utils.checker as check\n",
    "from ProductionDaySimulation import ProductionDaySimulation"
   ],
   "id": "d8fc71ccb1071bbd"
  },
  {
   "metadata": {},
   "cell_type": "code",
   "outputs": [],
   "execution_count": null,
   "source": [
    "import utils.rolling_planning.init_jobs_times as rp_init\n",
    "import utils.rolling_planning.procedure as rp_proced"
   ],
   "id": "29f5222b9a0ce166"
  },
  {
   "metadata": {},
   "cell_type": "code",
   "outputs": [],
   "execution_count": null,
   "source": [
    "import utils.schedule_solver__arrival as ssv_a\n",
    "import utils.reschedule.schedule_solver__arrival as rssv_a"
   ],
   "id": "6d5611393529215a"
  },
  {
   "metadata": {},
   "cell_type": "markdown",
   "source": "## Generierung des Datensatzes für 6 Tage (Ankunft)",
   "id": "cae4d1f4020805b3"
  },
  {
   "metadata": {},
   "cell_type": "code",
   "outputs": [],
   "execution_count": null,
   "source": [
    "# Datei laden\n",
    "with open(\"data/jobshop_instances.json\", \"r\", encoding=\"utf-8\") as f:\n",
    "    jobshop_instances = json.load(f)\n",
    "\n",
    "instance =  jobshop_instances[\"instance ft10\"]\n",
    "df_instance = convert.jssp_dict_to_df(instance)\n",
    "\n",
    "df_jssp, df_times = rp_init.init_jobs_with_arrivals(df_instance, 8,  u_b_mmax = 0.9)\n",
    "df_jssp"
   ],
   "id": "509bbdc14f11bb95"
  },
  {
   "metadata": {},
   "cell_type": "code",
   "outputs": [],
   "execution_count": null,
   "source": "df_times",
   "id": "3dff68e4b1e94f1f"
  },
  {
   "metadata": {},
   "cell_type": "code",
   "outputs": [],
   "execution_count": null,
   "source": [
    "solver_limit = 60*75 # je 75 min\n",
    "solver_limit"
   ],
   "id": "bd57b3caf75dd82c"
  },
  {
   "metadata": {},
   "cell_type": "code",
   "outputs": [],
   "execution_count": null,
   "source": [
    "def get_schedule_filename(day: int, suffix: str = \"\", prefix: str = \"06\") -> str:\n",
    "    file_template = \"data/{prefix}_schedule_{day:02d}{suffix}.csv\"\n",
    "    if suffix:\n",
    "        suffix = f\"_{suffix}\"\n",
    "    return file_template.format(prefix=prefix,day=day, suffix=suffix)\n"
   ],
   "id": "8cd890286943c0a8"
  },
  {
   "metadata": {},
   "cell_type": "markdown",
   "source": "## Params",
   "id": "ae6ad1b85741e920"
  },
  {
   "metadata": {},
   "cell_type": "code",
   "outputs": [],
   "execution_count": null,
   "source": [
    "# fix\n",
    "day_length = 1440\n",
    "horizon_days = 3\n",
    "\n",
    "file_template = \"data/06_schedule_{day:02d}.csv\""
   ],
   "id": "ff20838f9cfcaa3c"
  },
  {
   "metadata": {},
   "cell_type": "code",
   "outputs": [],
   "execution_count": null,
   "source": [
    "day_numb = 0\n",
    "planning_end = 0"
   ],
   "id": "aa7d4d952c05cbd"
  },
  {
   "metadata": {},
   "cell_type": "markdown",
   "source": "# Initialisierung (Tag 0)",
   "id": "1eff372792c80e33"
  },
  {
   "metadata": {},
   "cell_type": "code",
   "outputs": [],
   "execution_count": null,
   "source": "day_numb = 0",
   "id": "c054c6c617238116"
  },
  {
   "metadata": {},
   "cell_type": "code",
   "outputs": [],
   "execution_count": null,
   "source": [
    "day_start = day_length*day_numb                      # 0\n",
    "day_end = day_start + day_length                     # 1440\n",
    "planning_end =  day_start + horizon_days*day_length  # 4320"
   ],
   "id": "672ff06806bc4cb3"
  },
  {
   "metadata": {},
   "cell_type": "code",
   "outputs": [],
   "execution_count": null,
   "source": [
    "# I)\n",
    "df_jssp_curr, df_times_curr = rp_proced.filter_jobs_by_arrival_window(df_times, df_jssp, day_start, planning_end)\n",
    "df_jssp_curr"
   ],
   "id": "a39da917edec1a08"
  },
  {
   "metadata": {},
   "cell_type": "code",
   "outputs": [],
   "execution_count": null,
   "source": "df_times_curr ",
   "id": "dc39831a085898f7"
  },
  {
   "metadata": {},
   "cell_type": "markdown",
   "source": "### (zusätzliche Jobs)",
   "id": "b677845fd2af9e16"
  },
  {
   "metadata": {},
   "cell_type": "code",
   "outputs": [],
   "execution_count": null,
   "source": [
    "\"\"\"\n",
    "\n",
    "extra_job_prefix = 'A'\n",
    "\n",
    "df_jssp_curr, df_times_curr = rp_init.add_extra_jobs_to_current_horizon(\n",
    "    df_existing_jobs=df_jssp_curr,\n",
    "    df_existing_arrivals=df_times_curr,\n",
    "    df_template=df_jssp,\n",
    "    start_time=day_start - 120,\n",
    "    start_index=day_numb*10,\n",
    "    job_prefix=extra_job_prefix,\n",
    "    mean_interarrival_time=120,\n",
    "    job_numb=1,\n",
    "    shuffle=True\n",
    ")\n",
    "df_jssp_curr\n",
    "\n",
    "\"\"\""
   ],
   "id": "a26c9c71f49553ef"
  },
  {
   "metadata": {},
   "cell_type": "markdown",
   "source": "### Jobs vorziehen",
   "id": "d98186930022cbc9"
  },
  {
   "metadata": {},
   "cell_type": "code",
   "outputs": [],
   "execution_count": null,
   "source": [
    "# Test\n",
    "df_jssp_beforehand, df_times_beforehand = rp_init.sample_jobs_with_times_after_arrivaltime(df_jssp, df_times, \n",
    "                                                                             min_arrival_time=planning_end,\n",
    "                                                                             n=2, random_state=123)\n",
    "df_times_beforehand"
   ],
   "id": "b6dd61f14618c105"
  },
  {
   "metadata": {},
   "cell_type": "code",
   "outputs": [],
   "execution_count": null,
   "source": [
    "df_jssp_curr, df_times_curr = rp_init.add_beforehand_jobs_to_current_horizon(\n",
    "    df_existing_jobs = df_jssp_curr,\n",
    "    df_existing_times = df_times_curr,\n",
    "    df_jssp = df_jssp,\n",
    "    df_times = df_times,\n",
    "    min_arrival_time = planning_end,\n",
    "    n=3,\n",
    "    random_state=23\n",
    ")\n",
    "df_times_curr"
   ],
   "id": "561bf55ee70b9985"
  },
  {
   "metadata": {},
   "cell_type": "markdown",
   "source": "### Scheduling",
   "id": "eac341600434ded1"
  },
  {
   "metadata": {},
   "cell_type": "code",
   "outputs": [],
   "execution_count": null,
   "source": [
    "df_plan = ssv_a.solve_jssp_weighted_individual_flowtime(df_jssp_curr, df_times_curr , solver_time_limit=solver_limit, threads = 8)\n",
    "df_plan"
   ],
   "id": "54bcc2cf35eb6173"
  },
  {
   "metadata": {},
   "cell_type": "code",
   "outputs": [],
   "execution_count": null,
   "source": "df_plan.to_csv(get_schedule_filename(day=day_numb), index = False)",
   "id": "bc734e9dc2fc3e87"
  },
  {
   "metadata": {},
   "cell_type": "markdown",
   "source": [
    "### show.plot_gantt_machines(df_plan)\n",
    "check.check_all_constraints(df_plan)"
   ],
   "id": "8bccaa1da3a51ba2"
  },
  {
   "metadata": {},
   "cell_type": "code",
   "outputs": [],
   "execution_count": null,
   "source": "show.plot_gantt_jobs(df_plan)",
   "id": "2155f8360b41f359"
  },
  {
   "metadata": {},
   "cell_type": "markdown",
   "source": "### Simulation",
   "id": "4b312926b08071d5"
  },
  {
   "metadata": {},
   "cell_type": "code",
   "outputs": [],
   "execution_count": null,
   "source": [
    "simulation = ProductionDaySimulation(df_plan, vc=0.35)\n",
    "df_execution, df_undone = simulation.run(start_time = day_start, end_time=day_end)"
   ],
   "id": "db62380d0ef1a647"
  },
  {
   "metadata": {},
   "cell_type": "code",
   "outputs": [],
   "execution_count": null,
   "source": "show.plot_gantt_machines(df_execution, duration_column=\"Simulated Processing Time\")",
   "id": "78c9a748377389fd"
  },
  {
   "metadata": {},
   "cell_type": "code",
   "outputs": [],
   "execution_count": null,
   "source": "df_undone",
   "id": "38014947c504fe14"
  },
  {
   "metadata": {},
   "cell_type": "markdown",
   "source": "## Day 1",
   "id": "a3113923ef943b9e"
  },
  {
   "metadata": {},
   "cell_type": "code",
   "outputs": [],
   "execution_count": null,
   "source": [
    "day_numb = 1\n",
    "\n",
    "day_start = day_length*day_numb                      # 1440\n",
    "day_end = day_start + day_length                     # 2880\n",
    "planning_end =  day_start + horizon_days*day_length  # 5760"
   ],
   "id": "32bc5408bb156a67"
  },
  {
   "metadata": {},
   "cell_type": "code",
   "outputs": [],
   "execution_count": null,
   "source": [
    "# I)\n",
    "df_jssp_curr, df_times_curr = rp_proced.filter_jobs_by_arrival_window(df_times, df_jssp, day_start, planning_end)\n",
    "df_jssp_curr"
   ],
   "id": "bdb3e2c66441c76c"
  },
  {
   "metadata": {},
   "cell_type": "code",
   "outputs": [],
   "execution_count": null,
   "source": [
    "# evtl. nicht gestarte Operationen ergänzen\n",
    "df_jssp_curr = rp_proced.extend_with_undone_operations(df_jssp_curr, df_undone)\n",
    "df_jssp_curr"
   ],
   "id": "e6b7350272483935"
  },
  {
   "metadata": {},
   "cell_type": "code",
   "outputs": [],
   "execution_count": null,
   "source": [
    "df_times_curr = rp_proced.update_times_after_operation_changes(df_times, df_jssp_curr)\n",
    "df_times_curr"
   ],
   "id": "3a39e12c29351214"
  },
  {
   "metadata": {},
   "cell_type": "code",
   "outputs": [],
   "execution_count": null,
   "source": [
    "# zusätzliche Jobs (vorzeitig)\n",
    "df_jssp_curr, df_times_curr = rp_init.add_beforehand_jobs_to_current_horizon(\n",
    "    df_existing_jobs = df_jssp_curr,\n",
    "    df_existing_times = df_times_curr,\n",
    "    df_jssp = df_jssp,\n",
    "    df_times = df_times,\n",
    "    min_arrival_time = planning_end,\n",
    "    n=3,\n",
    "    random_state=23\n",
    ")\n",
    "df_times_curr"
   ],
   "id": "9980b748a007a78b"
  },
  {
   "metadata": {},
   "cell_type": "code",
   "outputs": [],
   "execution_count": null,
   "source": [
    "# relevante Bedingungen aus der Simulation\n",
    "df_execution_important = rp_proced.get_operations_running_into_day(df_execution, day_start)\n",
    "df_execution_important"
   ],
   "id": "57df29136171ce8c"
  },
  {
   "metadata": {},
   "cell_type": "markdown",
   "source": "### Rescheduling",
   "id": "33980bdd4d8a2764"
  },
  {
   "metadata": {},
   "cell_type": "markdown",
   "source": "#### a) r = 0.8",
   "id": "685d8708be16e1a1"
  },
  {
   "metadata": {},
   "cell_type": "code",
   "outputs": [],
   "execution_count": null,
   "source": "this_r = 0.8 # 80 % Effizienz, 20 % Stabilität",
   "id": "65ebcaacb463a6b1"
  },
  {
   "metadata": {},
   "cell_type": "code",
   "outputs": [],
   "execution_count": null,
   "source": [
    "df_reschedule = rssv_a.solve_jssp_bi_criteria_flowtime_deviation_with_fixed_ops(\n",
    "    df_jssp = df_jssp_curr,\n",
    "    df_arrivals = df_times_curr,\n",
    "    df_executed=df_execution_important,\n",
    "    df_original_plan=df_plan,\n",
    "    r = this_r, \n",
    "    solver_time_limit = solver_limit,\n",
    "    reschedule_start = day_start,\n",
    "    threads = 8\n",
    ")\n",
    "df_reschedule"
   ],
   "id": "2abe9797355bcc83"
  },
  {
   "metadata": {},
   "cell_type": "code",
   "outputs": [],
   "execution_count": null,
   "source": "df_reschedule.to_csv(get_schedule_filename(day=day_numb, suffix=f\"r{this_r:.3f}\"), index = False)",
   "id": "b819fc4dde1fd587"
  },
  {
   "metadata": {},
   "cell_type": "markdown",
   "source": "#### b) r = 0.2",
   "id": "e6dc0007a65ebd82"
  },
  {
   "metadata": {},
   "cell_type": "code",
   "outputs": [],
   "execution_count": null,
   "source": [
    "this_r = 0.2 # 20 % Effizienz, 80 % Stabilität\n",
    "\n",
    "df_reschedule = rssv_a.solve_jssp_bi_criteria_flowtime_deviation_with_fixed_ops(\n",
    "    df_jssp = df_jssp_curr,\n",
    "    df_arrivals = df_times_curr,\n",
    "    df_executed=df_execution_important,\n",
    "    df_original_plan=df_plan,\n",
    "    r = this_r, \n",
    "    solver_time_limit = solver_limit,\n",
    "    reschedule_start = day_start,\n",
    "    threads = 8\n",
    ")\n",
    "df_reschedule"
   ],
   "id": "f7a548689b1a8569"
  },
  {
   "metadata": {},
   "cell_type": "code",
   "outputs": [],
   "execution_count": null,
   "source": "df_reschedule.to_csv(get_schedule_filename(day=day_numb, suffix=f\"r{this_r:.3f}\"), index = False)",
   "id": "137914cd692e415c"
  },
  {
   "metadata": {},
   "cell_type": "markdown",
   "source": "#### c) r = 0.4",
   "id": "e53372f9035cbe7b"
  },
  {
   "metadata": {},
   "cell_type": "code",
   "outputs": [],
   "execution_count": null,
   "source": [
    "this_r = 0.4\n",
    "\n",
    "df_reschedule = rssv_a.solve_jssp_bi_criteria_flowtime_deviation_with_fixed_ops(\n",
    "    df_jssp = df_jssp_curr,\n",
    "    df_arrivals = df_times_curr,\n",
    "    df_executed=df_execution_important,\n",
    "    df_original_plan=df_plan,\n",
    "    r = this_r, \n",
    "    solver_time_limit = solver_limit,\n",
    "    reschedule_start = day_start,\n",
    "    threads = 8\n",
    ")\n",
    "df_reschedule"
   ],
   "id": "22aee717b01eb7a7"
  },
  {
   "metadata": {},
   "cell_type": "code",
   "outputs": [],
   "execution_count": null,
   "source": "df_reschedule.to_csv(get_schedule_filename(day=day_numb, suffix=f\"r{this_r:.3f}\"), index = False)",
   "id": "631d75c3c7934904"
  },
  {
   "metadata": {},
   "cell_type": "code",
   "outputs": [],
   "execution_count": null,
   "source": "df_plan = df_reschedule",
   "id": "365166ffa3a34567"
  },
  {
   "metadata": {},
   "cell_type": "markdown",
   "source": "### Simulation",
   "id": "31ebdd43ec4ed4ac"
  },
  {
   "metadata": {},
   "cell_type": "code",
   "outputs": [],
   "execution_count": null,
   "source": [
    "simulation = ProductionDaySimulation(df_plan, vc=0.35)\n",
    "df_execution, df_undone = simulation.run(start_time = day_start, end_time=day_end)"
   ],
   "id": "6ec7682434d657b8"
  },
  {
   "metadata": {},
   "cell_type": "code",
   "outputs": [],
   "execution_count": null,
   "source": "show.plot_gantt_machines(df_execution, duration_column=\"Simulated Processing Time\")",
   "id": "76bc7b60b4dbbbe5"
  },
  {
   "metadata": {},
   "cell_type": "code",
   "outputs": [],
   "execution_count": null,
   "source": "df_undone",
   "id": "b8c59c76a930c568"
  },
  {
   "metadata": {},
   "cell_type": "markdown",
   "source": "## Day 2-4",
   "id": "5d24a61896cb9dfb"
  },
  {
   "metadata": {},
   "cell_type": "code",
   "outputs": [],
   "execution_count": null,
   "source": [
    "last_planning_start = 4\n",
    "\n",
    "for day_numb in range(2, last_planning_start + 1):  # Schleife von 2 bis 5\n",
    "    day_start = day_length*day_numb                     \n",
    "    day_end = day_start + day_length                 \n",
    "    planning_end =  day_start + horizon_days*day_length\n",
    "    \n",
    "    # Ia aktuelles Ankunftszeitfenster\n",
    "    df_jssp_curr, df_times_curr = rp_proced.filter_jobs_by_arrival_window(df_times, df_jssp, day_start, planning_end)\n",
    "\n",
    "    # Ib Operation ergänzen, die zuvor bekannt und nicht abgeschlossen (aber evtl. nicht aktuellen Zeitfenster) \n",
    "    df_jssp_curr = rp_proced.extend_with_undone_operations(df_jssp_curr, df_undone)\n",
    "\n",
    "    # Ic Zeiten-Dataframe aktualisieren (wegen Ib)\n",
    "    df_times_curr = rp_proced.update_times_after_operation_changes(df_times, df_jssp_curr)\n",
    "\n",
    "\n",
    "    # II drei zusätzliche Jobs (vorzeitig)\n",
    "    df_jssp_curr, df_times_curr = rp_init.add_beforehand_jobs_to_current_horizon(\n",
    "        df_existing_jobs = df_jssp_curr,\n",
    "        df_existing_times = df_times_curr,\n",
    "        df_jssp = df_jssp,\n",
    "        df_times = df_times,\n",
    "        min_arrival_time = planning_end,\n",
    "        n=3,\n",
    "        random_state=23\n",
    "    )\n",
    "\n",
    "    # III relevante Bedingungen aus der Simulation (Operationen, die in aktuellen Planunghorizont hineinlaufen)\n",
    "    df_execution_important = rp_proced.get_operations_running_into_day(df_execution, day_start)\n",
    "\n",
    "    # Rescheduling\n",
    "    this_r = 0.4   # 40 % Effizienz, 60 % Stabilität\n",
    "\n",
    "    df_plan = rssv_a.solve_jssp_bi_criteria_flowtime_deviation_with_fixed_ops(\n",
    "        df_jssp = df_jssp_curr,\n",
    "        df_arrivals = df_times_curr,\n",
    "        df_executed=df_execution_important,\n",
    "        df_original_plan=df_plan,\n",
    "        r = this_r, \n",
    "        solver_time_limit = solver_limit,\n",
    "        reschedule_start = day_start,\n",
    "        threads = 8\n",
    "    )\n",
    "    df_plan.to_csv(get_schedule_filename(day=day_numb), index = False)\n",
    "\n",
    "    show.plot_gantt_machines(df_plan, title = f\"Gantt-Diagramm ab Tag {day_numb}\")\n",
    "    check.check_all_constraints(df_plan)\n",
    "\n",
    "    # Simulation (ein Tag)\n",
    "    simulation = ProductionDaySimulation(df_plan, vc=0.35)\n",
    "    df_execution, df_undone = simulation.run(start_time = day_start, end_time=day_end)\n",
    "    show.plot_gantt_machines(df_execution, \n",
    "                             title = f\"Gantt-Diagramm für Simulationstag {day_numb}\",\n",
    "                             duration_column = \"Simulated Processing Time\")"
   ],
   "id": "a780c78716421fff"
  }
 ],
 "metadata": {
  "kernelspec": {
   "display_name": "Python 3 (ipykernel)",
   "language": "python",
   "name": "python3"
  },
  "language_info": {
   "codemirror_mode": {
    "name": "ipython",
    "version": 3
   },
   "file_extension": ".py",
   "mimetype": "text/x-python",
   "name": "python",
   "nbconvert_exporter": "python",
   "pygments_lexer": "ipython3",
   "version": "3.12.2"
  }
 },
 "nbformat": 4,
 "nbformat_minor": 5
}
