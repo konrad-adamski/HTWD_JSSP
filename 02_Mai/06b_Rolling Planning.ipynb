{
 "cells": [
  {
   "cell_type": "markdown",
   "id": "a6b85b74-3384-48d9-8e49-6ef93d70cabd",
   "metadata": {},
   "source": [
    "# Rolling Planning mit Summe-Tardiness"
   ]
  },
  {
   "cell_type": "code",
   "execution_count": 1,
   "id": "cc26f0fd-3500-4671-bed6-7f647dd339d2",
   "metadata": {},
   "outputs": [],
   "source": [
    "import json\n",
    "import pandas as pd\n",
    "pd.set_option('display.max_rows', 40)\n",
    "\n",
    "# Basics\n",
    "import utils.basics.presenter as show\n",
    "import utils.basics.converter as convert\n",
    "\n",
    "import utils.checker as check\n",
    "from ProductionDaySimulation import ProductionDaySimulation"
   ]
  },
  {
   "cell_type": "code",
   "execution_count": 2,
   "id": "5a435567-74da-40b1-b2b8-0656f88b8903",
   "metadata": {},
   "outputs": [],
   "source": [
    "import utils.rolling_planning.init_jobs_times as rp_init\n",
    "import utils.rolling_planning.procedure as rp_proced"
   ]
  },
  {
   "cell_type": "code",
   "execution_count": 3,
   "id": "23444071-0b5d-462c-afd3-570233d61415",
   "metadata": {},
   "outputs": [],
   "source": [
    "import utils.schedule_solver__arrival as ssv_a\n",
    "import utils.reschedule.schedule_solver__arrival as rssv_a"
   ]
  },
  {
   "cell_type": "code",
   "execution_count": 4,
   "id": "24127f1f-bc10-4990-b1ca-6cc6cdc19bb7",
   "metadata": {},
   "outputs": [],
   "source": [
    "import utils.schedule_solver__tardiness_plus as ssv_t\n",
    "import utils.reschedule.schedule_solver__tardiness_plus as rssv_t"
   ]
  },
  {
   "cell_type": "code",
   "execution_count": 5,
   "id": "1b3d88e2-b668-4cf6-b9f4-fc001b06b71c",
   "metadata": {},
   "outputs": [],
   "source": [
    "import time"
   ]
  },
  {
   "cell_type": "markdown",
   "id": "4a2efeac-1d48-4450-b4f4-319e39d541a9",
   "metadata": {},
   "source": [
    "## Generierung des Datensatzes für 6 Tage (Ankunft)"
   ]
  },
  {
   "cell_type": "code",
   "execution_count": 7,
   "id": "5da832ab-468f-4f68-849d-84eedebdaf58",
   "metadata": {},
   "outputs": [
    {
     "data": {
      "text/html": [
       "<div>\n",
       "<style scoped>\n",
       "    .dataframe tbody tr th:only-of-type {\n",
       "        vertical-align: middle;\n",
       "    }\n",
       "\n",
       "    .dataframe tbody tr th {\n",
       "        vertical-align: top;\n",
       "    }\n",
       "\n",
       "    .dataframe thead th {\n",
       "        text-align: right;\n",
       "    }\n",
       "</style>\n",
       "<table border=\"1\" class=\"dataframe\">\n",
       "  <thead>\n",
       "    <tr style=\"text-align: right;\">\n",
       "      <th></th>\n",
       "      <th>Job</th>\n",
       "      <th>Operation</th>\n",
       "      <th>Machine</th>\n",
       "      <th>Processing Time</th>\n",
       "    </tr>\n",
       "  </thead>\n",
       "  <tbody>\n",
       "    <tr>\n",
       "      <th>0</th>\n",
       "      <td>Job_000</td>\n",
       "      <td>0</td>\n",
       "      <td>M0</td>\n",
       "      <td>29</td>\n",
       "    </tr>\n",
       "    <tr>\n",
       "      <th>1</th>\n",
       "      <td>Job_000</td>\n",
       "      <td>1</td>\n",
       "      <td>M1</td>\n",
       "      <td>78</td>\n",
       "    </tr>\n",
       "    <tr>\n",
       "      <th>2</th>\n",
       "      <td>Job_000</td>\n",
       "      <td>2</td>\n",
       "      <td>M2</td>\n",
       "      <td>9</td>\n",
       "    </tr>\n",
       "    <tr>\n",
       "      <th>3</th>\n",
       "      <td>Job_000</td>\n",
       "      <td>3</td>\n",
       "      <td>M3</td>\n",
       "      <td>36</td>\n",
       "    </tr>\n",
       "    <tr>\n",
       "      <th>4</th>\n",
       "      <td>Job_000</td>\n",
       "      <td>4</td>\n",
       "      <td>M4</td>\n",
       "      <td>49</td>\n",
       "    </tr>\n",
       "    <tr>\n",
       "      <th>...</th>\n",
       "      <td>...</td>\n",
       "      <td>...</td>\n",
       "      <td>...</td>\n",
       "      <td>...</td>\n",
       "    </tr>\n",
       "    <tr>\n",
       "      <th>1515</th>\n",
       "      <td>Job_151</td>\n",
       "      <td>5</td>\n",
       "      <td>M9</td>\n",
       "      <td>76</td>\n",
       "    </tr>\n",
       "    <tr>\n",
       "      <th>1516</th>\n",
       "      <td>Job_151</td>\n",
       "      <td>6</td>\n",
       "      <td>M5</td>\n",
       "      <td>47</td>\n",
       "    </tr>\n",
       "    <tr>\n",
       "      <th>1517</th>\n",
       "      <td>Job_151</td>\n",
       "      <td>7</td>\n",
       "      <td>M3</td>\n",
       "      <td>52</td>\n",
       "    </tr>\n",
       "    <tr>\n",
       "      <th>1518</th>\n",
       "      <td>Job_151</td>\n",
       "      <td>8</td>\n",
       "      <td>M4</td>\n",
       "      <td>90</td>\n",
       "    </tr>\n",
       "    <tr>\n",
       "      <th>1519</th>\n",
       "      <td>Job_151</td>\n",
       "      <td>9</td>\n",
       "      <td>M7</td>\n",
       "      <td>45</td>\n",
       "    </tr>\n",
       "  </tbody>\n",
       "</table>\n",
       "<p>1520 rows × 4 columns</p>\n",
       "</div>"
      ],
      "text/plain": [
       "          Job Operation Machine Processing Time\n",
       "0     Job_000         0      M0              29\n",
       "1     Job_000         1      M1              78\n",
       "2     Job_000         2      M2               9\n",
       "3     Job_000         3      M3              36\n",
       "4     Job_000         4      M4              49\n",
       "...       ...       ...     ...             ...\n",
       "1515  Job_151         5      M9              76\n",
       "1516  Job_151         6      M5              47\n",
       "1517  Job_151         7      M3              52\n",
       "1518  Job_151         8      M4              90\n",
       "1519  Job_151         9      M7              45\n",
       "\n",
       "[1520 rows x 4 columns]"
      ]
     },
     "execution_count": 7,
     "metadata": {},
     "output_type": "execute_result"
    }
   ],
   "source": [
    "# Datei laden\n",
    "with open(\"data/jobshop_instances.json\", \"r\", encoding=\"utf-8\") as f:\n",
    "    jobshop_instances = json.load(f)\n",
    "\n",
    "instance =  jobshop_instances[\"instance ft10\"]\n",
    "df_instance = convert.jssp_dict_to_df(instance)\n",
    "\n",
    "df_jssp, df_times = rp_init.init_jobs_with_arrivals(df_instance, 8,  u_b_mmax = 0.90, generate_deadlines=True, deadlines_buffer_factor=1.20)\n",
    "df_jssp"
   ]
  },
  {
   "cell_type": "code",
   "execution_count": 9,
   "id": "ed953b18-cbce-4c7e-8248-456eaa321f40",
   "metadata": {},
   "outputs": [],
   "source": [
    "df_jssp.to_csv(\"data/06b_init_jssp.csv\", index = False)\n",
    "df_times.to_csv(\"data/06b_init_times.csv\", index = False)"
   ]
  },
  {
   "cell_type": "code",
   "execution_count": 10,
   "id": "63a00ca7-3a22-4357-89df-7aab57f720cd",
   "metadata": {},
   "outputs": [
    {
     "name": "stdout",
     "output_type": "stream",
     "text": [
      "Mean Processing Time per Job:    515.89\n",
      "Minimum Processing Time per Job: 393.00\n",
      "Maximum Processing Time per Job: 655.00\n"
     ]
    }
   ],
   "source": [
    "print(f\"Mean Processing Time per Job:    {df_jssp.groupby('Job')['Processing Time'].sum().mean():.2f}\")\n",
    "print(f\"Minimum Processing Time per Job: {df_jssp.groupby('Job')['Processing Time'].sum().min():.2f}\")\n",
    "print(f\"Maximum Processing Time per Job: {df_jssp.groupby('Job')['Processing Time'].sum().max():.2f}\")"
   ]
  },
  {
   "cell_type": "code",
   "execution_count": 13,
   "id": "27c49804-c299-477c-9dac-e6ff02a580ff",
   "metadata": {},
   "outputs": [
    {
     "data": {
      "text/html": [
       "<div>\n",
       "<style scoped>\n",
       "    .dataframe tbody tr th:only-of-type {\n",
       "        vertical-align: middle;\n",
       "    }\n",
       "\n",
       "    .dataframe tbody tr th {\n",
       "        vertical-align: top;\n",
       "    }\n",
       "\n",
       "    .dataframe thead th {\n",
       "        text-align: right;\n",
       "    }\n",
       "</style>\n",
       "<table border=\"1\" class=\"dataframe\">\n",
       "  <thead>\n",
       "    <tr style=\"text-align: right;\">\n",
       "      <th></th>\n",
       "      <th>Job</th>\n",
       "      <th>Arrival</th>\n",
       "      <th>Deadline</th>\n",
       "    </tr>\n",
       "  </thead>\n",
       "  <tbody>\n",
       "    <tr>\n",
       "      <th>0</th>\n",
       "      <td>Job_000</td>\n",
       "      <td>0.00</td>\n",
       "      <td>1069.346415</td>\n",
       "    </tr>\n",
       "    <tr>\n",
       "      <th>1</th>\n",
       "      <td>Job_001</td>\n",
       "      <td>88.05</td>\n",
       "      <td>1468.725117</td>\n",
       "    </tr>\n",
       "    <tr>\n",
       "      <th>2</th>\n",
       "      <td>Job_002</td>\n",
       "      <td>152.78</td>\n",
       "      <td>1690.473072</td>\n",
       "    </tr>\n",
       "    <tr>\n",
       "      <th>3</th>\n",
       "      <td>Job_003</td>\n",
       "      <td>207.97</td>\n",
       "      <td>1981.190004</td>\n",
       "    </tr>\n",
       "    <tr>\n",
       "      <th>4</th>\n",
       "      <td>Job_004</td>\n",
       "      <td>246.61</td>\n",
       "      <td>1310.542002</td>\n",
       "    </tr>\n",
       "    <tr>\n",
       "      <th>...</th>\n",
       "      <td>...</td>\n",
       "      <td>...</td>\n",
       "      <td>...</td>\n",
       "    </tr>\n",
       "    <tr>\n",
       "      <th>147</th>\n",
       "      <td>Job_147</td>\n",
       "      <td>11270.89</td>\n",
       "      <td>13044.110004</td>\n",
       "    </tr>\n",
       "    <tr>\n",
       "      <th>148</th>\n",
       "      <td>Job_148</td>\n",
       "      <td>11277.28</td>\n",
       "      <td>12341.212002</td>\n",
       "    </tr>\n",
       "    <tr>\n",
       "      <th>149</th>\n",
       "      <td>Job_149</td>\n",
       "      <td>11278.72</td>\n",
       "      <td>12816.413072</td>\n",
       "    </tr>\n",
       "    <tr>\n",
       "      <th>150</th>\n",
       "      <td>Job_150</td>\n",
       "      <td>11404.04</td>\n",
       "      <td>12473.386415</td>\n",
       "    </tr>\n",
       "    <tr>\n",
       "      <th>151</th>\n",
       "      <td>Job_151</td>\n",
       "      <td>11509.61</td>\n",
       "      <td>12971.501301</td>\n",
       "    </tr>\n",
       "  </tbody>\n",
       "</table>\n",
       "<p>152 rows × 3 columns</p>\n",
       "</div>"
      ],
      "text/plain": [
       "         Job   Arrival      Deadline\n",
       "0    Job_000      0.00   1069.346415\n",
       "1    Job_001     88.05   1468.725117\n",
       "2    Job_002    152.78   1690.473072\n",
       "3    Job_003    207.97   1981.190004\n",
       "4    Job_004    246.61   1310.542002\n",
       "..       ...       ...           ...\n",
       "147  Job_147  11270.89  13044.110004\n",
       "148  Job_148  11277.28  12341.212002\n",
       "149  Job_149  11278.72  12816.413072\n",
       "150  Job_150  11404.04  12473.386415\n",
       "151  Job_151  11509.61  12971.501301\n",
       "\n",
       "[152 rows x 3 columns]"
      ]
     },
     "execution_count": 13,
     "metadata": {},
     "output_type": "execute_result"
    }
   ],
   "source": [
    "df_times"
   ]
  },
  {
   "cell_type": "code",
   "execution_count": 12,
   "id": "04270671-2a82-4b39-980d-159ade1e92ae",
   "metadata": {},
   "outputs": [
    {
     "data": {
      "text/plain": [
       "1800"
      ]
     },
     "execution_count": 12,
     "metadata": {},
     "output_type": "execute_result"
    }
   ],
   "source": [
    "solver_limit = 60*60*3 # 3h\n",
    "solver_limit"
   ]
  },
  {
   "cell_type": "code",
   "execution_count": 13,
   "id": "3fd8616a-891f-4310-af62-63d3b5d83809",
   "metadata": {},
   "outputs": [],
   "source": [
    "def get_schedule_filename(day: int, suffix: str = \"\", prefix: str = \"06b\") -> str:\n",
    "    file_template = \"data/{prefix}_schedule_{day:02d}{suffix}.csv\"\n",
    "    if suffix:\n",
    "        suffix = f\"_{suffix}\"\n",
    "    return file_template.format(prefix=prefix,day=day, suffix=suffix)\n"
   ]
  },
  {
   "cell_type": "markdown",
   "id": "cc48756a-ebda-4fcc-945e-3eaa3dd4b269",
   "metadata": {},
   "source": [
    "## Params"
   ]
  },
  {
   "cell_type": "code",
   "execution_count": 15,
   "id": "8c43f361-7e63-413b-b2c7-83c6191fb349",
   "metadata": {},
   "outputs": [],
   "source": [
    "# fix\n",
    "day_length = 1440\n",
    "horizon_days = 3\n",
    "\n",
    "file_template = \"data/06_schedule_{day:02d}.csv\""
   ]
  },
  {
   "cell_type": "code",
   "execution_count": 16,
   "id": "0c983a0e-8192-4a00-a15d-2a165a6037e2",
   "metadata": {},
   "outputs": [],
   "source": [
    "day_numb = 0\n",
    "planning_end = 0"
   ]
  },
  {
   "cell_type": "markdown",
   "id": "17416b9c-2b17-40b0-8fe2-273122589443",
   "metadata": {},
   "source": [
    "# Initialisierung (Tag 0)"
   ]
  },
  {
   "cell_type": "code",
   "execution_count": 18,
   "id": "ee477069-e532-40d6-95de-0f9b2ba33bd8",
   "metadata": {},
   "outputs": [],
   "source": [
    "day_numb = 0"
   ]
  },
  {
   "cell_type": "code",
   "execution_count": 19,
   "id": "a754aa86-c525-4445-a7cb-4082c7e34235",
   "metadata": {},
   "outputs": [],
   "source": [
    "day_start = day_length*day_numb                      # 0\n",
    "day_end = day_start + day_length                     # 1440\n",
    "planning_end =  day_start + horizon_days*day_length  # 4320"
   ]
  },
  {
   "cell_type": "code",
   "execution_count": 20,
   "id": "cec5402a-1387-4383-a896-05ffd07ba9de",
   "metadata": {},
   "outputs": [
    {
     "data": {
      "text/html": [
       "<div>\n",
       "<style scoped>\n",
       "    .dataframe tbody tr th:only-of-type {\n",
       "        vertical-align: middle;\n",
       "    }\n",
       "\n",
       "    .dataframe tbody tr th {\n",
       "        vertical-align: top;\n",
       "    }\n",
       "\n",
       "    .dataframe thead th {\n",
       "        text-align: right;\n",
       "    }\n",
       "</style>\n",
       "<table border=\"1\" class=\"dataframe\">\n",
       "  <thead>\n",
       "    <tr style=\"text-align: right;\">\n",
       "      <th></th>\n",
       "      <th>Job</th>\n",
       "      <th>Operation</th>\n",
       "      <th>Machine</th>\n",
       "      <th>Processing Time</th>\n",
       "    </tr>\n",
       "  </thead>\n",
       "  <tbody>\n",
       "    <tr>\n",
       "      <th>0</th>\n",
       "      <td>Job_000</td>\n",
       "      <td>0</td>\n",
       "      <td>M0</td>\n",
       "      <td>29</td>\n",
       "    </tr>\n",
       "    <tr>\n",
       "      <th>1</th>\n",
       "      <td>Job_000</td>\n",
       "      <td>1</td>\n",
       "      <td>M1</td>\n",
       "      <td>78</td>\n",
       "    </tr>\n",
       "    <tr>\n",
       "      <th>2</th>\n",
       "      <td>Job_000</td>\n",
       "      <td>2</td>\n",
       "      <td>M2</td>\n",
       "      <td>9</td>\n",
       "    </tr>\n",
       "    <tr>\n",
       "      <th>3</th>\n",
       "      <td>Job_000</td>\n",
       "      <td>3</td>\n",
       "      <td>M3</td>\n",
       "      <td>36</td>\n",
       "    </tr>\n",
       "    <tr>\n",
       "      <th>4</th>\n",
       "      <td>Job_000</td>\n",
       "      <td>4</td>\n",
       "      <td>M4</td>\n",
       "      <td>49</td>\n",
       "    </tr>\n",
       "    <tr>\n",
       "      <th>...</th>\n",
       "      <td>...</td>\n",
       "      <td>...</td>\n",
       "      <td>...</td>\n",
       "      <td>...</td>\n",
       "    </tr>\n",
       "    <tr>\n",
       "      <th>565</th>\n",
       "      <td>Job_056</td>\n",
       "      <td>5</td>\n",
       "      <td>M9</td>\n",
       "      <td>76</td>\n",
       "    </tr>\n",
       "    <tr>\n",
       "      <th>566</th>\n",
       "      <td>Job_056</td>\n",
       "      <td>6</td>\n",
       "      <td>M5</td>\n",
       "      <td>47</td>\n",
       "    </tr>\n",
       "    <tr>\n",
       "      <th>567</th>\n",
       "      <td>Job_056</td>\n",
       "      <td>7</td>\n",
       "      <td>M3</td>\n",
       "      <td>52</td>\n",
       "    </tr>\n",
       "    <tr>\n",
       "      <th>568</th>\n",
       "      <td>Job_056</td>\n",
       "      <td>8</td>\n",
       "      <td>M4</td>\n",
       "      <td>90</td>\n",
       "    </tr>\n",
       "    <tr>\n",
       "      <th>569</th>\n",
       "      <td>Job_056</td>\n",
       "      <td>9</td>\n",
       "      <td>M7</td>\n",
       "      <td>45</td>\n",
       "    </tr>\n",
       "  </tbody>\n",
       "</table>\n",
       "<p>570 rows × 4 columns</p>\n",
       "</div>"
      ],
      "text/plain": [
       "         Job Operation Machine Processing Time\n",
       "0    Job_000         0      M0              29\n",
       "1    Job_000         1      M1              78\n",
       "2    Job_000         2      M2               9\n",
       "3    Job_000         3      M3              36\n",
       "4    Job_000         4      M4              49\n",
       "..       ...       ...     ...             ...\n",
       "565  Job_056         5      M9              76\n",
       "566  Job_056         6      M5              47\n",
       "567  Job_056         7      M3              52\n",
       "568  Job_056         8      M4              90\n",
       "569  Job_056         9      M7              45\n",
       "\n",
       "[570 rows x 4 columns]"
      ]
     },
     "execution_count": 20,
     "metadata": {},
     "output_type": "execute_result"
    }
   ],
   "source": [
    "# I)\n",
    "df_jssp_curr, df_times_curr = rp_proced.filter_jobs_by_arrival_window(df_times, df_jssp, day_start, planning_end)\n",
    "df_jssp_curr"
   ]
  },
  {
   "cell_type": "code",
   "execution_count": 21,
   "id": "618b5c92-4dac-413d-8d79-9288e5429b0a",
   "metadata": {},
   "outputs": [
    {
     "data": {
      "text/html": [
       "<div>\n",
       "<style scoped>\n",
       "    .dataframe tbody tr th:only-of-type {\n",
       "        vertical-align: middle;\n",
       "    }\n",
       "\n",
       "    .dataframe tbody tr th {\n",
       "        vertical-align: top;\n",
       "    }\n",
       "\n",
       "    .dataframe thead th {\n",
       "        text-align: right;\n",
       "    }\n",
       "</style>\n",
       "<table border=\"1\" class=\"dataframe\">\n",
       "  <thead>\n",
       "    <tr style=\"text-align: right;\">\n",
       "      <th></th>\n",
       "      <th>Job</th>\n",
       "      <th>Arrival</th>\n",
       "      <th>Deadline</th>\n",
       "    </tr>\n",
       "  </thead>\n",
       "  <tbody>\n",
       "    <tr>\n",
       "      <th>0</th>\n",
       "      <td>Job_000</td>\n",
       "      <td>0.00</td>\n",
       "      <td>1514.907421</td>\n",
       "    </tr>\n",
       "    <tr>\n",
       "      <th>1</th>\n",
       "      <td>Job_001</td>\n",
       "      <td>88.05</td>\n",
       "      <td>2044.006416</td>\n",
       "    </tr>\n",
       "    <tr>\n",
       "      <th>2</th>\n",
       "      <td>Job_002</td>\n",
       "      <td>152.78</td>\n",
       "      <td>2331.178519</td>\n",
       "    </tr>\n",
       "    <tr>\n",
       "      <th>3</th>\n",
       "      <td>Job_003</td>\n",
       "      <td>207.97</td>\n",
       "      <td>2720.031672</td>\n",
       "    </tr>\n",
       "    <tr>\n",
       "      <th>4</th>\n",
       "      <td>Job_004</td>\n",
       "      <td>246.61</td>\n",
       "      <td>1753.847003</td>\n",
       "    </tr>\n",
       "    <tr>\n",
       "      <th>...</th>\n",
       "      <td>...</td>\n",
       "      <td>...</td>\n",
       "      <td>...</td>\n",
       "    </tr>\n",
       "    <tr>\n",
       "      <th>52</th>\n",
       "      <td>Job_052</td>\n",
       "      <td>4070.89</td>\n",
       "      <td>6582.951672</td>\n",
       "    </tr>\n",
       "    <tr>\n",
       "      <th>53</th>\n",
       "      <td>Job_053</td>\n",
       "      <td>4077.28</td>\n",
       "      <td>5584.517003</td>\n",
       "    </tr>\n",
       "    <tr>\n",
       "      <th>54</th>\n",
       "      <td>Job_054</td>\n",
       "      <td>4078.72</td>\n",
       "      <td>6257.118519</td>\n",
       "    </tr>\n",
       "    <tr>\n",
       "      <th>55</th>\n",
       "      <td>Job_055</td>\n",
       "      <td>4204.04</td>\n",
       "      <td>5718.947421</td>\n",
       "    </tr>\n",
       "    <tr>\n",
       "      <th>56</th>\n",
       "      <td>Job_056</td>\n",
       "      <td>4309.61</td>\n",
       "      <td>6380.622676</td>\n",
       "    </tr>\n",
       "  </tbody>\n",
       "</table>\n",
       "<p>57 rows × 3 columns</p>\n",
       "</div>"
      ],
      "text/plain": [
       "        Job  Arrival     Deadline\n",
       "0   Job_000     0.00  1514.907421\n",
       "1   Job_001    88.05  2044.006416\n",
       "2   Job_002   152.78  2331.178519\n",
       "3   Job_003   207.97  2720.031672\n",
       "4   Job_004   246.61  1753.847003\n",
       "..      ...      ...          ...\n",
       "52  Job_052  4070.89  6582.951672\n",
       "53  Job_053  4077.28  5584.517003\n",
       "54  Job_054  4078.72  6257.118519\n",
       "55  Job_055  4204.04  5718.947421\n",
       "56  Job_056  4309.61  6380.622676\n",
       "\n",
       "[57 rows x 3 columns]"
      ]
     },
     "execution_count": 21,
     "metadata": {},
     "output_type": "execute_result"
    }
   ],
   "source": [
    "df_times_curr "
   ]
  },
  {
   "cell_type": "markdown",
   "id": "0c64c65f-8a4a-4716-a645-14864a162cee",
   "metadata": {},
   "source": [
    "### Jobs vorziehen"
   ]
  },
  {
   "cell_type": "code",
   "execution_count": 23,
   "id": "aff57b4a-0456-456c-ab86-1945c93ee55a",
   "metadata": {},
   "outputs": [
    {
     "data": {
      "text/html": [
       "<div>\n",
       "<style scoped>\n",
       "    .dataframe tbody tr th:only-of-type {\n",
       "        vertical-align: middle;\n",
       "    }\n",
       "\n",
       "    .dataframe tbody tr th {\n",
       "        vertical-align: top;\n",
       "    }\n",
       "\n",
       "    .dataframe thead th {\n",
       "        text-align: right;\n",
       "    }\n",
       "</style>\n",
       "<table border=\"1\" class=\"dataframe\">\n",
       "  <thead>\n",
       "    <tr style=\"text-align: right;\">\n",
       "      <th></th>\n",
       "      <th>Job</th>\n",
       "      <th>Arrival</th>\n",
       "      <th>Deadline</th>\n",
       "    </tr>\n",
       "  </thead>\n",
       "  <tbody>\n",
       "    <tr>\n",
       "      <th>128</th>\n",
       "      <td>Job_128</td>\n",
       "      <td>9830.89</td>\n",
       "      <td>12342.951672</td>\n",
       "    </tr>\n",
       "    <tr>\n",
       "      <th>119</th>\n",
       "      <td>Job_119</td>\n",
       "      <td>8959.39</td>\n",
       "      <td>10861.653495</td>\n",
       "    </tr>\n",
       "  </tbody>\n",
       "</table>\n",
       "</div>"
      ],
      "text/plain": [
       "         Job  Arrival      Deadline\n",
       "128  Job_128  9830.89  12342.951672\n",
       "119  Job_119  8959.39  10861.653495"
      ]
     },
     "execution_count": 23,
     "metadata": {},
     "output_type": "execute_result"
    }
   ],
   "source": [
    "# Test\n",
    "df_jssp_beforehand, df_times_beforehand = rp_init.sample_jobs_with_times_after_arrivaltime(df_jssp, df_times, \n",
    "                                                                             min_arrival_time=planning_end,\n",
    "                                                                             n=2, random_state=123)\n",
    "df_times_beforehand"
   ]
  },
  {
   "cell_type": "code",
   "execution_count": 24,
   "id": "cafcbb8a-f814-452c-9a62-5ab99f906118",
   "metadata": {},
   "outputs": [
    {
     "data": {
      "text/html": [
       "<div>\n",
       "<style scoped>\n",
       "    .dataframe tbody tr th:only-of-type {\n",
       "        vertical-align: middle;\n",
       "    }\n",
       "\n",
       "    .dataframe tbody tr th {\n",
       "        vertical-align: top;\n",
       "    }\n",
       "\n",
       "    .dataframe thead th {\n",
       "        text-align: right;\n",
       "    }\n",
       "</style>\n",
       "<table border=\"1\" class=\"dataframe\">\n",
       "  <thead>\n",
       "    <tr style=\"text-align: right;\">\n",
       "      <th></th>\n",
       "      <th>Job</th>\n",
       "      <th>Arrival</th>\n",
       "      <th>Deadline</th>\n",
       "    </tr>\n",
       "  </thead>\n",
       "  <tbody>\n",
       "    <tr>\n",
       "      <th>0</th>\n",
       "      <td>Job_000</td>\n",
       "      <td>0.00</td>\n",
       "      <td>1514.907421</td>\n",
       "    </tr>\n",
       "    <tr>\n",
       "      <th>1</th>\n",
       "      <td>Job_001</td>\n",
       "      <td>88.05</td>\n",
       "      <td>2044.006416</td>\n",
       "    </tr>\n",
       "    <tr>\n",
       "      <th>2</th>\n",
       "      <td>Job_002</td>\n",
       "      <td>152.78</td>\n",
       "      <td>2331.178519</td>\n",
       "    </tr>\n",
       "    <tr>\n",
       "      <th>3</th>\n",
       "      <td>Job_003</td>\n",
       "      <td>207.97</td>\n",
       "      <td>2720.031672</td>\n",
       "    </tr>\n",
       "    <tr>\n",
       "      <th>4</th>\n",
       "      <td>Job_004</td>\n",
       "      <td>246.61</td>\n",
       "      <td>1753.847003</td>\n",
       "    </tr>\n",
       "    <tr>\n",
       "      <th>...</th>\n",
       "      <td>...</td>\n",
       "      <td>...</td>\n",
       "      <td>...</td>\n",
       "    </tr>\n",
       "    <tr>\n",
       "      <th>55</th>\n",
       "      <td>Job_055</td>\n",
       "      <td>4204.04</td>\n",
       "      <td>5718.947421</td>\n",
       "    </tr>\n",
       "    <tr>\n",
       "      <th>56</th>\n",
       "      <td>Job_056</td>\n",
       "      <td>4309.61</td>\n",
       "      <td>6380.622676</td>\n",
       "    </tr>\n",
       "    <tr>\n",
       "      <th>57</th>\n",
       "      <td>Job_086</td>\n",
       "      <td>6651.94</td>\n",
       "      <td>8719.117468</td>\n",
       "    </tr>\n",
       "    <tr>\n",
       "      <th>58</th>\n",
       "      <td>Job_150</td>\n",
       "      <td>11404.04</td>\n",
       "      <td>12918.947421</td>\n",
       "    </tr>\n",
       "    <tr>\n",
       "      <th>59</th>\n",
       "      <td>Job_103</td>\n",
       "      <td>7948.04</td>\n",
       "      <td>10237.659570</td>\n",
       "    </tr>\n",
       "  </tbody>\n",
       "</table>\n",
       "<p>60 rows × 3 columns</p>\n",
       "</div>"
      ],
      "text/plain": [
       "        Job   Arrival      Deadline\n",
       "0   Job_000      0.00   1514.907421\n",
       "1   Job_001     88.05   2044.006416\n",
       "2   Job_002    152.78   2331.178519\n",
       "3   Job_003    207.97   2720.031672\n",
       "4   Job_004    246.61   1753.847003\n",
       "..      ...       ...           ...\n",
       "55  Job_055   4204.04   5718.947421\n",
       "56  Job_056   4309.61   6380.622676\n",
       "57  Job_086   6651.94   8719.117468\n",
       "58  Job_150  11404.04  12918.947421\n",
       "59  Job_103   7948.04  10237.659570\n",
       "\n",
       "[60 rows x 3 columns]"
      ]
     },
     "execution_count": 24,
     "metadata": {},
     "output_type": "execute_result"
    }
   ],
   "source": [
    "df_jssp_curr, df_times_curr = rp_init.add_beforehand_jobs_to_current_horizon(\n",
    "    df_existing_jobs = df_jssp_curr,\n",
    "    df_existing_times = df_times_curr,\n",
    "    df_jssp = df_jssp,\n",
    "    df_times = df_times,\n",
    "    min_arrival_time = planning_end,\n",
    "    n=3,\n",
    "    random_state=23\n",
    ")\n",
    "df_times_curr"
   ]
  },
  {
   "cell_type": "markdown",
   "id": "acb40320-fbed-4ed3-b72e-792b63bbf677",
   "metadata": {},
   "source": [
    "### Scheduling"
   ]
  },
  {
   "cell_type": "code",
   "execution_count": null,
   "id": "1cffa78f-6338-41de-a512-ad1c7c320435",
   "metadata": {},
   "outputs": [],
   "source": [
    "info_time =  time.time()\n",
    "df_plan = ssv_t.solve_jssp_sum_tardiness(df_jssp_curr, df_times_curr , solver_time_limit=solver_limit, threads = 8)\n",
    "print(f\"Dauer {(time.time() - info_time):.4f} Sekunden.\")\n",
    "df_plan"
   ]
  },
  {
   "cell_type": "code",
   "execution_count": null,
   "id": "cad25c59-fb93-453f-9e9c-39444bcbec62",
   "metadata": {},
   "outputs": [],
   "source": [
    "df_plan.to_csv(get_schedule_filename(day=day_numb), index = False)"
   ]
  },
  {
   "cell_type": "code",
   "execution_count": null,
   "id": "58ea642c-b6fd-42b7-8d35-9dd13516d89c",
   "metadata": {},
   "outputs": [],
   "source": [
    "show.plot_gantt_machines(df_plan)\n",
    "check.check_all_constraints(df_plan)"
   ]
  },
  {
   "cell_type": "code",
   "execution_count": null,
   "id": "d71dfb82-d5ce-45ee-96bb-2ed632af4686",
   "metadata": {},
   "outputs": [],
   "source": [
    "show.plot_gantt_jobs(df_plan)"
   ]
  },
  {
   "cell_type": "markdown",
   "id": "74045712-cbfb-405d-a016-9a34e3580786",
   "metadata": {},
   "source": [
    "### Simulation"
   ]
  },
  {
   "cell_type": "code",
   "execution_count": null,
   "id": "d143c490-2acb-4d72-9262-da999d6a1cd3",
   "metadata": {
    "scrolled": true
   },
   "outputs": [],
   "source": [
    "simulation = ProductionDaySimulation(df_plan, vc=0.35)\n",
    "df_execution, df_undone = simulation.run(start_time = day_start, end_time=day_end)"
   ]
  },
  {
   "cell_type": "code",
   "execution_count": null,
   "id": "2c237719-0575-491c-8d60-e8d8a22b7ff2",
   "metadata": {},
   "outputs": [],
   "source": [
    "if not df_execution.empty:\n",
    "    show.plot_gantt_machines(df_execution, duration_column=\"Simulated Processing Time\")\n",
    "else:\n",
    "    print(f\"Nothing executed on day {day_numb}\")"
   ]
  },
  {
   "cell_type": "code",
   "execution_count": null,
   "id": "e6436f10-5a95-4895-b1d3-f70a43003a16",
   "metadata": {},
   "outputs": [],
   "source": [
    "df_execution"
   ]
  },
  {
   "cell_type": "code",
   "execution_count": null,
   "id": "d02f2a1c-cb20-406b-a8eb-58a31852c037",
   "metadata": {},
   "outputs": [],
   "source": [
    "df_undone"
   ]
  },
  {
   "cell_type": "code",
   "execution_count": null,
   "id": "1275bb7f-b751-4959-86c0-a4b66000f208",
   "metadata": {},
   "outputs": [],
   "source": [
    "-"
   ]
  },
  {
   "cell_type": "markdown",
   "id": "28a724b8-2eab-4532-a2da-aab652ddac60",
   "metadata": {},
   "source": [
    "## Day 1"
   ]
  },
  {
   "cell_type": "code",
   "execution_count": null,
   "id": "49c90027-713b-49f3-9df6-aba67cc880f4",
   "metadata": {},
   "outputs": [],
   "source": [
    "day_numb = 1\n",
    "\n",
    "day_start = day_length*day_numb                      # 1440\n",
    "day_end = day_start + day_length                     # 2880\n",
    "planning_end =  day_start + horizon_days*day_length  # 5760"
   ]
  },
  {
   "cell_type": "code",
   "execution_count": null,
   "id": "aa1ce073-4398-4913-b7b9-2f87acef656a",
   "metadata": {},
   "outputs": [],
   "source": [
    "# I)\n",
    "df_jssp_curr, df_times_curr = rp_proced.filter_jobs_by_arrival_window(df_times, df_jssp, day_start, planning_end)\n",
    "df_jssp_curr"
   ]
  },
  {
   "cell_type": "code",
   "execution_count": null,
   "id": "feedbc71-d096-49fe-83eb-6f448d32febd",
   "metadata": {},
   "outputs": [],
   "source": [
    "# evtl. nicht gestarte Operationen ergänzen\n",
    "df_jssp_curr = rp_proced.extend_with_undone_operations(df_jssp_curr, df_undone)\n",
    "df_jssp_curr"
   ]
  },
  {
   "cell_type": "code",
   "execution_count": null,
   "id": "7b670f42-f330-4d56-973b-67a1973fd043",
   "metadata": {},
   "outputs": [],
   "source": [
    "df_times_curr = rp_proced.update_times_after_operation_changes(df_times, df_jssp_curr)\n",
    "df_times_curr"
   ]
  },
  {
   "cell_type": "code",
   "execution_count": null,
   "id": "eb15aa8e-73e1-4675-89b6-f3cc06bf467f",
   "metadata": {},
   "outputs": [],
   "source": [
    "# zusätzliche Jobs (vorzeitig)\n",
    "df_jssp_curr, df_times_curr = rp_init.add_beforehand_jobs_to_current_horizon(\n",
    "    df_existing_jobs = df_jssp_curr,\n",
    "    df_existing_times = df_times_curr,\n",
    "    df_jssp = df_jssp,\n",
    "    df_times = df_times,\n",
    "    min_arrival_time = planning_end,\n",
    "    n=3,\n",
    "    random_state=23\n",
    ")\n",
    "df_times_curr"
   ]
  },
  {
   "cell_type": "code",
   "execution_count": null,
   "id": "267ed666-7b10-47e5-8a05-faf107ef21b1",
   "metadata": {},
   "outputs": [],
   "source": [
    "# relevante Bedingungen aus der Simulation\n",
    "df_execution_important = rp_proced.get_operations_running_into_day(df_execution, day_start)\n",
    "df_execution_important"
   ]
  },
  {
   "cell_type": "markdown",
   "id": "59c9a9a0-5640-47ce-8b55-30bad0f30431",
   "metadata": {},
   "source": [
    "### Rescheduling"
   ]
  },
  {
   "cell_type": "markdown",
   "id": "17e87fae-1c50-421e-9567-f97de4a77a2b",
   "metadata": {},
   "source": [
    "#### a) r = 0.8"
   ]
  },
  {
   "cell_type": "code",
   "execution_count": null,
   "id": "7ac2c5d3-9fef-4420-86c5-dc528051aaeb",
   "metadata": {},
   "outputs": [],
   "source": [
    "this_r = 0.8 # 80 % Effizienz, 20 % Stabilität"
   ]
  },
  {
   "cell_type": "code",
   "execution_count": null,
   "id": "596c6fcc-44d6-4146-b1a5-42ac2f4a6c9f",
   "metadata": {},
   "outputs": [],
   "source": [
    "\"\"\"\n",
    "df_reschedule = rssv_a.solve_jssp_bi_criteria_sum_tardiness_deviation_with_fixed_ops(\n",
    "    df_jssp = df_jssp_curr,\n",
    "    df_arrivals = df_times_curr,\n",
    "    df_executed=df_execution_important,\n",
    "    df_original_plan=df_plan,\n",
    "    r = this_r, \n",
    "    solver_time_limit = solver_limit,\n",
    "    reschedule_start = day_start,\n",
    "    threads = 8\n",
    ")\n",
    "df_reschedule.to_csv(get_schedule_filename(day=day_numb, suffix=f\"r{this_r:.3f}\"), index = False)\n",
    "\"\"\""
   ]
  },
  {
   "cell_type": "markdown",
   "id": "8683bfc9-222c-4b7c-b7bc-d626561603c6",
   "metadata": {},
   "source": [
    "#### r = 0.4"
   ]
  },
  {
   "cell_type": "code",
   "execution_count": null,
   "id": "1c979766-b9c3-441a-9350-c163848663a5",
   "metadata": {},
   "outputs": [],
   "source": [
    "this_r = 0.4 # 40 % Effizienz, 60 % Stabilität\n",
    "\n",
    "df_plan = rssv_a.solve_jssp_bi_criteria_sum_tardiness_deviation_with_fixed_ops(\n",
    "    df_jssp = df_jssp_curr,\n",
    "    df_arrivals = df_times_curr,\n",
    "    df_executed=df_execution_important,\n",
    "    df_original_plan=df_plan,\n",
    "    r = this_r, \n",
    "    solver_time_limit = solver_limit,\n",
    "    reschedule_start = day_start,\n",
    "    threads = 8\n",
    ")\n",
    "df_plan"
   ]
  },
  {
   "cell_type": "code",
   "execution_count": null,
   "id": "b4324980-3651-4cb7-a8ee-79867bc8b391",
   "metadata": {},
   "outputs": [],
   "source": [
    "show.plot_gantt_machines(df_plan, title = f\"Gantt-Diagramm ab Tag {day_numb}\")\n",
    "check.check_all_constraints(df_plan)"
   ]
  },
  {
   "cell_type": "code",
   "execution_count": null,
   "id": "ed80fb2e-3d10-4d37-a30d-5c0c8ccc1c24",
   "metadata": {},
   "outputs": [],
   "source": [
    "df_reschedule.to_csv(get_schedule_filename(day=day_numb), index = False)"
   ]
  },
  {
   "cell_type": "code",
   "execution_count": null,
   "id": "fd712b3e-da49-4194-94fa-75fc1aaaba8b",
   "metadata": {},
   "outputs": [],
   "source": [
    "df_plan = df_reschedule"
   ]
  },
  {
   "cell_type": "markdown",
   "id": "6321b181-5967-491a-a168-093213a6de18",
   "metadata": {},
   "source": [
    "### Simulation"
   ]
  },
  {
   "cell_type": "code",
   "execution_count": null,
   "id": "080e7114-3c32-4636-ad52-8a667f93a341",
   "metadata": {},
   "outputs": [],
   "source": [
    "simulation = ProductionDaySimulation(df_plan, vc=0.35)\n",
    "df_execution, df_undone = simulation.run(start_time = day_start, end_time=day_end)"
   ]
  },
  {
   "cell_type": "code",
   "execution_count": null,
   "id": "48076a32-06b7-4118-814c-7103e5004db4",
   "metadata": {},
   "outputs": [],
   "source": [
    "if not df_execution.empty:\n",
    "    show.plot_gantt_machines(df_execution, duration_column=\"Simulated Processing Time\")\n",
    "else:\n",
    "    print(f\"Nothing executed on day {day_numb}\")"
   ]
  },
  {
   "cell_type": "code",
   "execution_count": null,
   "id": "dfc1f687-5905-43ef-bb9c-fd4a0795a2aa",
   "metadata": {},
   "outputs": [],
   "source": [
    "df_undone"
   ]
  },
  {
   "cell_type": "code",
   "execution_count": null,
   "id": "33aff0b6-c2e1-414f-ac6a-85c7cdb8adf6",
   "metadata": {},
   "outputs": [],
   "source": [
    "-"
   ]
  },
  {
   "cell_type": "markdown",
   "id": "5c26ba37-d93f-4911-9542-cae22388f85b",
   "metadata": {},
   "source": [
    "## Day 2-5"
   ]
  },
  {
   "cell_type": "code",
   "execution_count": null,
   "id": "e4519f7f-e4fd-4518-bf69-c2ab37f81af8",
   "metadata": {},
   "outputs": [],
   "source": [
    "last_planning_start = 5\n",
    "\n",
    "for day_numb in range(2, last_planning_start + 1):  # Schleife von 2 bis 5\n",
    "    day_start = day_length*day_numb                     \n",
    "    day_end = day_start + day_length                 \n",
    "    planning_end =  day_start + horizon_days*day_length\n",
    "    \n",
    "    # Ia aktuelles Ankunftszeitfenster\n",
    "    df_jssp_curr, df_times_curr = rp_proced.filter_jobs_by_arrival_window(df_times, df_jssp, day_start, planning_end)\n",
    "\n",
    "    # Ib Operation ergänzen, die zuvor bekannt und nicht abgeschlossen (aber evtl. nicht aktuellen Zeitfenster) \n",
    "    df_jssp_curr = rp_proced.extend_with_undone_operations(df_jssp_curr, df_undone)\n",
    "\n",
    "    # Ic Zeiten-Dataframe aktualisieren (wegen Ib)\n",
    "    df_times_curr = rp_proced.update_times_after_operation_changes(df_times, df_jssp_curr)\n",
    "\n",
    "\n",
    "    # II drei zusätzliche Jobs (vorzeitig)\n",
    "    df_jssp_curr, df_times_curr = rp_init.add_beforehand_jobs_to_current_horizon(\n",
    "        df_existing_jobs = df_jssp_curr,\n",
    "        df_existing_times = df_times_curr,\n",
    "        df_jssp = df_jssp,\n",
    "        df_times = df_times,\n",
    "        min_arrival_time = planning_end,\n",
    "        n=3,\n",
    "        random_state=23\n",
    "    )\n",
    "\n",
    "    # III relevante Bedingungen aus der Simulation (Operationen, die in aktuellen Planunghorizont hineinlaufen)\n",
    "    df_execution_important = rp_proced.get_operations_running_into_day(df_execution, day_start)\n",
    "\n",
    "    # Rescheduling\n",
    "    this_r = 0.4   # 40 % Effizienz, 60 % Stabilität\n",
    "\n",
    "    df_plan = rssv_a.solve_jssp_bi_criteria_flowtime_deviation_with_fixed_ops(\n",
    "        df_jssp = df_jssp_curr,\n",
    "        df_arrivals = df_times_curr,\n",
    "        df_executed=df_execution_important,\n",
    "        df_original_plan=df_plan,\n",
    "        r = this_r, \n",
    "        solver_time_limit = solver_limit,\n",
    "        reschedule_start = day_start,\n",
    "        threads = 8\n",
    "    )\n",
    "    df_plan.to_csv(get_schedule_filename(day=day_numb), index = False)\n",
    "\n",
    "    show.plot_gantt_machines(df_plan, title = f\"Gantt-Diagramm ab Tag {day_numb}\")\n",
    "    check.check_all_constraints(df_plan)\n",
    "\n",
    "    # Simulation (ein Tag)\n",
    "    simulation = ProductionDaySimulation(df_plan, vc=0.35)\n",
    "    df_execution, df_undone = simulation.run(start_time = day_start, end_time=day_end)\n",
    "    show.plot_gantt_machines(df_execution, \n",
    "                             title = f\"Gantt-Diagramm für Simulationstag {day_numb}\",\n",
    "                             duration_column = \"Simulated Processing Time\")"
   ]
  }
 ],
 "metadata": {
  "kernelspec": {
   "display_name": "Python [conda env:base] *",
   "language": "python",
   "name": "conda-base-py"
  },
  "language_info": {
   "codemirror_mode": {
    "name": "ipython",
    "version": 3
   },
   "file_extension": ".py",
   "mimetype": "text/x-python",
   "name": "python",
   "nbconvert_exporter": "python",
   "pygments_lexer": "ipython3",
   "version": "3.12.9"
  }
 },
 "nbformat": 4,
 "nbformat_minor": 5
}
