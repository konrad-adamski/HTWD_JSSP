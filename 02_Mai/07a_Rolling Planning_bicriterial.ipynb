{
 "cells": [
  {
   "cell_type": "markdown",
   "id": "a6b85b74-3384-48d9-8e49-6ef93d70cabd",
   "metadata": {},
   "source": [
    "# Rolling Planning mit Summe-Tardiness"
   ]
  },
  {
   "cell_type": "code",
   "execution_count": 13,
   "id": "cc26f0fd-3500-4671-bed6-7f647dd339d2",
   "metadata": {},
   "outputs": [],
   "source": [
    "import json\n",
    "import pandas as pd\n",
    "pd.set_option('display.max_rows', 40)\n",
    "\n",
    "import utils.rolling_planning.rescheduling as reschedul"
   ]
  },
  {
   "cell_type": "markdown",
   "id": "4a2efeac-1d48-4450-b4f4-319e39d541a9",
   "metadata": {},
   "source": [
    "## Laden der Initialisierungsdaten"
   ]
  },
  {
   "cell_type": "code",
   "execution_count": null,
   "id": "816c99dc-550f-4e79-a739-c38fae12f3b5",
   "metadata": {},
   "outputs": [],
   "source": [
    "df_jssp = pd.read_csv(\"data/07_tardiness_init_jssp.csv\")\n",
    "df_times = pd.read_csv(\"data/07_tardiness_init_times.csv\")"
   ]
  },
  {
   "cell_type": "markdown",
   "id": "332781d3-bbcf-4a18-8ecb-16db5fa2f277",
   "metadata": {},
   "source": [
    "### Tag 0 "
   ]
  },
  {
   "cell_type": "code",
   "execution_count": null,
   "id": "621f9dd0-9048-41f5-a25a-4dcee5ab1ebc",
   "metadata": {},
   "outputs": [],
   "source": [
    "df_plan = pd.read_csv(\"data/07_tardiness_init_plan.csv\")\n",
    "df_execution = pd.read_csv(\"data/07_tardiness_init_execution.csv\")\n",
    "df_undone = pd.read_csv(\"data/07_tardiness_init_undone.csv\")"
   ]
  },
  {
   "cell_type": "markdown",
   "id": "e4566546-29f6-4a3c-b6f2-c16ac9abb4d4",
   "metadata": {},
   "source": [
    "## Settings"
   ]
  },
  {
   "cell_type": "code",
   "execution_count": 10,
   "id": "04270671-2a82-4b39-980d-159ade1e92ae",
   "metadata": {},
   "outputs": [
    {
     "data": {
      "text/plain": [
       "14400"
      ]
     },
     "execution_count": 10,
     "metadata": {},
     "output_type": "execute_result"
    }
   ],
   "source": [
    "solver_limit = 60*60*4 # 4 h\n",
    "solver_limit\n",
    "\n",
    "notebook_prefix = \"07a\""
   ]
  },
  {
   "cell_type": "markdown",
   "id": "cc48756a-ebda-4fcc-945e-3eaa3dd4b269",
   "metadata": {},
   "source": [
    "## Params"
   ]
  },
  {
   "cell_type": "code",
   "execution_count": 12,
   "id": "8c43f361-7e63-413b-b2c7-83c6191fb349",
   "metadata": {},
   "outputs": [],
   "source": [
    "# fix\n",
    "day_length = 1440\n",
    "horizon_days = 3"
   ]
  },
  {
   "cell_type": "markdown",
   "id": "5c26ba37-d93f-4911-9542-cae22388f85b",
   "metadata": {},
   "source": [
    "## Rescheduling für Tage 1-4"
   ]
  },
  {
   "cell_type": "code",
   "execution_count": null,
   "id": "6769b96a-145e-44a4-b41e-b1257352ddf5",
   "metadata": {},
   "outputs": [],
   "source": [
    "reschedul.run_multi_day_rescheduling(first_start=1, last_planning_start=4,\n",
    "                                     day_length=day_length, horizon_days=horizon_days,\n",
    "                                     df_times=df_times, df_jssp=df_jssp,\n",
    "                                     df_execution=df_execution, df_undone=df_undone,\n",
    "                                     df_plan=df_plan,\n",
    "                                     notebook_prefix=notebook_prefix,\n",
    "                                     rescheduler=\"bi_criteria_sum_tardiness_deviation\",\n",
    "                                     solver_limit=solver_limit,\n",
    "                                     plot_results=True, this_r=0.3\n",
    ")\n"
   ]
  }
 ],
 "metadata": {
  "kernelspec": {
   "display_name": "Python [conda env:base] *",
   "language": "python",
   "name": "conda-base-py"
  },
  "language_info": {
   "codemirror_mode": {
    "name": "ipython",
    "version": 3
   },
   "file_extension": ".py",
   "mimetype": "text/x-python",
   "name": "python",
   "nbconvert_exporter": "python",
   "pygments_lexer": "ipython3",
   "version": "3.12.9"
  }
 },
 "nbformat": 4,
 "nbformat_minor": 5
}
