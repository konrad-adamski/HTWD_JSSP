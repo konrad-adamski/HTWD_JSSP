{
 "cells": [
  {
   "cell_type": "code",
   "execution_count": 1,
   "id": "02c28acb-1027-4137-95c0-6d4fcc9b1953",
   "metadata": {},
   "outputs": [],
   "source": [
    "import json\n",
    "import pandas as pd\n",
    "\n",
    "from utils.plotter import plot_gantt_jobs\n",
    "from utils.plotter import plot_gantt_machines\n",
    "from utils.simple_priority_heuristics import schedule_spt\n",
    "\n",
    "from utils.checker import check_machine_conflicts\n",
    "from utils.checker import check_job_machine_sequence\n",
    "from utils.checker import check_job_machine_sequence_dict"
   ]
  },
  {
   "cell_type": "code",
   "execution_count": 2,
   "id": "9ab6cd0c-debe-4eea-a1b4-b6ef8dbf6654",
   "metadata": {},
   "outputs": [],
   "source": [
    "import numpy as np\n",
    "import random"
   ]
  },
  {
   "cell_type": "code",
   "execution_count": 3,
   "id": "996d89bc-b210-41d8-bd64-0014cbd5bfa1",
   "metadata": {},
   "outputs": [
    {
     "name": "stdout",
     "output_type": "stream",
     "text": [
      "job 0:\t[[0, 29], [1, 78], [2, 9], [3, 36], [4, 49], [5, 11], [6, 62], [7, 56], [8, 44], [9, 21]]\n",
      "job 1:\t[[0, 43], [2, 90], [4, 75], [9, 11], [3, 69], [1, 28], [6, 46], [5, 46], [7, 72], [8, 30]]\n",
      "job 2:\t[[1, 91], [0, 85], [3, 39], [2, 74], [8, 90], [5, 10], [7, 12], [6, 89], [9, 45], [4, 33]]\n",
      "job 3:\t[[1, 81], [2, 95], [0, 71], [4, 99], [6, 9], [8, 52], [7, 85], [3, 98], [9, 22], [5, 43]]\n",
      "job 4:\t[[2, 14], [0, 6], [1, 22], [5, 61], [3, 26], [4, 69], [8, 21], [7, 49], [9, 72], [6, 53]]\n",
      "job 5:\t[[2, 84], [1, 2], [5, 52], [3, 95], [8, 48], [9, 72], [0, 47], [6, 65], [4, 6], [7, 25]]\n",
      "job 6:\t[[1, 46], [0, 37], [3, 61], [2, 13], [6, 32], [5, 21], [9, 32], [8, 89], [7, 30], [4, 55]]\n",
      "job 7:\t[[2, 31], [0, 86], [1, 46], [5, 74], [4, 32], [6, 88], [8, 19], [9, 48], [7, 36], [3, 79]]\n",
      "job 8:\t[[0, 76], [1, 69], [3, 76], [5, 51], [2, 85], [9, 11], [6, 40], [7, 89], [4, 26], [8, 74]]\n",
      "job 9:\t[[1, 85], [0, 13], [2, 61], [6, 7], [8, 64], [9, 76], [5, 47], [3, 52], [4, 90], [7, 45]]\n"
     ]
    }
   ],
   "source": [
    "# Datei laden\n",
    "with open(\"data/jobshop_instances_named.json\", \"r\", encoding=\"utf-8\") as f:\n",
    "    jobshop_instances = json.load(f)\n",
    "\n",
    "instance =  jobshop_instances[\"instance ft10\"]\n",
    "for job_name in sorted(instance, key=lambda x: int(x.split()[1])):\n",
    "    ops = instance[job_name]\n",
    "    print(f\"{job_name}:\\t{ops}\")"
   ]
  },
  {
   "cell_type": "code",
   "execution_count": 4,
   "id": "fb0bb4d5-7b79-4577-b0db-864336c2d20a",
   "metadata": {},
   "outputs": [
    {
     "name": "stdout",
     "output_type": "stream",
     "text": [
      "\n",
      "--- Jobset 0 ---\n",
      "Job 00_0:\t[[0, 29], [1, 78], [2, 9], [3, 36], [4, 49], [5, 11], [6, 62], [7, 56], [8, 44], [9, 21]]\n",
      "Job 00_1:\t[[0, 43], [2, 90], [4, 75], [9, 11], [3, 69], [1, 28], [6, 46], [5, 46], [7, 72], [8, 30]]\n",
      "Job 00_2:\t[[1, 91], [0, 85], [3, 39], [2, 74], [8, 90], [5, 10], [7, 12], [6, 89], [9, 45], [4, 33]]\n",
      "Job 00_3:\t[[1, 81], [2, 95], [0, 71], [4, 99], [6, 9], [8, 52], [7, 85], [3, 98], [9, 22], [5, 43]]\n",
      "Job 00_4:\t[[2, 14], [0, 6], [1, 22], [5, 61], [3, 26], [4, 69], [8, 21], [7, 49], [9, 72], [6, 53]]\n",
      "Job 00_5:\t[[2, 84], [1, 2], [5, 52], [3, 95], [8, 48], [9, 72], [0, 47], [6, 65], [4, 6], [7, 25]]\n",
      "Job 00_6:\t[[1, 46], [0, 37], [3, 61], [2, 13], [6, 32], [5, 21], [9, 32], [8, 89], [7, 30], [4, 55]]\n",
      "Job 00_7:\t[[2, 31], [0, 86], [1, 46], [5, 74], [4, 32], [6, 88], [8, 19], [9, 48], [7, 36], [3, 79]]\n",
      "Job 00_8:\t[[0, 76], [1, 69], [3, 76], [5, 51], [2, 85], [9, 11], [6, 40], [7, 89], [4, 26], [8, 74]]\n",
      "Job 00_9:\t[[1, 85], [0, 13], [2, 61], [6, 7], [8, 64], [9, 76], [5, 47], [3, 52], [4, 90], [7, 45]]\n",
      "\n",
      "--- Jobset 1 ---\n",
      "Job 01_0:\t[[0, 29], [1, 78], [2, 9], [3, 36], [4, 49], [5, 11], [6, 62], [7, 56], [8, 44], [9, 21]]\n",
      "Job 01_1:\t[[0, 43], [2, 90], [4, 75], [9, 11], [3, 69], [1, 28], [6, 46], [5, 46], [7, 72], [8, 30]]\n",
      "Job 01_2:\t[[1, 91], [0, 85], [3, 39], [2, 74], [8, 90], [5, 10], [7, 12], [6, 89], [9, 45], [4, 33]]\n",
      "Job 01_3:\t[[1, 81], [2, 95], [0, 71], [4, 99], [6, 9], [8, 52], [7, 85], [3, 98], [9, 22], [5, 43]]\n",
      "Job 01_4:\t[[2, 14], [0, 6], [1, 22], [5, 61], [3, 26], [4, 69], [8, 21], [7, 49], [9, 72], [6, 53]]\n",
      "Job 01_5:\t[[2, 84], [1, 2], [5, 52], [3, 95], [8, 48], [9, 72], [0, 47], [6, 65], [4, 6], [7, 25]]\n",
      "Job 01_6:\t[[1, 46], [0, 37], [3, 61], [2, 13], [6, 32], [5, 21], [9, 32], [8, 89], [7, 30], [4, 55]]\n",
      "Job 01_7:\t[[2, 31], [0, 86], [1, 46], [5, 74], [4, 32], [6, 88], [8, 19], [9, 48], [7, 36], [3, 79]]\n",
      "Job 01_8:\t[[0, 76], [1, 69], [3, 76], [5, 51], [2, 85], [9, 11], [6, 40], [7, 89], [4, 26], [8, 74]]\n",
      "Job 01_9:\t[[1, 85], [0, 13], [2, 61], [6, 7], [8, 64], [9, 76], [5, 47], [3, 52], [4, 90], [7, 45]]\n",
      "\n",
      "--- Jobset 2 ---\n",
      "Job 02_0:\t[[0, 29], [1, 78], [2, 9], [3, 36], [4, 49], [5, 11], [6, 62], [7, 56], [8, 44], [9, 21]]\n",
      "Job 02_1:\t[[0, 43], [2, 90], [4, 75], [9, 11], [3, 69], [1, 28], [6, 46], [5, 46], [7, 72], [8, 30]]\n",
      "Job 02_2:\t[[1, 91], [0, 85], [3, 39], [2, 74], [8, 90], [5, 10], [7, 12], [6, 89], [9, 45], [4, 33]]\n",
      "Job 02_3:\t[[1, 81], [2, 95], [0, 71], [4, 99], [6, 9], [8, 52], [7, 85], [3, 98], [9, 22], [5, 43]]\n",
      "Job 02_4:\t[[2, 14], [0, 6], [1, 22], [5, 61], [3, 26], [4, 69], [8, 21], [7, 49], [9, 72], [6, 53]]\n",
      "Job 02_5:\t[[2, 84], [1, 2], [5, 52], [3, 95], [8, 48], [9, 72], [0, 47], [6, 65], [4, 6], [7, 25]]\n",
      "Job 02_6:\t[[1, 46], [0, 37], [3, 61], [2, 13], [6, 32], [5, 21], [9, 32], [8, 89], [7, 30], [4, 55]]\n",
      "Job 02_7:\t[[2, 31], [0, 86], [1, 46], [5, 74], [4, 32], [6, 88], [8, 19], [9, 48], [7, 36], [3, 79]]\n",
      "Job 02_8:\t[[0, 76], [1, 69], [3, 76], [5, 51], [2, 85], [9, 11], [6, 40], [7, 89], [4, 26], [8, 74]]\n",
      "Job 02_9:\t[[1, 85], [0, 13], [2, 61], [6, 7], [8, 64], [9, 76], [5, 47], [3, 52], [4, 90], [7, 45]]\n",
      "\n",
      "--- Jobset 3 ---\n",
      "Job 03_0:\t[[0, 29], [1, 78], [2, 9], [3, 36], [4, 49], [5, 11], [6, 62], [7, 56], [8, 44], [9, 21]]\n",
      "Job 03_1:\t[[0, 43], [2, 90], [4, 75], [9, 11], [3, 69], [1, 28], [6, 46], [5, 46], [7, 72], [8, 30]]\n",
      "Job 03_2:\t[[1, 91], [0, 85], [3, 39], [2, 74], [8, 90], [5, 10], [7, 12], [6, 89], [9, 45], [4, 33]]\n",
      "Job 03_3:\t[[1, 81], [2, 95], [0, 71], [4, 99], [6, 9], [8, 52], [7, 85], [3, 98], [9, 22], [5, 43]]\n",
      "Job 03_4:\t[[2, 14], [0, 6], [1, 22], [5, 61], [3, 26], [4, 69], [8, 21], [7, 49], [9, 72], [6, 53]]\n",
      "Job 03_5:\t[[2, 84], [1, 2], [5, 52], [3, 95], [8, 48], [9, 72], [0, 47], [6, 65], [4, 6], [7, 25]]\n",
      "Job 03_6:\t[[1, 46], [0, 37], [3, 61], [2, 13], [6, 32], [5, 21], [9, 32], [8, 89], [7, 30], [4, 55]]\n",
      "Job 03_7:\t[[2, 31], [0, 86], [1, 46], [5, 74], [4, 32], [6, 88], [8, 19], [9, 48], [7, 36], [3, 79]]\n",
      "Job 03_8:\t[[0, 76], [1, 69], [3, 76], [5, 51], [2, 85], [9, 11], [6, 40], [7, 89], [4, 26], [8, 74]]\n",
      "Job 03_9:\t[[1, 85], [0, 13], [2, 61], [6, 7], [8, 64], [9, 76], [5, 47], [3, 52], [4, 90], [7, 45]]\n",
      "\n",
      "--- Jobset 4 ---\n",
      "Job 04_0:\t[[0, 29], [1, 78], [2, 9], [3, 36], [4, 49], [5, 11], [6, 62], [7, 56], [8, 44], [9, 21]]\n",
      "Job 04_1:\t[[0, 43], [2, 90], [4, 75], [9, 11], [3, 69], [1, 28], [6, 46], [5, 46], [7, 72], [8, 30]]\n",
      "Job 04_2:\t[[1, 91], [0, 85], [3, 39], [2, 74], [8, 90], [5, 10], [7, 12], [6, 89], [9, 45], [4, 33]]\n",
      "Job 04_3:\t[[1, 81], [2, 95], [0, 71], [4, 99], [6, 9], [8, 52], [7, 85], [3, 98], [9, 22], [5, 43]]\n",
      "Job 04_4:\t[[2, 14], [0, 6], [1, 22], [5, 61], [3, 26], [4, 69], [8, 21], [7, 49], [9, 72], [6, 53]]\n",
      "Job 04_5:\t[[2, 84], [1, 2], [5, 52], [3, 95], [8, 48], [9, 72], [0, 47], [6, 65], [4, 6], [7, 25]]\n",
      "Job 04_6:\t[[1, 46], [0, 37], [3, 61], [2, 13], [6, 32], [5, 21], [9, 32], [8, 89], [7, 30], [4, 55]]\n",
      "Job 04_7:\t[[2, 31], [0, 86], [1, 46], [5, 74], [4, 32], [6, 88], [8, 19], [9, 48], [7, 36], [3, 79]]\n",
      "Job 04_8:\t[[0, 76], [1, 69], [3, 76], [5, 51], [2, 85], [9, 11], [6, 40], [7, 89], [4, 26], [8, 74]]\n",
      "Job 04_9:\t[[1, 85], [0, 13], [2, 61], [6, 7], [8, 64], [9, 76], [5, 47], [3, 52], [4, 90], [7, 45]]\n"
     ]
    }
   ],
   "source": [
    "job_set_list = []\n",
    "\n",
    "# Alle Jobs sortieren\n",
    "sorted_job_names = sorted(instance, key=lambda x: int(x.split()[1]))\n",
    "\n",
    "# Erzeuge 5 vollständige Varianten der Instanz mit umbenannten Jobs\n",
    "for variant in range(5):\n",
    "    job_dict = {}\n",
    "    for original_index, job_name in enumerate(sorted_job_names):\n",
    "        new_name = f\"Job {variant:02d}_{original_index}\"  # z. B. job 00_0, job 01_4, ...\n",
    "        job_dict[new_name] = instance[job_name]\n",
    "    job_set_list.append(job_dict)\n",
    "\n",
    "# Beispielausgabe\n",
    "for idx, job_set in enumerate(job_set_list):\n",
    "    print(f\"\\n--- Jobset {idx} ---\")\n",
    "    for job_name, ops in job_set.items():\n",
    "        print(f\"{job_name}:\\t{ops}\")\n",
    "\n"
   ]
  },
  {
   "cell_type": "code",
   "execution_count": 5,
   "id": "26bde263-e6bb-4fd9-8bca-f76dd6a65bbc",
   "metadata": {},
   "outputs": [],
   "source": [
    "def get_all_machine_ids(job_shop_matrix):\n",
    "    machines = set()\n",
    "    for job in job_shop_matrix:\n",
    "        for operation in job:\n",
    "            machines.add(operation[0])\n",
    "    return machines"
   ]
  },
  {
   "cell_type": "code",
   "execution_count": 6,
   "id": "2510b9ae-408c-495e-988b-4aeb0eb68905",
   "metadata": {},
   "outputs": [
    {
     "name": "stdout",
     "output_type": "stream",
     "text": [
      "Job 00_0:\t[[0, 29], [1, 78], [2, 9], [3, 36], [4, 49], [5, 11], [6, 62], [7, 56], [8, 44], [9, 21]]\n",
      "Job 00_1:\t[[0, 43], [2, 90], [4, 75], [9, 11], [3, 69], [1, 28], [6, 46], [5, 46], [7, 72], [8, 30]]\n",
      "Job 00_2:\t[[1, 91], [0, 85], [3, 39], [2, 74], [8, 90], [5, 10], [7, 12], [6, 89], [9, 45], [4, 33]]\n",
      "Job 00_3:\t[[1, 81], [2, 95], [0, 71], [4, 99], [6, 9], [8, 52], [7, 85], [3, 98], [9, 22], [5, 43]]\n",
      "Job 00_4:\t[[2, 14], [0, 6], [1, 22], [5, 61], [3, 26], [4, 69], [8, 21], [7, 49], [9, 72], [6, 53]]\n",
      "Job 00_5:\t[[2, 84], [1, 2], [5, 52], [3, 95], [8, 48], [9, 72], [0, 47], [6, 65], [4, 6], [7, 25]]\n",
      "Job 00_6:\t[[1, 46], [0, 37], [3, 61], [2, 13], [6, 32], [5, 21], [9, 32], [8, 89], [7, 30], [4, 55]]\n",
      "Job 00_7:\t[[2, 31], [0, 86], [1, 46], [5, 74], [4, 32], [6, 88], [8, 19], [9, 48], [7, 36], [3, 79]]\n",
      "Job 00_8:\t[[0, 76], [1, 69], [3, 76], [5, 51], [2, 85], [9, 11], [6, 40], [7, 89], [4, 26], [8, 74]]\n",
      "Job 00_9:\t[[1, 85], [0, 13], [2, 61], [6, 7], [8, 64], [9, 76], [5, 47], [3, 52], [4, 90], [7, 45]]\n"
     ]
    }
   ],
   "source": [
    "day_0 = job_set_list[0]\n",
    "for job_name in sorted(day_0, key=lambda x: int(x.split()[1])):\n",
    "    ops = day_0[job_name]\n",
    "    print(f\"{job_name}:\\t{ops}\")"
   ]
  },
  {
   "cell_type": "code",
   "execution_count": 7,
   "id": "d26779e8-09d9-465a-a617-dcd2d9942cd6",
   "metadata": {},
   "outputs": [
    {
     "data": {
      "text/plain": [
       "dict"
      ]
     },
     "execution_count": 7,
     "metadata": {},
     "output_type": "execute_result"
    }
   ],
   "source": [
    "type(day_0)"
   ]
  },
  {
   "cell_type": "markdown",
   "id": "570b6b95-a23f-4b49-bdaa-f9ac667f5c2e",
   "metadata": {},
   "source": [
    "## I) Mittlere Zwischenankunftszeit t_a"
   ]
  },
  {
   "cell_type": "markdown",
   "id": "a01c7e2b-42a0-4a95-83eb-60c13e55776d",
   "metadata": {},
   "source": [
    "### 1. Vektor der Bearbeitungszeiten auf der Engpassmaschine"
   ]
  },
  {
   "cell_type": "markdown",
   "id": "a1c550b5-2aa1-428d-b548-5495565f0d4c",
   "metadata": {},
   "source": [
    "#### a) Bestimmung der Engpassmaschine (7.12)"
   ]
  },
  {
   "cell_type": "markdown",
   "id": "60dd7941-9864-4e4a-9af2-4272f620f757",
   "metadata": {},
   "source": [
    "$$\n",
    "m_{\\text{max}} = \\arg\\max_{m \\in M} T_m\n",
    "$$"
   ]
  },
  {
   "cell_type": "code",
   "execution_count": 12,
   "id": "033eedb8-93e4-4045-9701-cdd83b96a0c6",
   "metadata": {},
   "outputs": [
    {
     "name": "stdout",
     "output_type": "stream",
     "text": [
      "Engpassmaschine (aus Dict): M3\n"
     ]
    },
    {
     "data": {
      "text/plain": [
       "3"
      ]
     },
     "execution_count": 12,
     "metadata": {},
     "output_type": "execute_result"
    }
   ],
   "source": [
    "def get_engpassmaschine_from_dict(job_dict):\n",
    "    machine_usage = {}\n",
    "    for job_ops in job_dict.values():\n",
    "        for machine, duration in job_ops:\n",
    "            machine_usage[machine] = machine_usage.get(machine, 0) + duration\n",
    "    return max(machine_usage, key=machine_usage.get)\n",
    "\n",
    "# Engpass berechnen\n",
    "engpass = get_engpassmaschine_from_dict(day_0)\n",
    "print(f\"Engpassmaschine (aus Dict): M{engpass}\")\n",
    "\n",
    "get_engpassmaschine_from_dict(day_0)"
   ]
  },
  {
   "cell_type": "markdown",
   "id": "ebfd2937-6290-42dc-bfcb-d3c00d9d1924",
   "metadata": {},
   "source": [
    "#### b) Vektor der Bearbeitungszeiten auf der Engpassmaschine erstellen"
   ]
  },
  {
   "cell_type": "code",
   "execution_count": 14,
   "id": "f2d79754-e40a-4128-9e01-788d7154f4a4",
   "metadata": {},
   "outputs": [
    {
     "data": {
      "text/plain": [
       "[36, 69, 39, 98, 26, 95, 61, 79, 76, 52]"
      ]
     },
     "execution_count": 14,
     "metadata": {},
     "output_type": "execute_result"
    }
   ],
   "source": [
    "def get_vec_t_b_mmax_from_dict(job_dict):\n",
    "    # Engpassmaschine bestimmen – mit bestehender Funktion\n",
    "    engpassmaschine = get_engpassmaschine_from_dict(job_dict)\n",
    "\n",
    "    # Vektor der Bearbeitungszeiten auf der Engpassmaschine\n",
    "    vec_t_b_mmax = []\n",
    "    for job in job_dict.values():\n",
    "        duration = next((d for m, d in job if m == engpassmaschine), 0)\n",
    "        vec_t_b_mmax.append(duration)\n",
    "\n",
    "    return vec_t_b_mmax\n",
    "    \n",
    "get_vec_t_b_mmax_from_dict(day_0)"
   ]
  },
  {
   "cell_type": "markdown",
   "id": "7aa1a34d-2d63-4608-b37d-749aa7507517",
   "metadata": {},
   "source": [
    "### 2. Job-Wahrscheinlichkeiten"
   ]
  },
  {
   "cell_type": "code",
   "execution_count": 16,
   "id": "2f0ae901-8028-4612-aaf4-5b72d6f87703",
   "metadata": {},
   "outputs": [
    {
     "data": {
      "text/plain": [
       "[0.1, 0.1, 0.1, 0.1, 0.1, 0.1, 0.1, 0.1, 0.1, 0.1]"
      ]
     },
     "execution_count": 16,
     "metadata": {},
     "output_type": "execute_result"
    }
   ],
   "source": [
    "# Gleichverteilt \n",
    "n_jobs = len(day_0)\n",
    "[1 / n_jobs] * n_jobs"
   ]
  },
  {
   "cell_type": "markdown",
   "id": "b95c4d42-4fc8-43d0-891d-bbdd13079512",
   "metadata": {},
   "source": [
    "### 3. Berechne die mittlere Zwischenankunftszeit t_a nach Formel (7.16)"
   ]
  },
  {
   "cell_type": "markdown",
   "id": "b57ec635-58bd-4e01-85e4-e9ae8654d752",
   "metadata": {},
   "source": [
    "$$\n",
    "t_a = \\frac{\\vec{p}^T \\cdot \\vec{t}_{b, m_{\\text{max}}}}{u_{b, m_{\\text{max}}}}\n",
    "$$\n",
    "\n",
    "- $t_a$: mittlere Zwischenankunftszeit  \n",
    "- $\\vec{p}$: Vektor der Wahrscheinlichkeiten der Arbeitspläne (bzw. Jobs)  \n",
    "- $\\vec{t}_{b, m_{\\text{max}}}$: Vektor der Bearbeitungszeiten auf der Engpassmaschine  \n",
    "- $u_{b, m_{\\text{max}}}$: gewünschte Auslastung der Engpassmaschine\n"
   ]
  },
  {
   "cell_type": "code",
   "execution_count": 19,
   "id": "282238cf-f19a-4844-a777-b0cab36d0189",
   "metadata": {},
   "outputs": [
    {
     "data": {
      "text/plain": [
       "70.11"
      ]
     },
     "execution_count": 19,
     "metadata": {},
     "output_type": "execute_result"
    }
   ],
   "source": [
    "def get_interarrival_time_from_dict(job_dict, u_b_mmax=0.9):\n",
    "    n_jobs = len(job_dict)\n",
    "    p = [1 / n_jobs] * n_jobs  # Gleichverteilung\n",
    "    vec_t_b_mmax = get_vec_t_b_mmax_from_dict(job_dict)  # Engpass-Zeiten je Job\n",
    "\n",
    "    # Erwartungswert der Zeit auf der Engpassmaschine, skaliert durch Auslastung\n",
    "    t_a = sum(p[i] * vec_t_b_mmax[i] for i in range(n_jobs)) / u_b_mmax\n",
    "    return np.round(t_a, 2)\n",
    "\n",
    "interarrival_time = get_interarrival_time_from_dict(day_0)\n",
    "interarrival_time"
   ]
  },
  {
   "cell_type": "markdown",
   "id": "7bc259bd-223a-4193-bd1f-5e7bf7261a8b",
   "metadata": {},
   "source": [
    "## II) Ankunftszeiten"
   ]
  },
  {
   "cell_type": "code",
   "execution_count": 21,
   "id": "96fba607-a785-4d63-b401-2ce4d2e48b46",
   "metadata": {},
   "outputs": [
    {
     "data": {
      "text/html": [
       "<div>\n",
       "<style scoped>\n",
       "    .dataframe tbody tr th:only-of-type {\n",
       "        vertical-align: middle;\n",
       "    }\n",
       "\n",
       "    .dataframe tbody tr th {\n",
       "        vertical-align: top;\n",
       "    }\n",
       "\n",
       "    .dataframe thead th {\n",
       "        text-align: right;\n",
       "    }\n",
       "</style>\n",
       "<table border=\"1\" class=\"dataframe\">\n",
       "  <thead>\n",
       "    <tr style=\"text-align: right;\">\n",
       "      <th></th>\n",
       "      <th>Job-ID</th>\n",
       "      <th>Day-ID</th>\n",
       "      <th>Ankunftszeit (Minuten)</th>\n",
       "    </tr>\n",
       "  </thead>\n",
       "  <tbody>\n",
       "    <tr>\n",
       "      <th>0</th>\n",
       "      <td>Job 00_5</td>\n",
       "      <td>0</td>\n",
       "      <td>83.59</td>\n",
       "    </tr>\n",
       "    <tr>\n",
       "      <th>1</th>\n",
       "      <td>Job 00_8</td>\n",
       "      <td>0</td>\n",
       "      <td>107.22</td>\n",
       "    </tr>\n",
       "    <tr>\n",
       "      <th>2</th>\n",
       "      <td>Job 00_7</td>\n",
       "      <td>0</td>\n",
       "      <td>125.26</td>\n",
       "    </tr>\n",
       "    <tr>\n",
       "      <th>3</th>\n",
       "      <td>Job 00_0</td>\n",
       "      <td>0</td>\n",
       "      <td>181.45</td>\n",
       "    </tr>\n",
       "    <tr>\n",
       "      <th>4</th>\n",
       "      <td>Job 00_4</td>\n",
       "      <td>0</td>\n",
       "      <td>270.56</td>\n",
       "    </tr>\n",
       "    <tr>\n",
       "      <th>5</th>\n",
       "      <td>Job 00_9</td>\n",
       "      <td>0</td>\n",
       "      <td>309.13</td>\n",
       "    </tr>\n",
       "    <tr>\n",
       "      <th>6</th>\n",
       "      <td>Job 00_3</td>\n",
       "      <td>0</td>\n",
       "      <td>586.13</td>\n",
       "    </tr>\n",
       "    <tr>\n",
       "      <th>7</th>\n",
       "      <td>Job 00_2</td>\n",
       "      <td>0</td>\n",
       "      <td>667.09</td>\n",
       "    </tr>\n",
       "    <tr>\n",
       "      <th>8</th>\n",
       "      <td>Job 00_1</td>\n",
       "      <td>0</td>\n",
       "      <td>713.06</td>\n",
       "    </tr>\n",
       "    <tr>\n",
       "      <th>9</th>\n",
       "      <td>Job 00_6</td>\n",
       "      <td>0</td>\n",
       "      <td>747.96</td>\n",
       "    </tr>\n",
       "  </tbody>\n",
       "</table>\n",
       "</div>"
      ],
      "text/plain": [
       "     Job-ID  Day-ID  Ankunftszeit (Minuten)\n",
       "0  Job 00_5       0                   83.59\n",
       "1  Job 00_8       0                  107.22\n",
       "2  Job 00_7       0                  125.26\n",
       "3  Job 00_0       0                  181.45\n",
       "4  Job 00_4       0                  270.56\n",
       "5  Job 00_9       0                  309.13\n",
       "6  Job 00_3       0                  586.13\n",
       "7  Job 00_2       0                  667.09\n",
       "8  Job 00_1       0                  713.06\n",
       "9  Job 00_6       0                  747.96"
      ]
     },
     "execution_count": 21,
     "metadata": {},
     "output_type": "execute_result"
    }
   ],
   "source": [
    "def generate_daily_jobs(job_dict, u_b_mmax=0.9, day_id=0, random_seed_jobs=12, random_seed_times=123):\n",
    "    job_names = list(job_dict.keys())  # z. B. ['job 00_0', ..., 'job 00_9']\n",
    "    n_jobs = len(job_names)\n",
    "\n",
    "    # Permutiere Jobnamen\n",
    "    np.random.seed(random_seed_jobs)\n",
    "    shuffled_jobs = list(np.random.permutation(job_names))\n",
    "\n",
    "    # Interarrival-Zeit auf Basis der Engpassmaschine\n",
    "    t_a = get_interarrival_time_from_dict(job_dict, u_b_mmax=u_b_mmax)\n",
    "\n",
    "    # Erzeuge Ankunftszeiten\n",
    "    np.random.seed(random_seed_times)\n",
    "    interarrival_times = np.random.exponential(scale=t_a, size=n_jobs)\n",
    "    arrival_times = np.round(np.cumsum(interarrival_times), 2)\n",
    "\n",
    "    df_day = pd.DataFrame({\n",
    "        \"Job-ID\": shuffled_jobs,\n",
    "        \"Day-ID\": [day_id] * n_jobs,\n",
    "        \"Ankunftszeit (Minuten)\": arrival_times\n",
    "    })\n",
    "\n",
    "    return df_day\n",
    "\n",
    "df_arrivals_first_day = generate_daily_jobs(day_0)\n",
    "df_arrivals_first_day"
   ]
  },
  {
   "cell_type": "code",
   "execution_count": 22,
   "id": "dac3b0ec-336e-4c93-984e-b67b1f29668c",
   "metadata": {},
   "outputs": [],
   "source": [
    "def add_day(existing_df, job_dict, u_b_mmax=0.9, day_id=None):\n",
    "    if day_id is None:\n",
    "        day_id = 0 if existing_df.empty else existing_df[\"Day-ID\"].max() + 1\n",
    "\n",
    "    df_new_day = generate_daily_jobs(job_dict, u_b_mmax, day_id=day_id)\n",
    "\n",
    "    return pd.concat([existing_df, df_new_day], ignore_index=True)\n"
   ]
  },
  {
   "cell_type": "code",
   "execution_count": 23,
   "id": "68b41fdc-67b1-4d30-b369-f9d897428b00",
   "metadata": {},
   "outputs": [
    {
     "data": {
      "text/html": [
       "<div>\n",
       "<style scoped>\n",
       "    .dataframe tbody tr th:only-of-type {\n",
       "        vertical-align: middle;\n",
       "    }\n",
       "\n",
       "    .dataframe tbody tr th {\n",
       "        vertical-align: top;\n",
       "    }\n",
       "\n",
       "    .dataframe thead th {\n",
       "        text-align: right;\n",
       "    }\n",
       "</style>\n",
       "<table border=\"1\" class=\"dataframe\">\n",
       "  <thead>\n",
       "    <tr style=\"text-align: right;\">\n",
       "      <th></th>\n",
       "      <th>Job-ID</th>\n",
       "      <th>Day-ID</th>\n",
       "      <th>Ankunftszeit (Minuten)</th>\n",
       "    </tr>\n",
       "  </thead>\n",
       "  <tbody>\n",
       "    <tr>\n",
       "      <th>0</th>\n",
       "      <td>Job 00_5</td>\n",
       "      <td>0</td>\n",
       "      <td>83.59</td>\n",
       "    </tr>\n",
       "    <tr>\n",
       "      <th>1</th>\n",
       "      <td>Job 00_8</td>\n",
       "      <td>0</td>\n",
       "      <td>107.22</td>\n",
       "    </tr>\n",
       "    <tr>\n",
       "      <th>2</th>\n",
       "      <td>Job 00_7</td>\n",
       "      <td>0</td>\n",
       "      <td>125.26</td>\n",
       "    </tr>\n",
       "    <tr>\n",
       "      <th>3</th>\n",
       "      <td>Job 00_0</td>\n",
       "      <td>0</td>\n",
       "      <td>181.45</td>\n",
       "    </tr>\n",
       "    <tr>\n",
       "      <th>4</th>\n",
       "      <td>Job 00_4</td>\n",
       "      <td>0</td>\n",
       "      <td>270.56</td>\n",
       "    </tr>\n",
       "    <tr>\n",
       "      <th>5</th>\n",
       "      <td>Job 00_9</td>\n",
       "      <td>0</td>\n",
       "      <td>309.13</td>\n",
       "    </tr>\n",
       "    <tr>\n",
       "      <th>6</th>\n",
       "      <td>Job 00_3</td>\n",
       "      <td>0</td>\n",
       "      <td>586.13</td>\n",
       "    </tr>\n",
       "    <tr>\n",
       "      <th>7</th>\n",
       "      <td>Job 00_2</td>\n",
       "      <td>0</td>\n",
       "      <td>667.09</td>\n",
       "    </tr>\n",
       "    <tr>\n",
       "      <th>8</th>\n",
       "      <td>Job 00_1</td>\n",
       "      <td>0</td>\n",
       "      <td>713.06</td>\n",
       "    </tr>\n",
       "    <tr>\n",
       "      <th>9</th>\n",
       "      <td>Job 00_6</td>\n",
       "      <td>0</td>\n",
       "      <td>747.96</td>\n",
       "    </tr>\n",
       "    <tr>\n",
       "      <th>10</th>\n",
       "      <td>Job 01_5</td>\n",
       "      <td>1</td>\n",
       "      <td>83.59</td>\n",
       "    </tr>\n",
       "    <tr>\n",
       "      <th>11</th>\n",
       "      <td>Job 01_8</td>\n",
       "      <td>1</td>\n",
       "      <td>107.22</td>\n",
       "    </tr>\n",
       "    <tr>\n",
       "      <th>12</th>\n",
       "      <td>Job 01_7</td>\n",
       "      <td>1</td>\n",
       "      <td>125.26</td>\n",
       "    </tr>\n",
       "    <tr>\n",
       "      <th>13</th>\n",
       "      <td>Job 01_0</td>\n",
       "      <td>1</td>\n",
       "      <td>181.45</td>\n",
       "    </tr>\n",
       "    <tr>\n",
       "      <th>14</th>\n",
       "      <td>Job 01_4</td>\n",
       "      <td>1</td>\n",
       "      <td>270.56</td>\n",
       "    </tr>\n",
       "    <tr>\n",
       "      <th>15</th>\n",
       "      <td>Job 01_9</td>\n",
       "      <td>1</td>\n",
       "      <td>309.13</td>\n",
       "    </tr>\n",
       "    <tr>\n",
       "      <th>16</th>\n",
       "      <td>Job 01_3</td>\n",
       "      <td>1</td>\n",
       "      <td>586.13</td>\n",
       "    </tr>\n",
       "    <tr>\n",
       "      <th>17</th>\n",
       "      <td>Job 01_2</td>\n",
       "      <td>1</td>\n",
       "      <td>667.09</td>\n",
       "    </tr>\n",
       "    <tr>\n",
       "      <th>18</th>\n",
       "      <td>Job 01_1</td>\n",
       "      <td>1</td>\n",
       "      <td>713.06</td>\n",
       "    </tr>\n",
       "    <tr>\n",
       "      <th>19</th>\n",
       "      <td>Job 01_6</td>\n",
       "      <td>1</td>\n",
       "      <td>747.96</td>\n",
       "    </tr>\n",
       "  </tbody>\n",
       "</table>\n",
       "</div>"
      ],
      "text/plain": [
       "      Job-ID  Day-ID  Ankunftszeit (Minuten)\n",
       "0   Job 00_5       0                   83.59\n",
       "1   Job 00_8       0                  107.22\n",
       "2   Job 00_7       0                  125.26\n",
       "3   Job 00_0       0                  181.45\n",
       "4   Job 00_4       0                  270.56\n",
       "5   Job 00_9       0                  309.13\n",
       "6   Job 00_3       0                  586.13\n",
       "7   Job 00_2       0                  667.09\n",
       "8   Job 00_1       0                  713.06\n",
       "9   Job 00_6       0                  747.96\n",
       "10  Job 01_5       1                   83.59\n",
       "11  Job 01_8       1                  107.22\n",
       "12  Job 01_7       1                  125.26\n",
       "13  Job 01_0       1                  181.45\n",
       "14  Job 01_4       1                  270.56\n",
       "15  Job 01_9       1                  309.13\n",
       "16  Job 01_3       1                  586.13\n",
       "17  Job 01_2       1                  667.09\n",
       "18  Job 01_1       1                  713.06\n",
       "19  Job 01_6       1                  747.96"
      ]
     },
     "execution_count": 23,
     "metadata": {},
     "output_type": "execute_result"
    }
   ],
   "source": [
    "day_1 = job_set_list[1]\n",
    "\n",
    "df_arrivals_week = add_day(df_arrivals_first_day, day_1)\n",
    "df_arrivals_week"
   ]
  },
  {
   "cell_type": "markdown",
   "id": "6bac79ff-14a8-4327-a290-111e6de26e61",
   "metadata": {},
   "source": [
    "## III) Scheduling"
   ]
  },
  {
   "cell_type": "markdown",
   "id": "bb7405d5-7ab1-41d0-8c5c-67ca2ca2e6ce",
   "metadata": {},
   "source": [
    "### a) First Come First Serve"
   ]
  },
  {
   "cell_type": "code",
   "execution_count": 26,
   "id": "88e329a0-5560-4624-b448-2b8dae0d9516",
   "metadata": {},
   "outputs": [],
   "source": [
    "import pandas as pd\n",
    "\n",
    "def schedule_fcfs_with_arrivals(job_dict, arrival_df):\n",
    "    # Ankunftszeiten als Dict – Keys sind z. B. \"job 00_0\", \"job 00_1\", ...\n",
    "    arrival_times = arrival_df.set_index(\"Job-ID\")[\"Ankunftszeit (Minuten)\"].to_dict()\n",
    "\n",
    "    # Initialisierungen\n",
    "    job_ready = {job_id: arrival_times[job_id] for job_id in job_dict}\n",
    "    machine_ready = {}\n",
    "    schedule = []\n",
    "\n",
    "    # Sortiere Jobs nach Ankunftszeit\n",
    "    sorted_jobs = arrival_df.sort_values(by=\"Ankunftszeit (Minuten)\")[\"Job-ID\"].tolist()\n",
    "\n",
    "    # FCFS-Planung\n",
    "    for job_id in sorted_jobs:\n",
    "        for machine, duration in job_dict[job_id]:\n",
    "            start = max(job_ready[job_id], machine_ready.get(machine, 0))\n",
    "            end = start + duration\n",
    "\n",
    "            schedule.append({\n",
    "                'Job': job_id,\n",
    "                'Machine': f'M{machine}',\n",
    "                'Start': start,\n",
    "                'Duration': duration,\n",
    "                'End': end\n",
    "            })\n",
    "\n",
    "            job_ready[job_id] = end\n",
    "            machine_ready[machine] = end\n",
    "\n",
    "    return pd.DataFrame(schedule)\n",
    "\n"
   ]
  },
  {
   "cell_type": "code",
   "execution_count": 27,
   "id": "e5fb8357-b381-4627-9e48-a887ecb5a891",
   "metadata": {},
   "outputs": [
    {
     "data": {
      "text/html": [
       "<div>\n",
       "<style scoped>\n",
       "    .dataframe tbody tr th:only-of-type {\n",
       "        vertical-align: middle;\n",
       "    }\n",
       "\n",
       "    .dataframe tbody tr th {\n",
       "        vertical-align: top;\n",
       "    }\n",
       "\n",
       "    .dataframe thead th {\n",
       "        text-align: right;\n",
       "    }\n",
       "</style>\n",
       "<table border=\"1\" class=\"dataframe\">\n",
       "  <thead>\n",
       "    <tr style=\"text-align: right;\">\n",
       "      <th></th>\n",
       "      <th>Job</th>\n",
       "      <th>Machine</th>\n",
       "      <th>Start</th>\n",
       "      <th>Duration</th>\n",
       "      <th>End</th>\n",
       "    </tr>\n",
       "  </thead>\n",
       "  <tbody>\n",
       "    <tr>\n",
       "      <th>0</th>\n",
       "      <td>Job 00_5</td>\n",
       "      <td>M2</td>\n",
       "      <td>83.59</td>\n",
       "      <td>84</td>\n",
       "      <td>167.59</td>\n",
       "    </tr>\n",
       "    <tr>\n",
       "      <th>1</th>\n",
       "      <td>Job 00_5</td>\n",
       "      <td>M1</td>\n",
       "      <td>167.59</td>\n",
       "      <td>2</td>\n",
       "      <td>169.59</td>\n",
       "    </tr>\n",
       "    <tr>\n",
       "      <th>2</th>\n",
       "      <td>Job 00_5</td>\n",
       "      <td>M5</td>\n",
       "      <td>169.59</td>\n",
       "      <td>52</td>\n",
       "      <td>221.59</td>\n",
       "    </tr>\n",
       "    <tr>\n",
       "      <th>3</th>\n",
       "      <td>Job 00_5</td>\n",
       "      <td>M3</td>\n",
       "      <td>221.59</td>\n",
       "      <td>95</td>\n",
       "      <td>316.59</td>\n",
       "    </tr>\n",
       "    <tr>\n",
       "      <th>4</th>\n",
       "      <td>Job 00_5</td>\n",
       "      <td>M8</td>\n",
       "      <td>316.59</td>\n",
       "      <td>48</td>\n",
       "      <td>364.59</td>\n",
       "    </tr>\n",
       "    <tr>\n",
       "      <th>...</th>\n",
       "      <td>...</td>\n",
       "      <td>...</td>\n",
       "      <td>...</td>\n",
       "      <td>...</td>\n",
       "      <td>...</td>\n",
       "    </tr>\n",
       "    <tr>\n",
       "      <th>95</th>\n",
       "      <td>Job 00_6</td>\n",
       "      <td>M5</td>\n",
       "      <td>3275.59</td>\n",
       "      <td>21</td>\n",
       "      <td>3296.59</td>\n",
       "    </tr>\n",
       "    <tr>\n",
       "      <th>96</th>\n",
       "      <td>Job 00_6</td>\n",
       "      <td>M9</td>\n",
       "      <td>3296.59</td>\n",
       "      <td>32</td>\n",
       "      <td>3328.59</td>\n",
       "    </tr>\n",
       "    <tr>\n",
       "      <th>97</th>\n",
       "      <td>Job 00_6</td>\n",
       "      <td>M8</td>\n",
       "      <td>3328.59</td>\n",
       "      <td>89</td>\n",
       "      <td>3417.59</td>\n",
       "    </tr>\n",
       "    <tr>\n",
       "      <th>98</th>\n",
       "      <td>Job 00_6</td>\n",
       "      <td>M7</td>\n",
       "      <td>3417.59</td>\n",
       "      <td>30</td>\n",
       "      <td>3447.59</td>\n",
       "    </tr>\n",
       "    <tr>\n",
       "      <th>99</th>\n",
       "      <td>Job 00_6</td>\n",
       "      <td>M4</td>\n",
       "      <td>3447.59</td>\n",
       "      <td>55</td>\n",
       "      <td>3502.59</td>\n",
       "    </tr>\n",
       "  </tbody>\n",
       "</table>\n",
       "<p>100 rows × 5 columns</p>\n",
       "</div>"
      ],
      "text/plain": [
       "         Job Machine    Start  Duration      End\n",
       "0   Job 00_5      M2    83.59        84   167.59\n",
       "1   Job 00_5      M1   167.59         2   169.59\n",
       "2   Job 00_5      M5   169.59        52   221.59\n",
       "3   Job 00_5      M3   221.59        95   316.59\n",
       "4   Job 00_5      M8   316.59        48   364.59\n",
       "..       ...     ...      ...       ...      ...\n",
       "95  Job 00_6      M5  3275.59        21  3296.59\n",
       "96  Job 00_6      M9  3296.59        32  3328.59\n",
       "97  Job 00_6      M8  3328.59        89  3417.59\n",
       "98  Job 00_6      M7  3417.59        30  3447.59\n",
       "99  Job 00_6      M4  3447.59        55  3502.59\n",
       "\n",
       "[100 rows x 5 columns]"
      ]
     },
     "execution_count": 27,
     "metadata": {},
     "output_type": "execute_result"
    }
   ],
   "source": [
    "df_fcfs = schedule_fcfs_with_arrivals(day_0, df_arrivals_first_day)\n",
    "df_fcfs"
   ]
  },
  {
   "cell_type": "code",
   "execution_count": 28,
   "id": "7fcf2ebf-bced-4d3b-b516-9f1e7f860616",
   "metadata": {},
   "outputs": [
    {
     "data": {
      "image/png": "[encoded data removed]",
      "text/plain": [
       "<Figure size 1400x800 with 1 Axes>"
      ]
     },
     "metadata": {},
     "output_type": "display_data"
    },
    {
     "data": {
      "image/png": "[encoded data removed]",
      "text/plain": [
       "<Figure size 1400x800 with 1 Axes>"
      ]
     },
     "metadata": {},
     "output_type": "display_data"
    }
   ],
   "source": [
    "category = \"First Come First Serve\"\n",
    "\n",
    "plot_gantt_jobs(df_fcfs, 'Gantt-Diagramm für \"{}\"'.format(category))\n",
    "plot_gantt_machines(df_fcfs, 'Gantt-Diagramm für \"{}\"'.format(category))"
   ]
  },
  {
   "cell_type": "code",
   "execution_count": 29,
   "id": "2ea89f9a-69dc-438b-8776-6e7780655683",
   "metadata": {},
   "outputs": [
    {
     "name": "stdout",
     "output_type": "stream",
     "text": [
      "Gefundene Konflikte auf Maschinen: 0\n",
      "\n",
      "Anzahl verletzter Job-Maschinen-Reihenfolgen: 0\n"
     ]
    },
    {
     "data": {
      "text/plain": [
       "True"
      ]
     },
     "execution_count": 29,
     "metadata": {},
     "output_type": "execute_result"
    }
   ],
   "source": [
    "check_machine_conflicts(df_fcfs)\n",
    "check_job_machine_sequence_dict(df_fcfs, day_0)"
   ]
  },
  {
   "cell_type": "markdown",
   "id": "be416a1c-2421-4502-b4c2-90ec8832b046",
   "metadata": {},
   "source": [
    "### b) HiGHS"
   ]
  },
  {
   "cell_type": "code",
   "execution_count": 31,
   "id": "8d62fa39-776a-4eab-9b51-86378205a7cd",
   "metadata": {},
   "outputs": [],
   "source": [
    "import pulp\n",
    "import pandas as pd\n",
    "\n",
    "def solve_jobshop_optimal(job_dict, df_arrivals, solver_time_limit=300):\n",
    "    job_names = list(job_dict.keys())\n",
    "    num_jobs = len(job_names)\n",
    "    all_ops = list(job_dict.values())\n",
    "\n",
    "    # Maschinen extrahieren\n",
    "    all_machines = {op[0] for job in all_ops for op in job}\n",
    "    num_machines = len(all_machines)\n",
    "\n",
    "    # LP-Problem definieren\n",
    "    prob = pulp.LpProblem(\"JobShop_Optimal_HiGHS\", pulp.LpMinimize)\n",
    "\n",
    "    # Variablen: Startzeiten\n",
    "    starts = {\n",
    "        (j, o): pulp.LpVariable(f\"start_{j}_{o}\", lowBound=0, cat=\"Continuous\")\n",
    "        for j in range(num_jobs) for o in range(len(all_ops[j]))\n",
    "    }\n",
    "\n",
    "    # Makespan-Variable\n",
    "    makespan = pulp.LpVariable(\"makespan\", lowBound=0, cat=\"Continuous\")\n",
    "    prob += makespan  # Ziel: Makespan minimieren\n",
    "\n",
    "    # Ankunftszeiten (aus df)\n",
    "    arrival_times = df_arrivals.set_index(\"Job-ID\")[\"Ankunftszeit (Minuten)\"].to_dict()\n",
    "\n",
    "    # Technologische Reihenfolge inkl. Ankunftszeit\n",
    "    for j, job_name in enumerate(job_names):\n",
    "        job = job_dict[job_name]\n",
    "        prob += starts[(j, 0)] >= arrival_times[job_name]\n",
    "        for o in range(1, len(job)):\n",
    "            d_prev = job[o - 1][1]\n",
    "            prob += starts[(j, o)] >= starts[(j, o - 1)] + d_prev\n",
    "\n",
    "    # Maschinenkonflikte\n",
    "    bigM = 1e5\n",
    "    for m in all_machines:\n",
    "        ops = [(j, o, d) for j in range(num_jobs)\n",
    "               for o, (mach, d) in enumerate(all_ops[j]) if mach == m]\n",
    "        for i in range(len(ops)):\n",
    "            j1, o1, d1 = ops[i]\n",
    "            for j2, o2, d2 in ops[i + 1:]:\n",
    "                if j1 != j2:\n",
    "                    y = pulp.LpVariable(f\"y_{j1}_{o1}_{j2}_{o2}\", cat=\"Binary\")\n",
    "                    prob += starts[(j1, o1)] + d1 <= starts[(j2, o2)] + bigM * (1 - y)\n",
    "                    prob += starts[(j2, o2)] + d2 <= starts[(j1, o1)] + bigM * y\n",
    "\n",
    "    # Makespan-Bedingung\n",
    "    for j in range(num_jobs):\n",
    "        last_op = len(all_ops[j]) - 1\n",
    "        prob += makespan >= starts[(j, last_op)] + all_ops[j][last_op][1]\n",
    "\n",
    "    # Solver starten\n",
    "    solver = pulp.HiGHS_CMD(msg=True, timeLimit=solver_time_limit)\n",
    "    prob.solve(solver)\n",
    "\n",
    "    # Ergebnis extrahieren\n",
    "    schedule_data = []\n",
    "    for (j, o), var in sorted(starts.items()):\n",
    "        start = var.varValue\n",
    "        if start is not None:\n",
    "            machine, duration = all_ops[j][o]\n",
    "            end = start + duration\n",
    "            schedule_data.append({\n",
    "                \"Job\": job_names[j],  # verwende den echten Namen, z. B. \"job 00_3\"\n",
    "                \"Machine\": f\"M{machine}\",\n",
    "                \"Start\": round(start, 1),\n",
    "                \"Duration\": duration,\n",
    "                \"End\": round(end, 1)\n",
    "            })\n",
    "\n",
    "    df_schedule = pd.DataFrame(schedule_data)\n",
    "    makespan_value = round(pulp.value(makespan), 2)\n",
    "\n",
    "    return df_schedule, makespan_value"
   ]
  },
  {
   "cell_type": "code",
   "execution_count": 32,
   "id": "4fd79552-0899-4b6d-b633-12f13bd43f2e",
   "metadata": {},
   "outputs": [
    {
     "name": "stdout",
     "output_type": "stream",
     "text": [
      "Optimaler Makespan: 1346.13 Zeiteinheiten\n"
     ]
    }
   ],
   "source": [
    "df_schedule_highs, opt_makespan = solve_jobshop_optimal(day_0, df_arrivals_first_day)\n",
    "print(f\"Optimaler Makespan: {opt_makespan} Zeiteinheiten\")"
   ]
  },
  {
   "cell_type": "code",
   "execution_count": 33,
   "id": "9e337fea-34ed-4770-8e1a-4cf374ff5bd8",
   "metadata": {},
   "outputs": [
    {
     "data": {
      "text/html": [
       "<div>\n",
       "<style scoped>\n",
       "    .dataframe tbody tr th:only-of-type {\n",
       "        vertical-align: middle;\n",
       "    }\n",
       "\n",
       "    .dataframe tbody tr th {\n",
       "        vertical-align: top;\n",
       "    }\n",
       "\n",
       "    .dataframe thead th {\n",
       "        text-align: right;\n",
       "    }\n",
       "</style>\n",
       "<table border=\"1\" class=\"dataframe\">\n",
       "  <thead>\n",
       "    <tr style=\"text-align: right;\">\n",
       "      <th></th>\n",
       "      <th>Job</th>\n",
       "      <th>Machine</th>\n",
       "      <th>Start</th>\n",
       "      <th>Duration</th>\n",
       "      <th>End</th>\n",
       "    </tr>\n",
       "  </thead>\n",
       "  <tbody>\n",
       "    <tr>\n",
       "      <th>0</th>\n",
       "      <td>Job 00_0</td>\n",
       "      <td>M0</td>\n",
       "      <td>410.6</td>\n",
       "      <td>29</td>\n",
       "      <td>439.6</td>\n",
       "    </tr>\n",
       "    <tr>\n",
       "      <th>1</th>\n",
       "      <td>Job 00_0</td>\n",
       "      <td>M1</td>\n",
       "      <td>443.6</td>\n",
       "      <td>78</td>\n",
       "      <td>521.6</td>\n",
       "    </tr>\n",
       "    <tr>\n",
       "      <th>2</th>\n",
       "      <td>Job 00_0</td>\n",
       "      <td>M2</td>\n",
       "      <td>658.1</td>\n",
       "      <td>9</td>\n",
       "      <td>667.1</td>\n",
       "    </tr>\n",
       "    <tr>\n",
       "      <th>3</th>\n",
       "      <td>Job 00_0</td>\n",
       "      <td>M3</td>\n",
       "      <td>728.1</td>\n",
       "      <td>36</td>\n",
       "      <td>764.1</td>\n",
       "    </tr>\n",
       "    <tr>\n",
       "      <th>4</th>\n",
       "      <td>Job 00_0</td>\n",
       "      <td>M4</td>\n",
       "      <td>808.2</td>\n",
       "      <td>49</td>\n",
       "      <td>857.2</td>\n",
       "    </tr>\n",
       "    <tr>\n",
       "      <th>...</th>\n",
       "      <td>...</td>\n",
       "      <td>...</td>\n",
       "      <td>...</td>\n",
       "      <td>...</td>\n",
       "      <td>...</td>\n",
       "    </tr>\n",
       "    <tr>\n",
       "      <th>95</th>\n",
       "      <td>Job 00_9</td>\n",
       "      <td>M9</td>\n",
       "      <td>543.2</td>\n",
       "      <td>76</td>\n",
       "      <td>619.2</td>\n",
       "    </tr>\n",
       "    <tr>\n",
       "      <th>96</th>\n",
       "      <td>Job 00_9</td>\n",
       "      <td>M5</td>\n",
       "      <td>619.2</td>\n",
       "      <td>47</td>\n",
       "      <td>666.2</td>\n",
       "    </tr>\n",
       "    <tr>\n",
       "      <th>97</th>\n",
       "      <td>Job 00_9</td>\n",
       "      <td>M3</td>\n",
       "      <td>666.2</td>\n",
       "      <td>52</td>\n",
       "      <td>718.2</td>\n",
       "    </tr>\n",
       "    <tr>\n",
       "      <th>98</th>\n",
       "      <td>Job 00_9</td>\n",
       "      <td>M4</td>\n",
       "      <td>718.2</td>\n",
       "      <td>90</td>\n",
       "      <td>808.2</td>\n",
       "    </tr>\n",
       "    <tr>\n",
       "      <th>99</th>\n",
       "      <td>Job 00_9</td>\n",
       "      <td>M7</td>\n",
       "      <td>808.2</td>\n",
       "      <td>45</td>\n",
       "      <td>853.2</td>\n",
       "    </tr>\n",
       "  </tbody>\n",
       "</table>\n",
       "<p>100 rows × 5 columns</p>\n",
       "</div>"
      ],
      "text/plain": [
       "         Job Machine  Start  Duration    End\n",
       "0   Job 00_0      M0  410.6        29  439.6\n",
       "1   Job 00_0      M1  443.6        78  521.6\n",
       "2   Job 00_0      M2  658.1         9  667.1\n",
       "3   Job 00_0      M3  728.1        36  764.1\n",
       "4   Job 00_0      M4  808.2        49  857.2\n",
       "..       ...     ...    ...       ...    ...\n",
       "95  Job 00_9      M9  543.2        76  619.2\n",
       "96  Job 00_9      M5  619.2        47  666.2\n",
       "97  Job 00_9      M3  666.2        52  718.2\n",
       "98  Job 00_9      M4  718.2        90  808.2\n",
       "99  Job 00_9      M7  808.2        45  853.2\n",
       "\n",
       "[100 rows x 5 columns]"
      ]
     },
     "execution_count": 33,
     "metadata": {},
     "output_type": "execute_result"
    }
   ],
   "source": [
    "df_schedule_highs"
   ]
  },
  {
   "cell_type": "code",
   "execution_count": 34,
   "id": "d15d0e95-e5ab-4760-92d3-11bf640971c9",
   "metadata": {},
   "outputs": [
    {
     "data": {
      "image/png": "[encoded data removed]",
      "text/plain": [
       "<Figure size 1400x800 with 1 Axes>"
      ]
     },
     "metadata": {},
     "output_type": "display_data"
    },
    {
     "data": {
      "image/png": "[encoded data removed]",
      "text/plain": [
       "<Figure size 1400x800 with 1 Axes>"
      ]
     },
     "metadata": {},
     "output_type": "display_data"
    }
   ],
   "source": [
    "df = df_schedule_highs\n",
    "category = \"HiGHS - High Performance Serial and Parallel Solver\"\n",
    "\n",
    "plot_gantt_jobs(df, 'Gantt-Diagramm für \"{}\"'.format(category))\n",
    "plot_gantt_machines(df, 'Gantt-Diagramm für \"{}\"'.format(category))"
   ]
  },
  {
   "cell_type": "code",
   "execution_count": 35,
   "id": "3ff06bf5-db5c-43d7-8a26-553a0634f308",
   "metadata": {},
   "outputs": [
    {
     "name": "stdout",
     "output_type": "stream",
     "text": [
      "Gefundene Konflikte auf Maschinen: 0\n",
      "\n",
      "Anzahl verletzter Job-Maschinen-Reihenfolgen: 0\n"
     ]
    },
    {
     "data": {
      "text/plain": [
       "True"
      ]
     },
     "execution_count": 35,
     "metadata": {},
     "output_type": "execute_result"
    }
   ],
   "source": [
    "check_machine_conflicts(df_schedule_highs)\n",
    "check_job_machine_sequence_dict(df_schedule_highs, day_0)"
   ]
  },
  {
   "cell_type": "code",
   "execution_count": 36,
   "id": "77c0eea0-d962-49cd-ad12-a7cddac3f2b7",
   "metadata": {},
   "outputs": [
    {
     "data": {
      "text/plain": [
       "1346.1"
      ]
     },
     "execution_count": 36,
     "metadata": {},
     "output_type": "execute_result"
    }
   ],
   "source": [
    "max(df_schedule_highs.End)"
   ]
  },
  {
   "cell_type": "markdown",
   "id": "03f5339e-c6ec-464d-8f78-2bc4c8658adf",
   "metadata": {},
   "source": [
    "### Export"
   ]
  },
  {
   "cell_type": "code",
   "execution_count": 38,
   "id": "f1e5118c-1b46-4185-b581-99637fe0397b",
   "metadata": {},
   "outputs": [
    {
     "data": {
      "text/html": [
       "<div>\n",
       "<style scoped>\n",
       "    .dataframe tbody tr th:only-of-type {\n",
       "        vertical-align: middle;\n",
       "    }\n",
       "\n",
       "    .dataframe tbody tr th {\n",
       "        vertical-align: top;\n",
       "    }\n",
       "\n",
       "    .dataframe thead th {\n",
       "        text-align: right;\n",
       "    }\n",
       "</style>\n",
       "<table border=\"1\" class=\"dataframe\">\n",
       "  <thead>\n",
       "    <tr style=\"text-align: right;\">\n",
       "      <th></th>\n",
       "      <th>Job</th>\n",
       "      <th>Machine</th>\n",
       "      <th>Start</th>\n",
       "      <th>Duration</th>\n",
       "      <th>End</th>\n",
       "    </tr>\n",
       "  </thead>\n",
       "  <tbody>\n",
       "    <tr>\n",
       "      <th>0</th>\n",
       "      <td>Job 00_8</td>\n",
       "      <td>M0</td>\n",
       "      <td>107.2</td>\n",
       "      <td>76</td>\n",
       "      <td>183.2</td>\n",
       "    </tr>\n",
       "    <tr>\n",
       "      <th>1</th>\n",
       "      <td>Job 00_7</td>\n",
       "      <td>M2</td>\n",
       "      <td>125.3</td>\n",
       "      <td>31</td>\n",
       "      <td>156.3</td>\n",
       "    </tr>\n",
       "    <tr>\n",
       "      <th>2</th>\n",
       "      <td>Job 00_5</td>\n",
       "      <td>M2</td>\n",
       "      <td>156.3</td>\n",
       "      <td>84</td>\n",
       "      <td>240.3</td>\n",
       "    </tr>\n",
       "    <tr>\n",
       "      <th>3</th>\n",
       "      <td>Job 00_7</td>\n",
       "      <td>M0</td>\n",
       "      <td>183.2</td>\n",
       "      <td>86</td>\n",
       "      <td>269.2</td>\n",
       "    </tr>\n",
       "    <tr>\n",
       "      <th>4</th>\n",
       "      <td>Job 00_8</td>\n",
       "      <td>M1</td>\n",
       "      <td>183.2</td>\n",
       "      <td>69</td>\n",
       "      <td>252.2</td>\n",
       "    </tr>\n",
       "    <tr>\n",
       "      <th>...</th>\n",
       "      <td>...</td>\n",
       "      <td>...</td>\n",
       "      <td>...</td>\n",
       "      <td>...</td>\n",
       "      <td>...</td>\n",
       "    </tr>\n",
       "    <tr>\n",
       "      <th>95</th>\n",
       "      <td>Job 00_3</td>\n",
       "      <td>M9</td>\n",
       "      <td>1281.1</td>\n",
       "      <td>22</td>\n",
       "      <td>1303.1</td>\n",
       "    </tr>\n",
       "    <tr>\n",
       "      <th>96</th>\n",
       "      <td>Job 00_6</td>\n",
       "      <td>M4</td>\n",
       "      <td>1291.1</td>\n",
       "      <td>55</td>\n",
       "      <td>1346.1</td>\n",
       "    </tr>\n",
       "    <tr>\n",
       "      <th>97</th>\n",
       "      <td>Job 00_3</td>\n",
       "      <td>M5</td>\n",
       "      <td>1303.1</td>\n",
       "      <td>43</td>\n",
       "      <td>1346.1</td>\n",
       "    </tr>\n",
       "    <tr>\n",
       "      <th>98</th>\n",
       "      <td>Job 00_0</td>\n",
       "      <td>M9</td>\n",
       "      <td>1305.1</td>\n",
       "      <td>21</td>\n",
       "      <td>1326.1</td>\n",
       "    </tr>\n",
       "    <tr>\n",
       "      <th>99</th>\n",
       "      <td>Job 00_1</td>\n",
       "      <td>M8</td>\n",
       "      <td>1305.1</td>\n",
       "      <td>30</td>\n",
       "      <td>1335.1</td>\n",
       "    </tr>\n",
       "  </tbody>\n",
       "</table>\n",
       "<p>100 rows × 5 columns</p>\n",
       "</div>"
      ],
      "text/plain": [
       "         Job Machine   Start  Duration     End\n",
       "0   Job 00_8      M0   107.2        76   183.2\n",
       "1   Job 00_7      M2   125.3        31   156.3\n",
       "2   Job 00_5      M2   156.3        84   240.3\n",
       "3   Job 00_7      M0   183.2        86   269.2\n",
       "4   Job 00_8      M1   183.2        69   252.2\n",
       "..       ...     ...     ...       ...     ...\n",
       "95  Job 00_3      M9  1281.1        22  1303.1\n",
       "96  Job 00_6      M4  1291.1        55  1346.1\n",
       "97  Job 00_3      M5  1303.1        43  1346.1\n",
       "98  Job 00_0      M9  1305.1        21  1326.1\n",
       "99  Job 00_1      M8  1305.1        30  1335.1\n",
       "\n",
       "[100 rows x 5 columns]"
      ]
     },
     "execution_count": 38,
     "metadata": {},
     "output_type": "execute_result"
    }
   ],
   "source": [
    "# Nach Startzeit sortieren\n",
    "df_schedule_highs = df_schedule_highs.sort_values(by=\"Start\").reset_index(drop=True)\n",
    "df_schedule_highs"
   ]
  },
  {
   "cell_type": "code",
   "execution_count": 39,
   "id": "ffa496fc-89e3-4b31-b626-68c3199cbd68",
   "metadata": {},
   "outputs": [],
   "source": [
    "df_schedule_highs.to_csv(\"output/schedule_day0.csv\", index = False)"
   ]
  },
  {
   "cell_type": "code",
   "execution_count": null,
   "id": "5f31fd66-4d0a-4903-96b3-e08150e064ec",
   "metadata": {},
   "outputs": [],
   "source": []
  }
 ],
 "metadata": {
  "kernelspec": {
   "display_name": "Python [conda env:base] *",
   "language": "python",
   "name": "conda-base-py"
  },
  "language_info": {
   "codemirror_mode": {
    "name": "ipython",
    "version": 3
   },
   "file_extension": ".py",
   "mimetype": "text/x-python",
   "name": "python",
   "nbconvert_exporter": "python",
   "pygments_lexer": "ipython3",
   "version": "3.12.9"
  }
 },
 "nbformat": 4,
 "nbformat_minor": 5
}
